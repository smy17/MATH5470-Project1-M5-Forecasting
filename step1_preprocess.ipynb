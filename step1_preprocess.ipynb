{
 "cells": [
  {
   "cell_type": "code",
   "execution_count": null,
   "metadata": {},
   "outputs": [],
   "source": [
    "import numpy as np\n",
    "import pandas as pd\n",
    "import os, sys, gc, time, warnings, pickle, psutil, random\n",
    "from math import ceil\n",
    "from sklearn.preprocessing import LabelEncoder\n",
    "from tqdm import tqdm\n",
    " \n",
    "raw_path = 'data/raw/'\n",
    "preprocessed_path = 'data/preprocessed/'"
   ]
  },
  {
   "cell_type": "code",
   "execution_count": null,
   "metadata": {},
   "outputs": [],
   "source": [
    "def get_memory_usage():\n",
    "    return np.round(psutil.Process(os.getpid()).memory_info()[0]/2.**30, 2) \n",
    "        \n",
    "def sizeof_fmt(num, suffix='B'):\n",
    "    for unit in ['','Ki','Mi','Gi','Ti','Pi','Ei','Zi']:\n",
    "        if abs(num) < 1024.0:\n",
    "            return \"%3.1f%s%s\" % (num, unit, suffix)\n",
    "        num /= 1024.0\n",
    "    return \"%.1f%s%s\" % (num, 'Yi', suffix)"
   ]
  },
  {
   "cell_type": "code",
   "execution_count": null,
   "metadata": {},
   "outputs": [],
   "source": [
    "def reduce_mem_usage(df, verbose=True):\n",
    "    numerics = ['int16', 'int32', 'int64', 'float16', 'float32', 'float64']\n",
    "    start_mem = df.memory_usage().sum() / 1024**2    \n",
    "    for col in df.columns:\n",
    "        col_type = df[col].dtypes\n",
    "        if col_type in numerics:\n",
    "            c_min = df[col].min()\n",
    "            c_max = df[col].max()\n",
    "            if str(col_type)[:3] == 'int':\n",
    "                if c_min > np.iinfo(np.int8).min and c_max < np.iinfo(np.int8).max:\n",
    "                    df[col] = df[col].astype(np.int8)\n",
    "                elif c_min > np.iinfo(np.int16).min and c_max < np.iinfo(np.int16).max:\n",
    "                       df[col] = df[col].astype(np.int16)\n",
    "                elif c_min > np.iinfo(np.int32).min and c_max < np.iinfo(np.int32).max:\n",
    "                    df[col] = df[col].astype(np.int32)\n",
    "                elif c_min > np.iinfo(np.int64).min and c_max < np.iinfo(np.int64).max:\n",
    "                    df[col] = df[col].astype(np.int64)  \n",
    "            else:\n",
    "                if c_min > np.finfo(np.float16).min and c_max < np.finfo(np.float16).max:\n",
    "                    df[col] = df[col].astype(np.float16)\n",
    "                elif c_min > np.finfo(np.float32).min and c_max < np.finfo(np.float32).max:\n",
    "                    df[col] = df[col].astype(np.float32)\n",
    "                else:\n",
    "                    df[col] = df[col].astype(np.float64)    \n",
    "    end_mem = df.memory_usage().sum() / 1024**2\n",
    "    if verbose: print('Mem. usage decreased to {:5.2f} Mb ({:.1f}% reduction)'.format(end_mem, 100 * (start_mem - end_mem) / start_mem))\n",
    "    return df\n"
   ]
  },
  {
   "cell_type": "code",
   "execution_count": null,
   "metadata": {},
   "outputs": [],
   "source": [
    "def merge_by_concat(df1, df2, merge_on):\n",
    "    merged_gf = df1[merge_on]\n",
    "    merged_gf = merged_gf.merge(df2, on=merge_on, how='left')\n",
    "    new_columns = [col for col in list(merged_gf) if col not in merge_on]\n",
    "    df1 = pd.concat([df1, merged_gf[new_columns]], axis=1)\n",
    "    return df1"
   ]
  },
  {
   "cell_type": "code",
   "execution_count": null,
   "metadata": {},
   "outputs": [],
   "source": [
    "TARGET = 'sales'         \n",
    "END_TRAIN = 1941         \n",
    "MAIN_INDEX = ['id','d'] "
   ]
  },
  {
   "cell_type": "code",
   "execution_count": null,
   "metadata": {},
   "outputs": [
    {
     "name": "stdout",
     "output_type": "stream",
     "text": [
      "Load Main Data\n"
     ]
    }
   ],
   "source": [
    "print('Load Main Data')\n",
    "\n",
    "train_df = pd.read_csv(raw_path+'sales_train_evaluation.csv')\n",
    "prices_df = pd.read_csv(raw_path+'sell_prices.csv')\n",
    "calendar_df = pd.read_csv(raw_path+'calendar.csv')"
   ]
  },
  {
   "cell_type": "code",
   "execution_count": 11,
   "metadata": {},
   "outputs": [
    {
     "data": {
      "application/vnd.microsoft.datawrangler.viewer.v0+json": {
       "columns": [
        {
         "name": "index",
         "rawType": "int64",
         "type": "integer"
        },
        {
         "name": "id",
         "rawType": "object",
         "type": "string"
        },
        {
         "name": "item_id",
         "rawType": "object",
         "type": "string"
        },
        {
         "name": "dept_id",
         "rawType": "object",
         "type": "string"
        },
        {
         "name": "cat_id",
         "rawType": "object",
         "type": "string"
        },
        {
         "name": "store_id",
         "rawType": "object",
         "type": "string"
        },
        {
         "name": "state_id",
         "rawType": "object",
         "type": "string"
        },
        {
         "name": "d_1",
         "rawType": "int64",
         "type": "integer"
        },
        {
         "name": "d_2",
         "rawType": "int64",
         "type": "integer"
        },
        {
         "name": "d_3",
         "rawType": "int64",
         "type": "integer"
        },
        {
         "name": "d_4",
         "rawType": "int64",
         "type": "integer"
        },
        {
         "name": "d_5",
         "rawType": "int64",
         "type": "integer"
        },
        {
         "name": "d_6",
         "rawType": "int64",
         "type": "integer"
        },
        {
         "name": "d_7",
         "rawType": "int64",
         "type": "integer"
        },
        {
         "name": "d_8",
         "rawType": "int64",
         "type": "integer"
        },
        {
         "name": "d_9",
         "rawType": "int64",
         "type": "integer"
        },
        {
         "name": "d_10",
         "rawType": "int64",
         "type": "integer"
        },
        {
         "name": "d_11",
         "rawType": "int64",
         "type": "integer"
        },
        {
         "name": "d_12",
         "rawType": "int64",
         "type": "integer"
        },
        {
         "name": "d_13",
         "rawType": "int64",
         "type": "integer"
        },
        {
         "name": "d_14",
         "rawType": "int64",
         "type": "integer"
        },
        {
         "name": "d_15",
         "rawType": "int64",
         "type": "integer"
        },
        {
         "name": "d_16",
         "rawType": "int64",
         "type": "integer"
        },
        {
         "name": "d_17",
         "rawType": "int64",
         "type": "integer"
        },
        {
         "name": "d_18",
         "rawType": "int64",
         "type": "integer"
        },
        {
         "name": "d_19",
         "rawType": "int64",
         "type": "integer"
        },
        {
         "name": "d_20",
         "rawType": "int64",
         "type": "integer"
        },
        {
         "name": "d_21",
         "rawType": "int64",
         "type": "integer"
        },
        {
         "name": "d_22",
         "rawType": "int64",
         "type": "integer"
        },
        {
         "name": "d_23",
         "rawType": "int64",
         "type": "integer"
        },
        {
         "name": "d_24",
         "rawType": "int64",
         "type": "integer"
        },
        {
         "name": "d_25",
         "rawType": "int64",
         "type": "integer"
        },
        {
         "name": "d_26",
         "rawType": "int64",
         "type": "integer"
        },
        {
         "name": "d_27",
         "rawType": "int64",
         "type": "integer"
        },
        {
         "name": "d_28",
         "rawType": "int64",
         "type": "integer"
        },
        {
         "name": "d_29",
         "rawType": "int64",
         "type": "integer"
        },
        {
         "name": "d_30",
         "rawType": "int64",
         "type": "integer"
        },
        {
         "name": "d_31",
         "rawType": "int64",
         "type": "integer"
        },
        {
         "name": "d_32",
         "rawType": "int64",
         "type": "integer"
        },
        {
         "name": "d_33",
         "rawType": "int64",
         "type": "integer"
        },
        {
         "name": "d_34",
         "rawType": "int64",
         "type": "integer"
        },
        {
         "name": "d_35",
         "rawType": "int64",
         "type": "integer"
        },
        {
         "name": "d_36",
         "rawType": "int64",
         "type": "integer"
        },
        {
         "name": "d_37",
         "rawType": "int64",
         "type": "integer"
        },
        {
         "name": "d_38",
         "rawType": "int64",
         "type": "integer"
        },
        {
         "name": "d_39",
         "rawType": "int64",
         "type": "integer"
        },
        {
         "name": "d_40",
         "rawType": "int64",
         "type": "integer"
        },
        {
         "name": "d_41",
         "rawType": "int64",
         "type": "integer"
        },
        {
         "name": "d_42",
         "rawType": "int64",
         "type": "integer"
        },
        {
         "name": "d_43",
         "rawType": "int64",
         "type": "integer"
        },
        {
         "name": "d_44",
         "rawType": "int64",
         "type": "integer"
        },
        {
         "name": "d_45",
         "rawType": "int64",
         "type": "integer"
        },
        {
         "name": "d_46",
         "rawType": "int64",
         "type": "integer"
        },
        {
         "name": "d_47",
         "rawType": "int64",
         "type": "integer"
        },
        {
         "name": "d_48",
         "rawType": "int64",
         "type": "integer"
        },
        {
         "name": "d_49",
         "rawType": "int64",
         "type": "integer"
        },
        {
         "name": "d_50",
         "rawType": "int64",
         "type": "integer"
        },
        {
         "name": "d_51",
         "rawType": "int64",
         "type": "integer"
        },
        {
         "name": "d_52",
         "rawType": "int64",
         "type": "integer"
        },
        {
         "name": "d_53",
         "rawType": "int64",
         "type": "integer"
        },
        {
         "name": "d_54",
         "rawType": "int64",
         "type": "integer"
        },
        {
         "name": "d_55",
         "rawType": "int64",
         "type": "integer"
        },
        {
         "name": "d_56",
         "rawType": "int64",
         "type": "integer"
        },
        {
         "name": "d_57",
         "rawType": "int64",
         "type": "integer"
        },
        {
         "name": "d_58",
         "rawType": "int64",
         "type": "integer"
        },
        {
         "name": "d_59",
         "rawType": "int64",
         "type": "integer"
        },
        {
         "name": "d_60",
         "rawType": "int64",
         "type": "integer"
        },
        {
         "name": "d_61",
         "rawType": "int64",
         "type": "integer"
        },
        {
         "name": "d_62",
         "rawType": "int64",
         "type": "integer"
        },
        {
         "name": "d_63",
         "rawType": "int64",
         "type": "integer"
        },
        {
         "name": "d_64",
         "rawType": "int64",
         "type": "integer"
        },
        {
         "name": "d_65",
         "rawType": "int64",
         "type": "integer"
        },
        {
         "name": "d_66",
         "rawType": "int64",
         "type": "integer"
        },
        {
         "name": "d_67",
         "rawType": "int64",
         "type": "integer"
        },
        {
         "name": "d_68",
         "rawType": "int64",
         "type": "integer"
        },
        {
         "name": "d_69",
         "rawType": "int64",
         "type": "integer"
        },
        {
         "name": "d_70",
         "rawType": "int64",
         "type": "integer"
        },
        {
         "name": "d_71",
         "rawType": "int64",
         "type": "integer"
        },
        {
         "name": "d_72",
         "rawType": "int64",
         "type": "integer"
        },
        {
         "name": "d_73",
         "rawType": "int64",
         "type": "integer"
        },
        {
         "name": "d_74",
         "rawType": "int64",
         "type": "integer"
        },
        {
         "name": "d_75",
         "rawType": "int64",
         "type": "integer"
        },
        {
         "name": "d_76",
         "rawType": "int64",
         "type": "integer"
        },
        {
         "name": "d_77",
         "rawType": "int64",
         "type": "integer"
        },
        {
         "name": "d_78",
         "rawType": "int64",
         "type": "integer"
        },
        {
         "name": "d_79",
         "rawType": "int64",
         "type": "integer"
        },
        {
         "name": "d_80",
         "rawType": "int64",
         "type": "integer"
        },
        {
         "name": "d_81",
         "rawType": "int64",
         "type": "integer"
        },
        {
         "name": "d_82",
         "rawType": "int64",
         "type": "integer"
        },
        {
         "name": "d_83",
         "rawType": "int64",
         "type": "integer"
        },
        {
         "name": "d_84",
         "rawType": "int64",
         "type": "integer"
        },
        {
         "name": "d_85",
         "rawType": "int64",
         "type": "integer"
        },
        {
         "name": "d_86",
         "rawType": "int64",
         "type": "integer"
        },
        {
         "name": "d_87",
         "rawType": "int64",
         "type": "integer"
        },
        {
         "name": "d_88",
         "rawType": "int64",
         "type": "integer"
        },
        {
         "name": "d_89",
         "rawType": "int64",
         "type": "integer"
        },
        {
         "name": "d_90",
         "rawType": "int64",
         "type": "integer"
        },
        {
         "name": "d_91",
         "rawType": "int64",
         "type": "integer"
        },
        {
         "name": "d_92",
         "rawType": "int64",
         "type": "integer"
        },
        {
         "name": "d_93",
         "rawType": "int64",
         "type": "integer"
        },
        {
         "name": "d_94",
         "rawType": "int64",
         "type": "integer"
        },
        {
         "name": "d_95",
         "rawType": "int64",
         "type": "integer"
        },
        {
         "name": "d_96",
         "rawType": "int64",
         "type": "integer"
        },
        {
         "name": "d_97",
         "rawType": "int64",
         "type": "integer"
        },
        {
         "name": "d_98",
         "rawType": "int64",
         "type": "integer"
        },
        {
         "name": "d_99",
         "rawType": "int64",
         "type": "integer"
        },
        {
         "name": "d_100",
         "rawType": "int64",
         "type": "integer"
        },
        {
         "name": "d_101",
         "rawType": "int64",
         "type": "integer"
        },
        {
         "name": "d_102",
         "rawType": "int64",
         "type": "integer"
        },
        {
         "name": "d_103",
         "rawType": "int64",
         "type": "integer"
        },
        {
         "name": "d_104",
         "rawType": "int64",
         "type": "integer"
        },
        {
         "name": "d_105",
         "rawType": "int64",
         "type": "integer"
        },
        {
         "name": "d_106",
         "rawType": "int64",
         "type": "integer"
        },
        {
         "name": "d_107",
         "rawType": "int64",
         "type": "integer"
        },
        {
         "name": "d_108",
         "rawType": "int64",
         "type": "integer"
        },
        {
         "name": "d_109",
         "rawType": "int64",
         "type": "integer"
        },
        {
         "name": "d_110",
         "rawType": "int64",
         "type": "integer"
        },
        {
         "name": "d_111",
         "rawType": "int64",
         "type": "integer"
        },
        {
         "name": "d_112",
         "rawType": "int64",
         "type": "integer"
        },
        {
         "name": "d_113",
         "rawType": "int64",
         "type": "integer"
        },
        {
         "name": "d_114",
         "rawType": "int64",
         "type": "integer"
        },
        {
         "name": "d_115",
         "rawType": "int64",
         "type": "integer"
        },
        {
         "name": "d_116",
         "rawType": "int64",
         "type": "integer"
        },
        {
         "name": "d_117",
         "rawType": "int64",
         "type": "integer"
        },
        {
         "name": "d_118",
         "rawType": "int64",
         "type": "integer"
        },
        {
         "name": "d_119",
         "rawType": "int64",
         "type": "integer"
        },
        {
         "name": "d_120",
         "rawType": "int64",
         "type": "integer"
        },
        {
         "name": "d_121",
         "rawType": "int64",
         "type": "integer"
        },
        {
         "name": "d_122",
         "rawType": "int64",
         "type": "integer"
        },
        {
         "name": "d_123",
         "rawType": "int64",
         "type": "integer"
        },
        {
         "name": "d_124",
         "rawType": "int64",
         "type": "integer"
        },
        {
         "name": "d_125",
         "rawType": "int64",
         "type": "integer"
        },
        {
         "name": "d_126",
         "rawType": "int64",
         "type": "integer"
        },
        {
         "name": "d_127",
         "rawType": "int64",
         "type": "integer"
        },
        {
         "name": "d_128",
         "rawType": "int64",
         "type": "integer"
        },
        {
         "name": "d_129",
         "rawType": "int64",
         "type": "integer"
        },
        {
         "name": "d_130",
         "rawType": "int64",
         "type": "integer"
        },
        {
         "name": "d_131",
         "rawType": "int64",
         "type": "integer"
        },
        {
         "name": "d_132",
         "rawType": "int64",
         "type": "integer"
        },
        {
         "name": "d_133",
         "rawType": "int64",
         "type": "integer"
        },
        {
         "name": "d_134",
         "rawType": "int64",
         "type": "integer"
        },
        {
         "name": "d_135",
         "rawType": "int64",
         "type": "integer"
        },
        {
         "name": "d_136",
         "rawType": "int64",
         "type": "integer"
        },
        {
         "name": "d_137",
         "rawType": "int64",
         "type": "integer"
        },
        {
         "name": "d_138",
         "rawType": "int64",
         "type": "integer"
        },
        {
         "name": "d_139",
         "rawType": "int64",
         "type": "integer"
        },
        {
         "name": "d_140",
         "rawType": "int64",
         "type": "integer"
        },
        {
         "name": "d_141",
         "rawType": "int64",
         "type": "integer"
        },
        {
         "name": "d_142",
         "rawType": "int64",
         "type": "integer"
        },
        {
         "name": "d_143",
         "rawType": "int64",
         "type": "integer"
        },
        {
         "name": "d_144",
         "rawType": "int64",
         "type": "integer"
        },
        {
         "name": "d_145",
         "rawType": "int64",
         "type": "integer"
        },
        {
         "name": "d_146",
         "rawType": "int64",
         "type": "integer"
        },
        {
         "name": "d_147",
         "rawType": "int64",
         "type": "integer"
        },
        {
         "name": "d_148",
         "rawType": "int64",
         "type": "integer"
        },
        {
         "name": "d_149",
         "rawType": "int64",
         "type": "integer"
        },
        {
         "name": "d_150",
         "rawType": "int64",
         "type": "integer"
        },
        {
         "name": "d_151",
         "rawType": "int64",
         "type": "integer"
        },
        {
         "name": "d_152",
         "rawType": "int64",
         "type": "integer"
        },
        {
         "name": "d_153",
         "rawType": "int64",
         "type": "integer"
        },
        {
         "name": "d_154",
         "rawType": "int64",
         "type": "integer"
        },
        {
         "name": "d_155",
         "rawType": "int64",
         "type": "integer"
        },
        {
         "name": "d_156",
         "rawType": "int64",
         "type": "integer"
        },
        {
         "name": "d_157",
         "rawType": "int64",
         "type": "integer"
        },
        {
         "name": "d_158",
         "rawType": "int64",
         "type": "integer"
        },
        {
         "name": "d_159",
         "rawType": "int64",
         "type": "integer"
        },
        {
         "name": "d_160",
         "rawType": "int64",
         "type": "integer"
        },
        {
         "name": "d_161",
         "rawType": "int64",
         "type": "integer"
        },
        {
         "name": "d_162",
         "rawType": "int64",
         "type": "integer"
        },
        {
         "name": "d_163",
         "rawType": "int64",
         "type": "integer"
        },
        {
         "name": "d_164",
         "rawType": "int64",
         "type": "integer"
        },
        {
         "name": "d_165",
         "rawType": "int64",
         "type": "integer"
        },
        {
         "name": "d_166",
         "rawType": "int64",
         "type": "integer"
        },
        {
         "name": "d_167",
         "rawType": "int64",
         "type": "integer"
        },
        {
         "name": "d_168",
         "rawType": "int64",
         "type": "integer"
        },
        {
         "name": "d_169",
         "rawType": "int64",
         "type": "integer"
        },
        {
         "name": "d_170",
         "rawType": "int64",
         "type": "integer"
        },
        {
         "name": "d_171",
         "rawType": "int64",
         "type": "integer"
        },
        {
         "name": "d_172",
         "rawType": "int64",
         "type": "integer"
        },
        {
         "name": "d_173",
         "rawType": "int64",
         "type": "integer"
        },
        {
         "name": "d_174",
         "rawType": "int64",
         "type": "integer"
        },
        {
         "name": "d_175",
         "rawType": "int64",
         "type": "integer"
        },
        {
         "name": "d_176",
         "rawType": "int64",
         "type": "integer"
        },
        {
         "name": "d_177",
         "rawType": "int64",
         "type": "integer"
        },
        {
         "name": "d_178",
         "rawType": "int64",
         "type": "integer"
        },
        {
         "name": "d_179",
         "rawType": "int64",
         "type": "integer"
        },
        {
         "name": "d_180",
         "rawType": "int64",
         "type": "integer"
        },
        {
         "name": "d_181",
         "rawType": "int64",
         "type": "integer"
        },
        {
         "name": "d_182",
         "rawType": "int64",
         "type": "integer"
        },
        {
         "name": "d_183",
         "rawType": "int64",
         "type": "integer"
        },
        {
         "name": "d_184",
         "rawType": "int64",
         "type": "integer"
        },
        {
         "name": "d_185",
         "rawType": "int64",
         "type": "integer"
        },
        {
         "name": "d_186",
         "rawType": "int64",
         "type": "integer"
        },
        {
         "name": "d_187",
         "rawType": "int64",
         "type": "integer"
        },
        {
         "name": "d_188",
         "rawType": "int64",
         "type": "integer"
        },
        {
         "name": "d_189",
         "rawType": "int64",
         "type": "integer"
        },
        {
         "name": "d_190",
         "rawType": "int64",
         "type": "integer"
        },
        {
         "name": "d_191",
         "rawType": "int64",
         "type": "integer"
        },
        {
         "name": "d_192",
         "rawType": "int64",
         "type": "integer"
        },
        {
         "name": "d_193",
         "rawType": "int64",
         "type": "integer"
        },
        {
         "name": "d_194",
         "rawType": "int64",
         "type": "integer"
        },
        {
         "name": "d_195",
         "rawType": "int64",
         "type": "integer"
        },
        {
         "name": "d_196",
         "rawType": "int64",
         "type": "integer"
        },
        {
         "name": "d_197",
         "rawType": "int64",
         "type": "integer"
        },
        {
         "name": "d_198",
         "rawType": "int64",
         "type": "integer"
        },
        {
         "name": "d_199",
         "rawType": "int64",
         "type": "integer"
        },
        {
         "name": "d_200",
         "rawType": "int64",
         "type": "integer"
        },
        {
         "name": "d_201",
         "rawType": "int64",
         "type": "integer"
        },
        {
         "name": "d_202",
         "rawType": "int64",
         "type": "integer"
        },
        {
         "name": "d_203",
         "rawType": "int64",
         "type": "integer"
        },
        {
         "name": "d_204",
         "rawType": "int64",
         "type": "integer"
        },
        {
         "name": "d_205",
         "rawType": "int64",
         "type": "integer"
        },
        {
         "name": "d_206",
         "rawType": "int64",
         "type": "integer"
        },
        {
         "name": "d_207",
         "rawType": "int64",
         "type": "integer"
        },
        {
         "name": "d_208",
         "rawType": "int64",
         "type": "integer"
        },
        {
         "name": "d_209",
         "rawType": "int64",
         "type": "integer"
        },
        {
         "name": "d_210",
         "rawType": "int64",
         "type": "integer"
        },
        {
         "name": "d_211",
         "rawType": "int64",
         "type": "integer"
        },
        {
         "name": "d_212",
         "rawType": "int64",
         "type": "integer"
        },
        {
         "name": "d_213",
         "rawType": "int64",
         "type": "integer"
        },
        {
         "name": "d_214",
         "rawType": "int64",
         "type": "integer"
        },
        {
         "name": "d_215",
         "rawType": "int64",
         "type": "integer"
        },
        {
         "name": "d_216",
         "rawType": "int64",
         "type": "integer"
        },
        {
         "name": "d_217",
         "rawType": "int64",
         "type": "integer"
        },
        {
         "name": "d_218",
         "rawType": "int64",
         "type": "integer"
        },
        {
         "name": "d_219",
         "rawType": "int64",
         "type": "integer"
        },
        {
         "name": "d_220",
         "rawType": "int64",
         "type": "integer"
        },
        {
         "name": "d_221",
         "rawType": "int64",
         "type": "integer"
        },
        {
         "name": "d_222",
         "rawType": "int64",
         "type": "integer"
        },
        {
         "name": "d_223",
         "rawType": "int64",
         "type": "integer"
        },
        {
         "name": "d_224",
         "rawType": "int64",
         "type": "integer"
        },
        {
         "name": "d_225",
         "rawType": "int64",
         "type": "integer"
        },
        {
         "name": "d_226",
         "rawType": "int64",
         "type": "integer"
        },
        {
         "name": "d_227",
         "rawType": "int64",
         "type": "integer"
        },
        {
         "name": "d_228",
         "rawType": "int64",
         "type": "integer"
        },
        {
         "name": "d_229",
         "rawType": "int64",
         "type": "integer"
        },
        {
         "name": "d_230",
         "rawType": "int64",
         "type": "integer"
        },
        {
         "name": "d_231",
         "rawType": "int64",
         "type": "integer"
        },
        {
         "name": "d_232",
         "rawType": "int64",
         "type": "integer"
        },
        {
         "name": "d_233",
         "rawType": "int64",
         "type": "integer"
        },
        {
         "name": "d_234",
         "rawType": "int64",
         "type": "integer"
        },
        {
         "name": "d_235",
         "rawType": "int64",
         "type": "integer"
        },
        {
         "name": "d_236",
         "rawType": "int64",
         "type": "integer"
        },
        {
         "name": "d_237",
         "rawType": "int64",
         "type": "integer"
        },
        {
         "name": "d_238",
         "rawType": "int64",
         "type": "integer"
        },
        {
         "name": "d_239",
         "rawType": "int64",
         "type": "integer"
        },
        {
         "name": "d_240",
         "rawType": "int64",
         "type": "integer"
        },
        {
         "name": "d_241",
         "rawType": "int64",
         "type": "integer"
        },
        {
         "name": "d_242",
         "rawType": "int64",
         "type": "integer"
        },
        {
         "name": "d_243",
         "rawType": "int64",
         "type": "integer"
        },
        {
         "name": "d_244",
         "rawType": "int64",
         "type": "integer"
        },
        {
         "name": "d_245",
         "rawType": "int64",
         "type": "integer"
        },
        {
         "name": "d_246",
         "rawType": "int64",
         "type": "integer"
        },
        {
         "name": "d_247",
         "rawType": "int64",
         "type": "integer"
        },
        {
         "name": "d_248",
         "rawType": "int64",
         "type": "integer"
        },
        {
         "name": "d_249",
         "rawType": "int64",
         "type": "integer"
        },
        {
         "name": "d_250",
         "rawType": "int64",
         "type": "integer"
        },
        {
         "name": "d_251",
         "rawType": "int64",
         "type": "integer"
        },
        {
         "name": "d_252",
         "rawType": "int64",
         "type": "integer"
        },
        {
         "name": "d_253",
         "rawType": "int64",
         "type": "integer"
        },
        {
         "name": "d_254",
         "rawType": "int64",
         "type": "integer"
        },
        {
         "name": "d_255",
         "rawType": "int64",
         "type": "integer"
        },
        {
         "name": "d_256",
         "rawType": "int64",
         "type": "integer"
        },
        {
         "name": "d_257",
         "rawType": "int64",
         "type": "integer"
        },
        {
         "name": "d_258",
         "rawType": "int64",
         "type": "integer"
        },
        {
         "name": "d_259",
         "rawType": "int64",
         "type": "integer"
        },
        {
         "name": "d_260",
         "rawType": "int64",
         "type": "integer"
        },
        {
         "name": "d_261",
         "rawType": "int64",
         "type": "integer"
        },
        {
         "name": "d_262",
         "rawType": "int64",
         "type": "integer"
        },
        {
         "name": "d_263",
         "rawType": "int64",
         "type": "integer"
        },
        {
         "name": "d_264",
         "rawType": "int64",
         "type": "integer"
        },
        {
         "name": "d_265",
         "rawType": "int64",
         "type": "integer"
        },
        {
         "name": "d_266",
         "rawType": "int64",
         "type": "integer"
        },
        {
         "name": "d_267",
         "rawType": "int64",
         "type": "integer"
        },
        {
         "name": "d_268",
         "rawType": "int64",
         "type": "integer"
        },
        {
         "name": "d_269",
         "rawType": "int64",
         "type": "integer"
        },
        {
         "name": "d_270",
         "rawType": "int64",
         "type": "integer"
        },
        {
         "name": "d_271",
         "rawType": "int64",
         "type": "integer"
        },
        {
         "name": "d_272",
         "rawType": "int64",
         "type": "integer"
        },
        {
         "name": "d_273",
         "rawType": "int64",
         "type": "integer"
        },
        {
         "name": "d_274",
         "rawType": "int64",
         "type": "integer"
        },
        {
         "name": "d_275",
         "rawType": "int64",
         "type": "integer"
        },
        {
         "name": "d_276",
         "rawType": "int64",
         "type": "integer"
        },
        {
         "name": "d_277",
         "rawType": "int64",
         "type": "integer"
        },
        {
         "name": "d_278",
         "rawType": "int64",
         "type": "integer"
        },
        {
         "name": "d_279",
         "rawType": "int64",
         "type": "integer"
        },
        {
         "name": "d_280",
         "rawType": "int64",
         "type": "integer"
        },
        {
         "name": "d_281",
         "rawType": "int64",
         "type": "integer"
        },
        {
         "name": "d_282",
         "rawType": "int64",
         "type": "integer"
        },
        {
         "name": "d_283",
         "rawType": "int64",
         "type": "integer"
        },
        {
         "name": "d_284",
         "rawType": "int64",
         "type": "integer"
        },
        {
         "name": "d_285",
         "rawType": "int64",
         "type": "integer"
        },
        {
         "name": "d_286",
         "rawType": "int64",
         "type": "integer"
        },
        {
         "name": "d_287",
         "rawType": "int64",
         "type": "integer"
        },
        {
         "name": "d_288",
         "rawType": "int64",
         "type": "integer"
        },
        {
         "name": "d_289",
         "rawType": "int64",
         "type": "integer"
        },
        {
         "name": "d_290",
         "rawType": "int64",
         "type": "integer"
        },
        {
         "name": "d_291",
         "rawType": "int64",
         "type": "integer"
        },
        {
         "name": "d_292",
         "rawType": "int64",
         "type": "integer"
        },
        {
         "name": "d_293",
         "rawType": "int64",
         "type": "integer"
        },
        {
         "name": "d_294",
         "rawType": "int64",
         "type": "integer"
        },
        {
         "name": "d_295",
         "rawType": "int64",
         "type": "integer"
        },
        {
         "name": "d_296",
         "rawType": "int64",
         "type": "integer"
        },
        {
         "name": "d_297",
         "rawType": "int64",
         "type": "integer"
        },
        {
         "name": "d_298",
         "rawType": "int64",
         "type": "integer"
        },
        {
         "name": "d_299",
         "rawType": "int64",
         "type": "integer"
        },
        {
         "name": "d_300",
         "rawType": "int64",
         "type": "integer"
        },
        {
         "name": "d_301",
         "rawType": "int64",
         "type": "integer"
        },
        {
         "name": "d_302",
         "rawType": "int64",
         "type": "integer"
        },
        {
         "name": "d_303",
         "rawType": "int64",
         "type": "integer"
        },
        {
         "name": "d_304",
         "rawType": "int64",
         "type": "integer"
        },
        {
         "name": "d_305",
         "rawType": "int64",
         "type": "integer"
        },
        {
         "name": "d_306",
         "rawType": "int64",
         "type": "integer"
        },
        {
         "name": "d_307",
         "rawType": "int64",
         "type": "integer"
        },
        {
         "name": "d_308",
         "rawType": "int64",
         "type": "integer"
        },
        {
         "name": "d_309",
         "rawType": "int64",
         "type": "integer"
        },
        {
         "name": "d_310",
         "rawType": "int64",
         "type": "integer"
        },
        {
         "name": "d_311",
         "rawType": "int64",
         "type": "integer"
        },
        {
         "name": "d_312",
         "rawType": "int64",
         "type": "integer"
        },
        {
         "name": "d_313",
         "rawType": "int64",
         "type": "integer"
        },
        {
         "name": "d_314",
         "rawType": "int64",
         "type": "integer"
        },
        {
         "name": "d_315",
         "rawType": "int64",
         "type": "integer"
        },
        {
         "name": "d_316",
         "rawType": "int64",
         "type": "integer"
        },
        {
         "name": "d_317",
         "rawType": "int64",
         "type": "integer"
        },
        {
         "name": "d_318",
         "rawType": "int64",
         "type": "integer"
        },
        {
         "name": "d_319",
         "rawType": "int64",
         "type": "integer"
        },
        {
         "name": "d_320",
         "rawType": "int64",
         "type": "integer"
        },
        {
         "name": "d_321",
         "rawType": "int64",
         "type": "integer"
        },
        {
         "name": "d_322",
         "rawType": "int64",
         "type": "integer"
        },
        {
         "name": "d_323",
         "rawType": "int64",
         "type": "integer"
        },
        {
         "name": "d_324",
         "rawType": "int64",
         "type": "integer"
        },
        {
         "name": "d_325",
         "rawType": "int64",
         "type": "integer"
        },
        {
         "name": "d_326",
         "rawType": "int64",
         "type": "integer"
        },
        {
         "name": "d_327",
         "rawType": "int64",
         "type": "integer"
        },
        {
         "name": "d_328",
         "rawType": "int64",
         "type": "integer"
        },
        {
         "name": "d_329",
         "rawType": "int64",
         "type": "integer"
        },
        {
         "name": "d_330",
         "rawType": "int64",
         "type": "integer"
        },
        {
         "name": "d_331",
         "rawType": "int64",
         "type": "integer"
        },
        {
         "name": "d_332",
         "rawType": "int64",
         "type": "integer"
        },
        {
         "name": "d_333",
         "rawType": "int64",
         "type": "integer"
        },
        {
         "name": "d_334",
         "rawType": "int64",
         "type": "integer"
        },
        {
         "name": "d_335",
         "rawType": "int64",
         "type": "integer"
        },
        {
         "name": "d_336",
         "rawType": "int64",
         "type": "integer"
        },
        {
         "name": "d_337",
         "rawType": "int64",
         "type": "integer"
        },
        {
         "name": "d_338",
         "rawType": "int64",
         "type": "integer"
        },
        {
         "name": "d_339",
         "rawType": "int64",
         "type": "integer"
        },
        {
         "name": "d_340",
         "rawType": "int64",
         "type": "integer"
        },
        {
         "name": "d_341",
         "rawType": "int64",
         "type": "integer"
        },
        {
         "name": "d_342",
         "rawType": "int64",
         "type": "integer"
        },
        {
         "name": "d_343",
         "rawType": "int64",
         "type": "integer"
        },
        {
         "name": "d_344",
         "rawType": "int64",
         "type": "integer"
        },
        {
         "name": "d_345",
         "rawType": "int64",
         "type": "integer"
        },
        {
         "name": "d_346",
         "rawType": "int64",
         "type": "integer"
        },
        {
         "name": "d_347",
         "rawType": "int64",
         "type": "integer"
        },
        {
         "name": "d_348",
         "rawType": "int64",
         "type": "integer"
        },
        {
         "name": "d_349",
         "rawType": "int64",
         "type": "integer"
        },
        {
         "name": "d_350",
         "rawType": "int64",
         "type": "integer"
        },
        {
         "name": "d_351",
         "rawType": "int64",
         "type": "integer"
        },
        {
         "name": "d_352",
         "rawType": "int64",
         "type": "integer"
        },
        {
         "name": "d_353",
         "rawType": "int64",
         "type": "integer"
        },
        {
         "name": "d_354",
         "rawType": "int64",
         "type": "integer"
        },
        {
         "name": "d_355",
         "rawType": "int64",
         "type": "integer"
        },
        {
         "name": "d_356",
         "rawType": "int64",
         "type": "integer"
        },
        {
         "name": "d_357",
         "rawType": "int64",
         "type": "integer"
        },
        {
         "name": "d_358",
         "rawType": "int64",
         "type": "integer"
        },
        {
         "name": "d_359",
         "rawType": "int64",
         "type": "integer"
        },
        {
         "name": "d_360",
         "rawType": "int64",
         "type": "integer"
        },
        {
         "name": "d_361",
         "rawType": "int64",
         "type": "integer"
        },
        {
         "name": "d_362",
         "rawType": "int64",
         "type": "integer"
        },
        {
         "name": "d_363",
         "rawType": "int64",
         "type": "integer"
        },
        {
         "name": "d_364",
         "rawType": "int64",
         "type": "integer"
        },
        {
         "name": "d_365",
         "rawType": "int64",
         "type": "integer"
        },
        {
         "name": "d_366",
         "rawType": "int64",
         "type": "integer"
        },
        {
         "name": "d_367",
         "rawType": "int64",
         "type": "integer"
        },
        {
         "name": "d_368",
         "rawType": "int64",
         "type": "integer"
        },
        {
         "name": "d_369",
         "rawType": "int64",
         "type": "integer"
        },
        {
         "name": "d_370",
         "rawType": "int64",
         "type": "integer"
        },
        {
         "name": "d_371",
         "rawType": "int64",
         "type": "integer"
        },
        {
         "name": "d_372",
         "rawType": "int64",
         "type": "integer"
        },
        {
         "name": "d_373",
         "rawType": "int64",
         "type": "integer"
        },
        {
         "name": "d_374",
         "rawType": "int64",
         "type": "integer"
        },
        {
         "name": "d_375",
         "rawType": "int64",
         "type": "integer"
        },
        {
         "name": "d_376",
         "rawType": "int64",
         "type": "integer"
        },
        {
         "name": "d_377",
         "rawType": "int64",
         "type": "integer"
        },
        {
         "name": "d_378",
         "rawType": "int64",
         "type": "integer"
        },
        {
         "name": "d_379",
         "rawType": "int64",
         "type": "integer"
        },
        {
         "name": "d_380",
         "rawType": "int64",
         "type": "integer"
        },
        {
         "name": "d_381",
         "rawType": "int64",
         "type": "integer"
        },
        {
         "name": "d_382",
         "rawType": "int64",
         "type": "integer"
        },
        {
         "name": "d_383",
         "rawType": "int64",
         "type": "integer"
        },
        {
         "name": "d_384",
         "rawType": "int64",
         "type": "integer"
        },
        {
         "name": "d_385",
         "rawType": "int64",
         "type": "integer"
        },
        {
         "name": "d_386",
         "rawType": "int64",
         "type": "integer"
        },
        {
         "name": "d_387",
         "rawType": "int64",
         "type": "integer"
        },
        {
         "name": "d_388",
         "rawType": "int64",
         "type": "integer"
        },
        {
         "name": "d_389",
         "rawType": "int64",
         "type": "integer"
        },
        {
         "name": "d_390",
         "rawType": "int64",
         "type": "integer"
        },
        {
         "name": "d_391",
         "rawType": "int64",
         "type": "integer"
        },
        {
         "name": "d_392",
         "rawType": "int64",
         "type": "integer"
        },
        {
         "name": "d_393",
         "rawType": "int64",
         "type": "integer"
        },
        {
         "name": "d_394",
         "rawType": "int64",
         "type": "integer"
        },
        {
         "name": "d_395",
         "rawType": "int64",
         "type": "integer"
        },
        {
         "name": "d_396",
         "rawType": "int64",
         "type": "integer"
        },
        {
         "name": "d_397",
         "rawType": "int64",
         "type": "integer"
        },
        {
         "name": "d_398",
         "rawType": "int64",
         "type": "integer"
        },
        {
         "name": "d_399",
         "rawType": "int64",
         "type": "integer"
        },
        {
         "name": "d_400",
         "rawType": "int64",
         "type": "integer"
        },
        {
         "name": "d_401",
         "rawType": "int64",
         "type": "integer"
        },
        {
         "name": "d_402",
         "rawType": "int64",
         "type": "integer"
        },
        {
         "name": "d_403",
         "rawType": "int64",
         "type": "integer"
        },
        {
         "name": "d_404",
         "rawType": "int64",
         "type": "integer"
        },
        {
         "name": "d_405",
         "rawType": "int64",
         "type": "integer"
        },
        {
         "name": "d_406",
         "rawType": "int64",
         "type": "integer"
        },
        {
         "name": "d_407",
         "rawType": "int64",
         "type": "integer"
        },
        {
         "name": "d_408",
         "rawType": "int64",
         "type": "integer"
        },
        {
         "name": "d_409",
         "rawType": "int64",
         "type": "integer"
        },
        {
         "name": "d_410",
         "rawType": "int64",
         "type": "integer"
        },
        {
         "name": "d_411",
         "rawType": "int64",
         "type": "integer"
        },
        {
         "name": "d_412",
         "rawType": "int64",
         "type": "integer"
        },
        {
         "name": "d_413",
         "rawType": "int64",
         "type": "integer"
        },
        {
         "name": "d_414",
         "rawType": "int64",
         "type": "integer"
        },
        {
         "name": "d_415",
         "rawType": "int64",
         "type": "integer"
        },
        {
         "name": "d_416",
         "rawType": "int64",
         "type": "integer"
        },
        {
         "name": "d_417",
         "rawType": "int64",
         "type": "integer"
        },
        {
         "name": "d_418",
         "rawType": "int64",
         "type": "integer"
        },
        {
         "name": "d_419",
         "rawType": "int64",
         "type": "integer"
        },
        {
         "name": "d_420",
         "rawType": "int64",
         "type": "integer"
        },
        {
         "name": "d_421",
         "rawType": "int64",
         "type": "integer"
        },
        {
         "name": "d_422",
         "rawType": "int64",
         "type": "integer"
        },
        {
         "name": "d_423",
         "rawType": "int64",
         "type": "integer"
        },
        {
         "name": "d_424",
         "rawType": "int64",
         "type": "integer"
        },
        {
         "name": "d_425",
         "rawType": "int64",
         "type": "integer"
        },
        {
         "name": "d_426",
         "rawType": "int64",
         "type": "integer"
        },
        {
         "name": "d_427",
         "rawType": "int64",
         "type": "integer"
        },
        {
         "name": "d_428",
         "rawType": "int64",
         "type": "integer"
        },
        {
         "name": "d_429",
         "rawType": "int64",
         "type": "integer"
        },
        {
         "name": "d_430",
         "rawType": "int64",
         "type": "integer"
        },
        {
         "name": "d_431",
         "rawType": "int64",
         "type": "integer"
        },
        {
         "name": "d_432",
         "rawType": "int64",
         "type": "integer"
        },
        {
         "name": "d_433",
         "rawType": "int64",
         "type": "integer"
        },
        {
         "name": "d_434",
         "rawType": "int64",
         "type": "integer"
        },
        {
         "name": "d_435",
         "rawType": "int64",
         "type": "integer"
        },
        {
         "name": "d_436",
         "rawType": "int64",
         "type": "integer"
        },
        {
         "name": "d_437",
         "rawType": "int64",
         "type": "integer"
        },
        {
         "name": "d_438",
         "rawType": "int64",
         "type": "integer"
        },
        {
         "name": "d_439",
         "rawType": "int64",
         "type": "integer"
        },
        {
         "name": "d_440",
         "rawType": "int64",
         "type": "integer"
        },
        {
         "name": "d_441",
         "rawType": "int64",
         "type": "integer"
        },
        {
         "name": "d_442",
         "rawType": "int64",
         "type": "integer"
        },
        {
         "name": "d_443",
         "rawType": "int64",
         "type": "integer"
        },
        {
         "name": "d_444",
         "rawType": "int64",
         "type": "integer"
        },
        {
         "name": "d_445",
         "rawType": "int64",
         "type": "integer"
        },
        {
         "name": "d_446",
         "rawType": "int64",
         "type": "integer"
        },
        {
         "name": "d_447",
         "rawType": "int64",
         "type": "integer"
        },
        {
         "name": "d_448",
         "rawType": "int64",
         "type": "integer"
        },
        {
         "name": "d_449",
         "rawType": "int64",
         "type": "integer"
        },
        {
         "name": "d_450",
         "rawType": "int64",
         "type": "integer"
        },
        {
         "name": "d_451",
         "rawType": "int64",
         "type": "integer"
        },
        {
         "name": "d_452",
         "rawType": "int64",
         "type": "integer"
        },
        {
         "name": "d_453",
         "rawType": "int64",
         "type": "integer"
        },
        {
         "name": "d_454",
         "rawType": "int64",
         "type": "integer"
        },
        {
         "name": "d_455",
         "rawType": "int64",
         "type": "integer"
        },
        {
         "name": "d_456",
         "rawType": "int64",
         "type": "integer"
        },
        {
         "name": "d_457",
         "rawType": "int64",
         "type": "integer"
        },
        {
         "name": "d_458",
         "rawType": "int64",
         "type": "integer"
        },
        {
         "name": "d_459",
         "rawType": "int64",
         "type": "integer"
        },
        {
         "name": "d_460",
         "rawType": "int64",
         "type": "integer"
        },
        {
         "name": "d_461",
         "rawType": "int64",
         "type": "integer"
        },
        {
         "name": "d_462",
         "rawType": "int64",
         "type": "integer"
        },
        {
         "name": "d_463",
         "rawType": "int64",
         "type": "integer"
        },
        {
         "name": "d_464",
         "rawType": "int64",
         "type": "integer"
        },
        {
         "name": "d_465",
         "rawType": "int64",
         "type": "integer"
        },
        {
         "name": "d_466",
         "rawType": "int64",
         "type": "integer"
        },
        {
         "name": "d_467",
         "rawType": "int64",
         "type": "integer"
        },
        {
         "name": "d_468",
         "rawType": "int64",
         "type": "integer"
        },
        {
         "name": "d_469",
         "rawType": "int64",
         "type": "integer"
        },
        {
         "name": "d_470",
         "rawType": "int64",
         "type": "integer"
        },
        {
         "name": "d_471",
         "rawType": "int64",
         "type": "integer"
        },
        {
         "name": "d_472",
         "rawType": "int64",
         "type": "integer"
        },
        {
         "name": "d_473",
         "rawType": "int64",
         "type": "integer"
        },
        {
         "name": "d_474",
         "rawType": "int64",
         "type": "integer"
        },
        {
         "name": "d_475",
         "rawType": "int64",
         "type": "integer"
        },
        {
         "name": "d_476",
         "rawType": "int64",
         "type": "integer"
        },
        {
         "name": "d_477",
         "rawType": "int64",
         "type": "integer"
        },
        {
         "name": "d_478",
         "rawType": "int64",
         "type": "integer"
        },
        {
         "name": "d_479",
         "rawType": "int64",
         "type": "integer"
        },
        {
         "name": "d_480",
         "rawType": "int64",
         "type": "integer"
        },
        {
         "name": "d_481",
         "rawType": "int64",
         "type": "integer"
        },
        {
         "name": "d_482",
         "rawType": "int64",
         "type": "integer"
        },
        {
         "name": "d_483",
         "rawType": "int64",
         "type": "integer"
        },
        {
         "name": "d_484",
         "rawType": "int64",
         "type": "integer"
        },
        {
         "name": "d_485",
         "rawType": "int64",
         "type": "integer"
        },
        {
         "name": "d_486",
         "rawType": "int64",
         "type": "integer"
        },
        {
         "name": "d_487",
         "rawType": "int64",
         "type": "integer"
        },
        {
         "name": "d_488",
         "rawType": "int64",
         "type": "integer"
        },
        {
         "name": "d_489",
         "rawType": "int64",
         "type": "integer"
        },
        {
         "name": "d_490",
         "rawType": "int64",
         "type": "integer"
        },
        {
         "name": "d_491",
         "rawType": "int64",
         "type": "integer"
        },
        {
         "name": "d_492",
         "rawType": "int64",
         "type": "integer"
        },
        {
         "name": "d_493",
         "rawType": "int64",
         "type": "integer"
        },
        {
         "name": "d_494",
         "rawType": "int64",
         "type": "integer"
        },
        {
         "name": "d_495",
         "rawType": "int64",
         "type": "integer"
        },
        {
         "name": "d_496",
         "rawType": "int64",
         "type": "integer"
        },
        {
         "name": "d_497",
         "rawType": "int64",
         "type": "integer"
        },
        {
         "name": "d_498",
         "rawType": "int64",
         "type": "integer"
        },
        {
         "name": "d_499",
         "rawType": "int64",
         "type": "integer"
        },
        {
         "name": "d_500",
         "rawType": "int64",
         "type": "integer"
        },
        {
         "name": "d_501",
         "rawType": "int64",
         "type": "integer"
        },
        {
         "name": "d_502",
         "rawType": "int64",
         "type": "integer"
        },
        {
         "name": "d_503",
         "rawType": "int64",
         "type": "integer"
        },
        {
         "name": "d_504",
         "rawType": "int64",
         "type": "integer"
        },
        {
         "name": "d_505",
         "rawType": "int64",
         "type": "integer"
        },
        {
         "name": "d_506",
         "rawType": "int64",
         "type": "integer"
        },
        {
         "name": "d_507",
         "rawType": "int64",
         "type": "integer"
        },
        {
         "name": "d_508",
         "rawType": "int64",
         "type": "integer"
        },
        {
         "name": "d_509",
         "rawType": "int64",
         "type": "integer"
        },
        {
         "name": "d_510",
         "rawType": "int64",
         "type": "integer"
        },
        {
         "name": "d_511",
         "rawType": "int64",
         "type": "integer"
        },
        {
         "name": "d_512",
         "rawType": "int64",
         "type": "integer"
        },
        {
         "name": "d_513",
         "rawType": "int64",
         "type": "integer"
        },
        {
         "name": "d_514",
         "rawType": "int64",
         "type": "integer"
        },
        {
         "name": "d_515",
         "rawType": "int64",
         "type": "integer"
        },
        {
         "name": "d_516",
         "rawType": "int64",
         "type": "integer"
        },
        {
         "name": "d_517",
         "rawType": "int64",
         "type": "integer"
        },
        {
         "name": "d_518",
         "rawType": "int64",
         "type": "integer"
        },
        {
         "name": "d_519",
         "rawType": "int64",
         "type": "integer"
        },
        {
         "name": "d_520",
         "rawType": "int64",
         "type": "integer"
        },
        {
         "name": "d_521",
         "rawType": "int64",
         "type": "integer"
        },
        {
         "name": "d_522",
         "rawType": "int64",
         "type": "integer"
        },
        {
         "name": "d_523",
         "rawType": "int64",
         "type": "integer"
        },
        {
         "name": "d_524",
         "rawType": "int64",
         "type": "integer"
        },
        {
         "name": "d_525",
         "rawType": "int64",
         "type": "integer"
        },
        {
         "name": "d_526",
         "rawType": "int64",
         "type": "integer"
        },
        {
         "name": "d_527",
         "rawType": "int64",
         "type": "integer"
        },
        {
         "name": "d_528",
         "rawType": "int64",
         "type": "integer"
        },
        {
         "name": "d_529",
         "rawType": "int64",
         "type": "integer"
        },
        {
         "name": "d_530",
         "rawType": "int64",
         "type": "integer"
        },
        {
         "name": "d_531",
         "rawType": "int64",
         "type": "integer"
        },
        {
         "name": "d_532",
         "rawType": "int64",
         "type": "integer"
        },
        {
         "name": "d_533",
         "rawType": "int64",
         "type": "integer"
        },
        {
         "name": "d_534",
         "rawType": "int64",
         "type": "integer"
        },
        {
         "name": "d_535",
         "rawType": "int64",
         "type": "integer"
        },
        {
         "name": "d_536",
         "rawType": "int64",
         "type": "integer"
        },
        {
         "name": "d_537",
         "rawType": "int64",
         "type": "integer"
        },
        {
         "name": "d_538",
         "rawType": "int64",
         "type": "integer"
        },
        {
         "name": "d_539",
         "rawType": "int64",
         "type": "integer"
        },
        {
         "name": "d_540",
         "rawType": "int64",
         "type": "integer"
        },
        {
         "name": "d_541",
         "rawType": "int64",
         "type": "integer"
        },
        {
         "name": "d_542",
         "rawType": "int64",
         "type": "integer"
        },
        {
         "name": "d_543",
         "rawType": "int64",
         "type": "integer"
        },
        {
         "name": "d_544",
         "rawType": "int64",
         "type": "integer"
        },
        {
         "name": "d_545",
         "rawType": "int64",
         "type": "integer"
        },
        {
         "name": "d_546",
         "rawType": "int64",
         "type": "integer"
        },
        {
         "name": "d_547",
         "rawType": "int64",
         "type": "integer"
        },
        {
         "name": "d_548",
         "rawType": "int64",
         "type": "integer"
        },
        {
         "name": "d_549",
         "rawType": "int64",
         "type": "integer"
        },
        {
         "name": "d_550",
         "rawType": "int64",
         "type": "integer"
        },
        {
         "name": "d_551",
         "rawType": "int64",
         "type": "integer"
        },
        {
         "name": "d_552",
         "rawType": "int64",
         "type": "integer"
        },
        {
         "name": "d_553",
         "rawType": "int64",
         "type": "integer"
        },
        {
         "name": "d_554",
         "rawType": "int64",
         "type": "integer"
        },
        {
         "name": "d_555",
         "rawType": "int64",
         "type": "integer"
        },
        {
         "name": "d_556",
         "rawType": "int64",
         "type": "integer"
        },
        {
         "name": "d_557",
         "rawType": "int64",
         "type": "integer"
        },
        {
         "name": "d_558",
         "rawType": "int64",
         "type": "integer"
        },
        {
         "name": "d_559",
         "rawType": "int64",
         "type": "integer"
        },
        {
         "name": "d_560",
         "rawType": "int64",
         "type": "integer"
        },
        {
         "name": "d_561",
         "rawType": "int64",
         "type": "integer"
        },
        {
         "name": "d_562",
         "rawType": "int64",
         "type": "integer"
        },
        {
         "name": "d_563",
         "rawType": "int64",
         "type": "integer"
        },
        {
         "name": "d_564",
         "rawType": "int64",
         "type": "integer"
        },
        {
         "name": "d_565",
         "rawType": "int64",
         "type": "integer"
        },
        {
         "name": "d_566",
         "rawType": "int64",
         "type": "integer"
        },
        {
         "name": "d_567",
         "rawType": "int64",
         "type": "integer"
        },
        {
         "name": "d_568",
         "rawType": "int64",
         "type": "integer"
        },
        {
         "name": "d_569",
         "rawType": "int64",
         "type": "integer"
        },
        {
         "name": "d_570",
         "rawType": "int64",
         "type": "integer"
        },
        {
         "name": "d_571",
         "rawType": "int64",
         "type": "integer"
        },
        {
         "name": "d_572",
         "rawType": "int64",
         "type": "integer"
        },
        {
         "name": "d_573",
         "rawType": "int64",
         "type": "integer"
        },
        {
         "name": "d_574",
         "rawType": "int64",
         "type": "integer"
        },
        {
         "name": "d_575",
         "rawType": "int64",
         "type": "integer"
        },
        {
         "name": "d_576",
         "rawType": "int64",
         "type": "integer"
        },
        {
         "name": "d_577",
         "rawType": "int64",
         "type": "integer"
        },
        {
         "name": "d_578",
         "rawType": "int64",
         "type": "integer"
        },
        {
         "name": "d_579",
         "rawType": "int64",
         "type": "integer"
        },
        {
         "name": "d_580",
         "rawType": "int64",
         "type": "integer"
        },
        {
         "name": "d_581",
         "rawType": "int64",
         "type": "integer"
        },
        {
         "name": "d_582",
         "rawType": "int64",
         "type": "integer"
        },
        {
         "name": "d_583",
         "rawType": "int64",
         "type": "integer"
        },
        {
         "name": "d_584",
         "rawType": "int64",
         "type": "integer"
        },
        {
         "name": "d_585",
         "rawType": "int64",
         "type": "integer"
        },
        {
         "name": "d_586",
         "rawType": "int64",
         "type": "integer"
        },
        {
         "name": "d_587",
         "rawType": "int64",
         "type": "integer"
        },
        {
         "name": "d_588",
         "rawType": "int64",
         "type": "integer"
        },
        {
         "name": "d_589",
         "rawType": "int64",
         "type": "integer"
        },
        {
         "name": "d_590",
         "rawType": "int64",
         "type": "integer"
        },
        {
         "name": "d_591",
         "rawType": "int64",
         "type": "integer"
        },
        {
         "name": "d_592",
         "rawType": "int64",
         "type": "integer"
        },
        {
         "name": "d_593",
         "rawType": "int64",
         "type": "integer"
        },
        {
         "name": "d_594",
         "rawType": "int64",
         "type": "integer"
        },
        {
         "name": "d_595",
         "rawType": "int64",
         "type": "integer"
        },
        {
         "name": "d_596",
         "rawType": "int64",
         "type": "integer"
        },
        {
         "name": "d_597",
         "rawType": "int64",
         "type": "integer"
        },
        {
         "name": "d_598",
         "rawType": "int64",
         "type": "integer"
        },
        {
         "name": "d_599",
         "rawType": "int64",
         "type": "integer"
        },
        {
         "name": "d_600",
         "rawType": "int64",
         "type": "integer"
        },
        {
         "name": "d_601",
         "rawType": "int64",
         "type": "integer"
        },
        {
         "name": "d_602",
         "rawType": "int64",
         "type": "integer"
        },
        {
         "name": "d_603",
         "rawType": "int64",
         "type": "integer"
        },
        {
         "name": "d_604",
         "rawType": "int64",
         "type": "integer"
        },
        {
         "name": "d_605",
         "rawType": "int64",
         "type": "integer"
        },
        {
         "name": "d_606",
         "rawType": "int64",
         "type": "integer"
        },
        {
         "name": "d_607",
         "rawType": "int64",
         "type": "integer"
        },
        {
         "name": "d_608",
         "rawType": "int64",
         "type": "integer"
        },
        {
         "name": "d_609",
         "rawType": "int64",
         "type": "integer"
        },
        {
         "name": "d_610",
         "rawType": "int64",
         "type": "integer"
        },
        {
         "name": "d_611",
         "rawType": "int64",
         "type": "integer"
        },
        {
         "name": "d_612",
         "rawType": "int64",
         "type": "integer"
        },
        {
         "name": "d_613",
         "rawType": "int64",
         "type": "integer"
        },
        {
         "name": "d_614",
         "rawType": "int64",
         "type": "integer"
        },
        {
         "name": "d_615",
         "rawType": "int64",
         "type": "integer"
        },
        {
         "name": "d_616",
         "rawType": "int64",
         "type": "integer"
        },
        {
         "name": "d_617",
         "rawType": "int64",
         "type": "integer"
        },
        {
         "name": "d_618",
         "rawType": "int64",
         "type": "integer"
        },
        {
         "name": "d_619",
         "rawType": "int64",
         "type": "integer"
        },
        {
         "name": "d_620",
         "rawType": "int64",
         "type": "integer"
        },
        {
         "name": "d_621",
         "rawType": "int64",
         "type": "integer"
        },
        {
         "name": "d_622",
         "rawType": "int64",
         "type": "integer"
        },
        {
         "name": "d_623",
         "rawType": "int64",
         "type": "integer"
        },
        {
         "name": "d_624",
         "rawType": "int64",
         "type": "integer"
        },
        {
         "name": "d_625",
         "rawType": "int64",
         "type": "integer"
        },
        {
         "name": "d_626",
         "rawType": "int64",
         "type": "integer"
        },
        {
         "name": "d_627",
         "rawType": "int64",
         "type": "integer"
        },
        {
         "name": "d_628",
         "rawType": "int64",
         "type": "integer"
        },
        {
         "name": "d_629",
         "rawType": "int64",
         "type": "integer"
        },
        {
         "name": "d_630",
         "rawType": "int64",
         "type": "integer"
        },
        {
         "name": "d_631",
         "rawType": "int64",
         "type": "integer"
        },
        {
         "name": "d_632",
         "rawType": "int64",
         "type": "integer"
        },
        {
         "name": "d_633",
         "rawType": "int64",
         "type": "integer"
        },
        {
         "name": "d_634",
         "rawType": "int64",
         "type": "integer"
        },
        {
         "name": "d_635",
         "rawType": "int64",
         "type": "integer"
        },
        {
         "name": "d_636",
         "rawType": "int64",
         "type": "integer"
        },
        {
         "name": "d_637",
         "rawType": "int64",
         "type": "integer"
        },
        {
         "name": "d_638",
         "rawType": "int64",
         "type": "integer"
        },
        {
         "name": "d_639",
         "rawType": "int64",
         "type": "integer"
        },
        {
         "name": "d_640",
         "rawType": "int64",
         "type": "integer"
        },
        {
         "name": "d_641",
         "rawType": "int64",
         "type": "integer"
        },
        {
         "name": "d_642",
         "rawType": "int64",
         "type": "integer"
        },
        {
         "name": "d_643",
         "rawType": "int64",
         "type": "integer"
        },
        {
         "name": "d_644",
         "rawType": "int64",
         "type": "integer"
        },
        {
         "name": "d_645",
         "rawType": "int64",
         "type": "integer"
        },
        {
         "name": "d_646",
         "rawType": "int64",
         "type": "integer"
        },
        {
         "name": "d_647",
         "rawType": "int64",
         "type": "integer"
        },
        {
         "name": "d_648",
         "rawType": "int64",
         "type": "integer"
        },
        {
         "name": "d_649",
         "rawType": "int64",
         "type": "integer"
        },
        {
         "name": "d_650",
         "rawType": "int64",
         "type": "integer"
        },
        {
         "name": "d_651",
         "rawType": "int64",
         "type": "integer"
        },
        {
         "name": "d_652",
         "rawType": "int64",
         "type": "integer"
        },
        {
         "name": "d_653",
         "rawType": "int64",
         "type": "integer"
        },
        {
         "name": "d_654",
         "rawType": "int64",
         "type": "integer"
        },
        {
         "name": "d_655",
         "rawType": "int64",
         "type": "integer"
        },
        {
         "name": "d_656",
         "rawType": "int64",
         "type": "integer"
        },
        {
         "name": "d_657",
         "rawType": "int64",
         "type": "integer"
        },
        {
         "name": "d_658",
         "rawType": "int64",
         "type": "integer"
        },
        {
         "name": "d_659",
         "rawType": "int64",
         "type": "integer"
        },
        {
         "name": "d_660",
         "rawType": "int64",
         "type": "integer"
        },
        {
         "name": "d_661",
         "rawType": "int64",
         "type": "integer"
        },
        {
         "name": "d_662",
         "rawType": "int64",
         "type": "integer"
        },
        {
         "name": "d_663",
         "rawType": "int64",
         "type": "integer"
        },
        {
         "name": "d_664",
         "rawType": "int64",
         "type": "integer"
        },
        {
         "name": "d_665",
         "rawType": "int64",
         "type": "integer"
        },
        {
         "name": "d_666",
         "rawType": "int64",
         "type": "integer"
        },
        {
         "name": "d_667",
         "rawType": "int64",
         "type": "integer"
        },
        {
         "name": "d_668",
         "rawType": "int64",
         "type": "integer"
        },
        {
         "name": "d_669",
         "rawType": "int64",
         "type": "integer"
        },
        {
         "name": "d_670",
         "rawType": "int64",
         "type": "integer"
        },
        {
         "name": "d_671",
         "rawType": "int64",
         "type": "integer"
        },
        {
         "name": "d_672",
         "rawType": "int64",
         "type": "integer"
        },
        {
         "name": "d_673",
         "rawType": "int64",
         "type": "integer"
        },
        {
         "name": "d_674",
         "rawType": "int64",
         "type": "integer"
        },
        {
         "name": "d_675",
         "rawType": "int64",
         "type": "integer"
        },
        {
         "name": "d_676",
         "rawType": "int64",
         "type": "integer"
        },
        {
         "name": "d_677",
         "rawType": "int64",
         "type": "integer"
        },
        {
         "name": "d_678",
         "rawType": "int64",
         "type": "integer"
        },
        {
         "name": "d_679",
         "rawType": "int64",
         "type": "integer"
        },
        {
         "name": "d_680",
         "rawType": "int64",
         "type": "integer"
        },
        {
         "name": "d_681",
         "rawType": "int64",
         "type": "integer"
        },
        {
         "name": "d_682",
         "rawType": "int64",
         "type": "integer"
        },
        {
         "name": "d_683",
         "rawType": "int64",
         "type": "integer"
        },
        {
         "name": "d_684",
         "rawType": "int64",
         "type": "integer"
        },
        {
         "name": "d_685",
         "rawType": "int64",
         "type": "integer"
        },
        {
         "name": "d_686",
         "rawType": "int64",
         "type": "integer"
        },
        {
         "name": "d_687",
         "rawType": "int64",
         "type": "integer"
        },
        {
         "name": "d_688",
         "rawType": "int64",
         "type": "integer"
        },
        {
         "name": "d_689",
         "rawType": "int64",
         "type": "integer"
        },
        {
         "name": "d_690",
         "rawType": "int64",
         "type": "integer"
        },
        {
         "name": "d_691",
         "rawType": "int64",
         "type": "integer"
        },
        {
         "name": "d_692",
         "rawType": "int64",
         "type": "integer"
        },
        {
         "name": "d_693",
         "rawType": "int64",
         "type": "integer"
        },
        {
         "name": "d_694",
         "rawType": "int64",
         "type": "integer"
        },
        {
         "name": "d_695",
         "rawType": "int64",
         "type": "integer"
        },
        {
         "name": "d_696",
         "rawType": "int64",
         "type": "integer"
        },
        {
         "name": "d_697",
         "rawType": "int64",
         "type": "integer"
        },
        {
         "name": "d_698",
         "rawType": "int64",
         "type": "integer"
        },
        {
         "name": "d_699",
         "rawType": "int64",
         "type": "integer"
        },
        {
         "name": "d_700",
         "rawType": "int64",
         "type": "integer"
        },
        {
         "name": "d_701",
         "rawType": "int64",
         "type": "integer"
        },
        {
         "name": "d_702",
         "rawType": "int64",
         "type": "integer"
        },
        {
         "name": "d_703",
         "rawType": "int64",
         "type": "integer"
        },
        {
         "name": "d_704",
         "rawType": "int64",
         "type": "integer"
        },
        {
         "name": "d_705",
         "rawType": "int64",
         "type": "integer"
        },
        {
         "name": "d_706",
         "rawType": "int64",
         "type": "integer"
        },
        {
         "name": "d_707",
         "rawType": "int64",
         "type": "integer"
        },
        {
         "name": "d_708",
         "rawType": "int64",
         "type": "integer"
        },
        {
         "name": "d_709",
         "rawType": "int64",
         "type": "integer"
        },
        {
         "name": "d_710",
         "rawType": "int64",
         "type": "integer"
        },
        {
         "name": "d_711",
         "rawType": "int64",
         "type": "integer"
        },
        {
         "name": "d_712",
         "rawType": "int64",
         "type": "integer"
        },
        {
         "name": "d_713",
         "rawType": "int64",
         "type": "integer"
        },
        {
         "name": "d_714",
         "rawType": "int64",
         "type": "integer"
        },
        {
         "name": "d_715",
         "rawType": "int64",
         "type": "integer"
        },
        {
         "name": "d_716",
         "rawType": "int64",
         "type": "integer"
        },
        {
         "name": "d_717",
         "rawType": "int64",
         "type": "integer"
        },
        {
         "name": "d_718",
         "rawType": "int64",
         "type": "integer"
        },
        {
         "name": "d_719",
         "rawType": "int64",
         "type": "integer"
        },
        {
         "name": "d_720",
         "rawType": "int64",
         "type": "integer"
        },
        {
         "name": "d_721",
         "rawType": "int64",
         "type": "integer"
        },
        {
         "name": "d_722",
         "rawType": "int64",
         "type": "integer"
        },
        {
         "name": "d_723",
         "rawType": "int64",
         "type": "integer"
        },
        {
         "name": "d_724",
         "rawType": "int64",
         "type": "integer"
        },
        {
         "name": "d_725",
         "rawType": "int64",
         "type": "integer"
        },
        {
         "name": "d_726",
         "rawType": "int64",
         "type": "integer"
        },
        {
         "name": "d_727",
         "rawType": "int64",
         "type": "integer"
        },
        {
         "name": "d_728",
         "rawType": "int64",
         "type": "integer"
        },
        {
         "name": "d_729",
         "rawType": "int64",
         "type": "integer"
        },
        {
         "name": "d_730",
         "rawType": "int64",
         "type": "integer"
        },
        {
         "name": "d_731",
         "rawType": "int64",
         "type": "integer"
        },
        {
         "name": "d_732",
         "rawType": "int64",
         "type": "integer"
        },
        {
         "name": "d_733",
         "rawType": "int64",
         "type": "integer"
        },
        {
         "name": "d_734",
         "rawType": "int64",
         "type": "integer"
        },
        {
         "name": "d_735",
         "rawType": "int64",
         "type": "integer"
        },
        {
         "name": "d_736",
         "rawType": "int64",
         "type": "integer"
        },
        {
         "name": "d_737",
         "rawType": "int64",
         "type": "integer"
        },
        {
         "name": "d_738",
         "rawType": "int64",
         "type": "integer"
        },
        {
         "name": "d_739",
         "rawType": "int64",
         "type": "integer"
        },
        {
         "name": "d_740",
         "rawType": "int64",
         "type": "integer"
        },
        {
         "name": "d_741",
         "rawType": "int64",
         "type": "integer"
        },
        {
         "name": "d_742",
         "rawType": "int64",
         "type": "integer"
        },
        {
         "name": "d_743",
         "rawType": "int64",
         "type": "integer"
        },
        {
         "name": "d_744",
         "rawType": "int64",
         "type": "integer"
        },
        {
         "name": "d_745",
         "rawType": "int64",
         "type": "integer"
        },
        {
         "name": "d_746",
         "rawType": "int64",
         "type": "integer"
        },
        {
         "name": "d_747",
         "rawType": "int64",
         "type": "integer"
        },
        {
         "name": "d_748",
         "rawType": "int64",
         "type": "integer"
        },
        {
         "name": "d_749",
         "rawType": "int64",
         "type": "integer"
        },
        {
         "name": "d_750",
         "rawType": "int64",
         "type": "integer"
        },
        {
         "name": "d_751",
         "rawType": "int64",
         "type": "integer"
        },
        {
         "name": "d_752",
         "rawType": "int64",
         "type": "integer"
        },
        {
         "name": "d_753",
         "rawType": "int64",
         "type": "integer"
        },
        {
         "name": "d_754",
         "rawType": "int64",
         "type": "integer"
        },
        {
         "name": "d_755",
         "rawType": "int64",
         "type": "integer"
        },
        {
         "name": "d_756",
         "rawType": "int64",
         "type": "integer"
        },
        {
         "name": "d_757",
         "rawType": "int64",
         "type": "integer"
        },
        {
         "name": "d_758",
         "rawType": "int64",
         "type": "integer"
        },
        {
         "name": "d_759",
         "rawType": "int64",
         "type": "integer"
        },
        {
         "name": "d_760",
         "rawType": "int64",
         "type": "integer"
        },
        {
         "name": "d_761",
         "rawType": "int64",
         "type": "integer"
        },
        {
         "name": "d_762",
         "rawType": "int64",
         "type": "integer"
        },
        {
         "name": "d_763",
         "rawType": "int64",
         "type": "integer"
        },
        {
         "name": "d_764",
         "rawType": "int64",
         "type": "integer"
        },
        {
         "name": "d_765",
         "rawType": "int64",
         "type": "integer"
        },
        {
         "name": "d_766",
         "rawType": "int64",
         "type": "integer"
        },
        {
         "name": "d_767",
         "rawType": "int64",
         "type": "integer"
        },
        {
         "name": "d_768",
         "rawType": "int64",
         "type": "integer"
        },
        {
         "name": "d_769",
         "rawType": "int64",
         "type": "integer"
        },
        {
         "name": "d_770",
         "rawType": "int64",
         "type": "integer"
        },
        {
         "name": "d_771",
         "rawType": "int64",
         "type": "integer"
        },
        {
         "name": "d_772",
         "rawType": "int64",
         "type": "integer"
        },
        {
         "name": "d_773",
         "rawType": "int64",
         "type": "integer"
        },
        {
         "name": "d_774",
         "rawType": "int64",
         "type": "integer"
        },
        {
         "name": "d_775",
         "rawType": "int64",
         "type": "integer"
        },
        {
         "name": "d_776",
         "rawType": "int64",
         "type": "integer"
        },
        {
         "name": "d_777",
         "rawType": "int64",
         "type": "integer"
        },
        {
         "name": "d_778",
         "rawType": "int64",
         "type": "integer"
        },
        {
         "name": "d_779",
         "rawType": "int64",
         "type": "integer"
        },
        {
         "name": "d_780",
         "rawType": "int64",
         "type": "integer"
        },
        {
         "name": "d_781",
         "rawType": "int64",
         "type": "integer"
        },
        {
         "name": "d_782",
         "rawType": "int64",
         "type": "integer"
        },
        {
         "name": "d_783",
         "rawType": "int64",
         "type": "integer"
        },
        {
         "name": "d_784",
         "rawType": "int64",
         "type": "integer"
        },
        {
         "name": "d_785",
         "rawType": "int64",
         "type": "integer"
        },
        {
         "name": "d_786",
         "rawType": "int64",
         "type": "integer"
        },
        {
         "name": "d_787",
         "rawType": "int64",
         "type": "integer"
        },
        {
         "name": "d_788",
         "rawType": "int64",
         "type": "integer"
        },
        {
         "name": "d_789",
         "rawType": "int64",
         "type": "integer"
        },
        {
         "name": "d_790",
         "rawType": "int64",
         "type": "integer"
        },
        {
         "name": "d_791",
         "rawType": "int64",
         "type": "integer"
        },
        {
         "name": "d_792",
         "rawType": "int64",
         "type": "integer"
        },
        {
         "name": "d_793",
         "rawType": "int64",
         "type": "integer"
        },
        {
         "name": "d_794",
         "rawType": "int64",
         "type": "integer"
        },
        {
         "name": "d_795",
         "rawType": "int64",
         "type": "integer"
        },
        {
         "name": "d_796",
         "rawType": "int64",
         "type": "integer"
        },
        {
         "name": "d_797",
         "rawType": "int64",
         "type": "integer"
        },
        {
         "name": "d_798",
         "rawType": "int64",
         "type": "integer"
        },
        {
         "name": "d_799",
         "rawType": "int64",
         "type": "integer"
        },
        {
         "name": "d_800",
         "rawType": "int64",
         "type": "integer"
        },
        {
         "name": "d_801",
         "rawType": "int64",
         "type": "integer"
        },
        {
         "name": "d_802",
         "rawType": "int64",
         "type": "integer"
        },
        {
         "name": "d_803",
         "rawType": "int64",
         "type": "integer"
        },
        {
         "name": "d_804",
         "rawType": "int64",
         "type": "integer"
        },
        {
         "name": "d_805",
         "rawType": "int64",
         "type": "integer"
        },
        {
         "name": "d_806",
         "rawType": "int64",
         "type": "integer"
        },
        {
         "name": "d_807",
         "rawType": "int64",
         "type": "integer"
        },
        {
         "name": "d_808",
         "rawType": "int64",
         "type": "integer"
        },
        {
         "name": "d_809",
         "rawType": "int64",
         "type": "integer"
        },
        {
         "name": "d_810",
         "rawType": "int64",
         "type": "integer"
        },
        {
         "name": "d_811",
         "rawType": "int64",
         "type": "integer"
        },
        {
         "name": "d_812",
         "rawType": "int64",
         "type": "integer"
        },
        {
         "name": "d_813",
         "rawType": "int64",
         "type": "integer"
        },
        {
         "name": "d_814",
         "rawType": "int64",
         "type": "integer"
        },
        {
         "name": "d_815",
         "rawType": "int64",
         "type": "integer"
        },
        {
         "name": "d_816",
         "rawType": "int64",
         "type": "integer"
        },
        {
         "name": "d_817",
         "rawType": "int64",
         "type": "integer"
        },
        {
         "name": "d_818",
         "rawType": "int64",
         "type": "integer"
        },
        {
         "name": "d_819",
         "rawType": "int64",
         "type": "integer"
        },
        {
         "name": "d_820",
         "rawType": "int64",
         "type": "integer"
        },
        {
         "name": "d_821",
         "rawType": "int64",
         "type": "integer"
        },
        {
         "name": "d_822",
         "rawType": "int64",
         "type": "integer"
        },
        {
         "name": "d_823",
         "rawType": "int64",
         "type": "integer"
        },
        {
         "name": "d_824",
         "rawType": "int64",
         "type": "integer"
        },
        {
         "name": "d_825",
         "rawType": "int64",
         "type": "integer"
        },
        {
         "name": "d_826",
         "rawType": "int64",
         "type": "integer"
        },
        {
         "name": "d_827",
         "rawType": "int64",
         "type": "integer"
        },
        {
         "name": "d_828",
         "rawType": "int64",
         "type": "integer"
        },
        {
         "name": "d_829",
         "rawType": "int64",
         "type": "integer"
        },
        {
         "name": "d_830",
         "rawType": "int64",
         "type": "integer"
        },
        {
         "name": "d_831",
         "rawType": "int64",
         "type": "integer"
        },
        {
         "name": "d_832",
         "rawType": "int64",
         "type": "integer"
        },
        {
         "name": "d_833",
         "rawType": "int64",
         "type": "integer"
        },
        {
         "name": "d_834",
         "rawType": "int64",
         "type": "integer"
        },
        {
         "name": "d_835",
         "rawType": "int64",
         "type": "integer"
        },
        {
         "name": "d_836",
         "rawType": "int64",
         "type": "integer"
        },
        {
         "name": "d_837",
         "rawType": "int64",
         "type": "integer"
        },
        {
         "name": "d_838",
         "rawType": "int64",
         "type": "integer"
        },
        {
         "name": "d_839",
         "rawType": "int64",
         "type": "integer"
        },
        {
         "name": "d_840",
         "rawType": "int64",
         "type": "integer"
        },
        {
         "name": "d_841",
         "rawType": "int64",
         "type": "integer"
        },
        {
         "name": "d_842",
         "rawType": "int64",
         "type": "integer"
        },
        {
         "name": "d_843",
         "rawType": "int64",
         "type": "integer"
        },
        {
         "name": "d_844",
         "rawType": "int64",
         "type": "integer"
        },
        {
         "name": "d_845",
         "rawType": "int64",
         "type": "integer"
        },
        {
         "name": "d_846",
         "rawType": "int64",
         "type": "integer"
        },
        {
         "name": "d_847",
         "rawType": "int64",
         "type": "integer"
        },
        {
         "name": "d_848",
         "rawType": "int64",
         "type": "integer"
        },
        {
         "name": "d_849",
         "rawType": "int64",
         "type": "integer"
        },
        {
         "name": "d_850",
         "rawType": "int64",
         "type": "integer"
        },
        {
         "name": "d_851",
         "rawType": "int64",
         "type": "integer"
        },
        {
         "name": "d_852",
         "rawType": "int64",
         "type": "integer"
        },
        {
         "name": "d_853",
         "rawType": "int64",
         "type": "integer"
        },
        {
         "name": "d_854",
         "rawType": "int64",
         "type": "integer"
        },
        {
         "name": "d_855",
         "rawType": "int64",
         "type": "integer"
        },
        {
         "name": "d_856",
         "rawType": "int64",
         "type": "integer"
        },
        {
         "name": "d_857",
         "rawType": "int64",
         "type": "integer"
        },
        {
         "name": "d_858",
         "rawType": "int64",
         "type": "integer"
        },
        {
         "name": "d_859",
         "rawType": "int64",
         "type": "integer"
        },
        {
         "name": "d_860",
         "rawType": "int64",
         "type": "integer"
        },
        {
         "name": "d_861",
         "rawType": "int64",
         "type": "integer"
        },
        {
         "name": "d_862",
         "rawType": "int64",
         "type": "integer"
        },
        {
         "name": "d_863",
         "rawType": "int64",
         "type": "integer"
        },
        {
         "name": "d_864",
         "rawType": "int64",
         "type": "integer"
        },
        {
         "name": "d_865",
         "rawType": "int64",
         "type": "integer"
        },
        {
         "name": "d_866",
         "rawType": "int64",
         "type": "integer"
        },
        {
         "name": "d_867",
         "rawType": "int64",
         "type": "integer"
        },
        {
         "name": "d_868",
         "rawType": "int64",
         "type": "integer"
        },
        {
         "name": "d_869",
         "rawType": "int64",
         "type": "integer"
        },
        {
         "name": "d_870",
         "rawType": "int64",
         "type": "integer"
        },
        {
         "name": "d_871",
         "rawType": "int64",
         "type": "integer"
        },
        {
         "name": "d_872",
         "rawType": "int64",
         "type": "integer"
        },
        {
         "name": "d_873",
         "rawType": "int64",
         "type": "integer"
        },
        {
         "name": "d_874",
         "rawType": "int64",
         "type": "integer"
        },
        {
         "name": "d_875",
         "rawType": "int64",
         "type": "integer"
        },
        {
         "name": "d_876",
         "rawType": "int64",
         "type": "integer"
        },
        {
         "name": "d_877",
         "rawType": "int64",
         "type": "integer"
        },
        {
         "name": "d_878",
         "rawType": "int64",
         "type": "integer"
        },
        {
         "name": "d_879",
         "rawType": "int64",
         "type": "integer"
        },
        {
         "name": "d_880",
         "rawType": "int64",
         "type": "integer"
        },
        {
         "name": "d_881",
         "rawType": "int64",
         "type": "integer"
        },
        {
         "name": "d_882",
         "rawType": "int64",
         "type": "integer"
        },
        {
         "name": "d_883",
         "rawType": "int64",
         "type": "integer"
        },
        {
         "name": "d_884",
         "rawType": "int64",
         "type": "integer"
        },
        {
         "name": "d_885",
         "rawType": "int64",
         "type": "integer"
        },
        {
         "name": "d_886",
         "rawType": "int64",
         "type": "integer"
        },
        {
         "name": "d_887",
         "rawType": "int64",
         "type": "integer"
        },
        {
         "name": "d_888",
         "rawType": "int64",
         "type": "integer"
        },
        {
         "name": "d_889",
         "rawType": "int64",
         "type": "integer"
        },
        {
         "name": "d_890",
         "rawType": "int64",
         "type": "integer"
        },
        {
         "name": "d_891",
         "rawType": "int64",
         "type": "integer"
        },
        {
         "name": "d_892",
         "rawType": "int64",
         "type": "integer"
        },
        {
         "name": "d_893",
         "rawType": "int64",
         "type": "integer"
        },
        {
         "name": "d_894",
         "rawType": "int64",
         "type": "integer"
        },
        {
         "name": "d_895",
         "rawType": "int64",
         "type": "integer"
        },
        {
         "name": "d_896",
         "rawType": "int64",
         "type": "integer"
        },
        {
         "name": "d_897",
         "rawType": "int64",
         "type": "integer"
        },
        {
         "name": "d_898",
         "rawType": "int64",
         "type": "integer"
        },
        {
         "name": "d_899",
         "rawType": "int64",
         "type": "integer"
        },
        {
         "name": "d_900",
         "rawType": "int64",
         "type": "integer"
        },
        {
         "name": "d_901",
         "rawType": "int64",
         "type": "integer"
        },
        {
         "name": "d_902",
         "rawType": "int64",
         "type": "integer"
        },
        {
         "name": "d_903",
         "rawType": "int64",
         "type": "integer"
        },
        {
         "name": "d_904",
         "rawType": "int64",
         "type": "integer"
        },
        {
         "name": "d_905",
         "rawType": "int64",
         "type": "integer"
        },
        {
         "name": "d_906",
         "rawType": "int64",
         "type": "integer"
        },
        {
         "name": "d_907",
         "rawType": "int64",
         "type": "integer"
        },
        {
         "name": "d_908",
         "rawType": "int64",
         "type": "integer"
        },
        {
         "name": "d_909",
         "rawType": "int64",
         "type": "integer"
        },
        {
         "name": "d_910",
         "rawType": "int64",
         "type": "integer"
        },
        {
         "name": "d_911",
         "rawType": "int64",
         "type": "integer"
        },
        {
         "name": "d_912",
         "rawType": "int64",
         "type": "integer"
        },
        {
         "name": "d_913",
         "rawType": "int64",
         "type": "integer"
        },
        {
         "name": "d_914",
         "rawType": "int64",
         "type": "integer"
        },
        {
         "name": "d_915",
         "rawType": "int64",
         "type": "integer"
        },
        {
         "name": "d_916",
         "rawType": "int64",
         "type": "integer"
        },
        {
         "name": "d_917",
         "rawType": "int64",
         "type": "integer"
        },
        {
         "name": "d_918",
         "rawType": "int64",
         "type": "integer"
        },
        {
         "name": "d_919",
         "rawType": "int64",
         "type": "integer"
        },
        {
         "name": "d_920",
         "rawType": "int64",
         "type": "integer"
        },
        {
         "name": "d_921",
         "rawType": "int64",
         "type": "integer"
        },
        {
         "name": "d_922",
         "rawType": "int64",
         "type": "integer"
        },
        {
         "name": "d_923",
         "rawType": "int64",
         "type": "integer"
        },
        {
         "name": "d_924",
         "rawType": "int64",
         "type": "integer"
        },
        {
         "name": "d_925",
         "rawType": "int64",
         "type": "integer"
        },
        {
         "name": "d_926",
         "rawType": "int64",
         "type": "integer"
        },
        {
         "name": "d_927",
         "rawType": "int64",
         "type": "integer"
        },
        {
         "name": "d_928",
         "rawType": "int64",
         "type": "integer"
        },
        {
         "name": "d_929",
         "rawType": "int64",
         "type": "integer"
        },
        {
         "name": "d_930",
         "rawType": "int64",
         "type": "integer"
        },
        {
         "name": "d_931",
         "rawType": "int64",
         "type": "integer"
        },
        {
         "name": "d_932",
         "rawType": "int64",
         "type": "integer"
        },
        {
         "name": "d_933",
         "rawType": "int64",
         "type": "integer"
        },
        {
         "name": "d_934",
         "rawType": "int64",
         "type": "integer"
        },
        {
         "name": "d_935",
         "rawType": "int64",
         "type": "integer"
        },
        {
         "name": "d_936",
         "rawType": "int64",
         "type": "integer"
        },
        {
         "name": "d_937",
         "rawType": "int64",
         "type": "integer"
        },
        {
         "name": "d_938",
         "rawType": "int64",
         "type": "integer"
        },
        {
         "name": "d_939",
         "rawType": "int64",
         "type": "integer"
        },
        {
         "name": "d_940",
         "rawType": "int64",
         "type": "integer"
        },
        {
         "name": "d_941",
         "rawType": "int64",
         "type": "integer"
        },
        {
         "name": "d_942",
         "rawType": "int64",
         "type": "integer"
        },
        {
         "name": "d_943",
         "rawType": "int64",
         "type": "integer"
        },
        {
         "name": "d_944",
         "rawType": "int64",
         "type": "integer"
        },
        {
         "name": "d_945",
         "rawType": "int64",
         "type": "integer"
        },
        {
         "name": "d_946",
         "rawType": "int64",
         "type": "integer"
        },
        {
         "name": "d_947",
         "rawType": "int64",
         "type": "integer"
        },
        {
         "name": "d_948",
         "rawType": "int64",
         "type": "integer"
        },
        {
         "name": "d_949",
         "rawType": "int64",
         "type": "integer"
        },
        {
         "name": "d_950",
         "rawType": "int64",
         "type": "integer"
        },
        {
         "name": "d_951",
         "rawType": "int64",
         "type": "integer"
        },
        {
         "name": "d_952",
         "rawType": "int64",
         "type": "integer"
        },
        {
         "name": "d_953",
         "rawType": "int64",
         "type": "integer"
        },
        {
         "name": "d_954",
         "rawType": "int64",
         "type": "integer"
        },
        {
         "name": "d_955",
         "rawType": "int64",
         "type": "integer"
        },
        {
         "name": "d_956",
         "rawType": "int64",
         "type": "integer"
        },
        {
         "name": "d_957",
         "rawType": "int64",
         "type": "integer"
        },
        {
         "name": "d_958",
         "rawType": "int64",
         "type": "integer"
        },
        {
         "name": "d_959",
         "rawType": "int64",
         "type": "integer"
        },
        {
         "name": "d_960",
         "rawType": "int64",
         "type": "integer"
        },
        {
         "name": "d_961",
         "rawType": "int64",
         "type": "integer"
        },
        {
         "name": "d_962",
         "rawType": "int64",
         "type": "integer"
        },
        {
         "name": "d_963",
         "rawType": "int64",
         "type": "integer"
        },
        {
         "name": "d_964",
         "rawType": "int64",
         "type": "integer"
        },
        {
         "name": "d_965",
         "rawType": "int64",
         "type": "integer"
        },
        {
         "name": "d_966",
         "rawType": "int64",
         "type": "integer"
        },
        {
         "name": "d_967",
         "rawType": "int64",
         "type": "integer"
        },
        {
         "name": "d_968",
         "rawType": "int64",
         "type": "integer"
        },
        {
         "name": "d_969",
         "rawType": "int64",
         "type": "integer"
        },
        {
         "name": "d_970",
         "rawType": "int64",
         "type": "integer"
        },
        {
         "name": "d_971",
         "rawType": "int64",
         "type": "integer"
        },
        {
         "name": "d_972",
         "rawType": "int64",
         "type": "integer"
        },
        {
         "name": "d_973",
         "rawType": "int64",
         "type": "integer"
        },
        {
         "name": "d_974",
         "rawType": "int64",
         "type": "integer"
        },
        {
         "name": "d_975",
         "rawType": "int64",
         "type": "integer"
        },
        {
         "name": "d_976",
         "rawType": "int64",
         "type": "integer"
        },
        {
         "name": "d_977",
         "rawType": "int64",
         "type": "integer"
        },
        {
         "name": "d_978",
         "rawType": "int64",
         "type": "integer"
        },
        {
         "name": "d_979",
         "rawType": "int64",
         "type": "integer"
        },
        {
         "name": "d_980",
         "rawType": "int64",
         "type": "integer"
        },
        {
         "name": "d_981",
         "rawType": "int64",
         "type": "integer"
        },
        {
         "name": "d_982",
         "rawType": "int64",
         "type": "integer"
        },
        {
         "name": "d_983",
         "rawType": "int64",
         "type": "integer"
        },
        {
         "name": "d_984",
         "rawType": "int64",
         "type": "integer"
        },
        {
         "name": "d_985",
         "rawType": "int64",
         "type": "integer"
        },
        {
         "name": "d_986",
         "rawType": "int64",
         "type": "integer"
        },
        {
         "name": "d_987",
         "rawType": "int64",
         "type": "integer"
        },
        {
         "name": "d_988",
         "rawType": "int64",
         "type": "integer"
        },
        {
         "name": "d_989",
         "rawType": "int64",
         "type": "integer"
        },
        {
         "name": "d_990",
         "rawType": "int64",
         "type": "integer"
        },
        {
         "name": "d_991",
         "rawType": "int64",
         "type": "integer"
        },
        {
         "name": "d_992",
         "rawType": "int64",
         "type": "integer"
        },
        {
         "name": "d_993",
         "rawType": "int64",
         "type": "integer"
        },
        {
         "name": "d_994",
         "rawType": "int64",
         "type": "integer"
        },
        {
         "name": "d_995",
         "rawType": "int64",
         "type": "integer"
        },
        {
         "name": "d_996",
         "rawType": "int64",
         "type": "integer"
        },
        {
         "name": "d_997",
         "rawType": "int64",
         "type": "integer"
        },
        {
         "name": "d_998",
         "rawType": "int64",
         "type": "integer"
        },
        {
         "name": "d_999",
         "rawType": "int64",
         "type": "integer"
        },
        {
         "name": "d_1000",
         "rawType": "int64",
         "type": "integer"
        },
        {
         "name": "d_1001",
         "rawType": "int64",
         "type": "integer"
        },
        {
         "name": "d_1002",
         "rawType": "int64",
         "type": "integer"
        },
        {
         "name": "d_1003",
         "rawType": "int64",
         "type": "integer"
        },
        {
         "name": "d_1004",
         "rawType": "int64",
         "type": "integer"
        },
        {
         "name": "d_1005",
         "rawType": "int64",
         "type": "integer"
        },
        {
         "name": "d_1006",
         "rawType": "int64",
         "type": "integer"
        },
        {
         "name": "d_1007",
         "rawType": "int64",
         "type": "integer"
        },
        {
         "name": "d_1008",
         "rawType": "int64",
         "type": "integer"
        },
        {
         "name": "d_1009",
         "rawType": "int64",
         "type": "integer"
        },
        {
         "name": "d_1010",
         "rawType": "int64",
         "type": "integer"
        },
        {
         "name": "d_1011",
         "rawType": "int64",
         "type": "integer"
        },
        {
         "name": "d_1012",
         "rawType": "int64",
         "type": "integer"
        },
        {
         "name": "d_1013",
         "rawType": "int64",
         "type": "integer"
        },
        {
         "name": "d_1014",
         "rawType": "int64",
         "type": "integer"
        },
        {
         "name": "d_1015",
         "rawType": "int64",
         "type": "integer"
        },
        {
         "name": "d_1016",
         "rawType": "int64",
         "type": "integer"
        },
        {
         "name": "d_1017",
         "rawType": "int64",
         "type": "integer"
        },
        {
         "name": "d_1018",
         "rawType": "int64",
         "type": "integer"
        },
        {
         "name": "d_1019",
         "rawType": "int64",
         "type": "integer"
        },
        {
         "name": "d_1020",
         "rawType": "int64",
         "type": "integer"
        },
        {
         "name": "d_1021",
         "rawType": "int64",
         "type": "integer"
        },
        {
         "name": "d_1022",
         "rawType": "int64",
         "type": "integer"
        },
        {
         "name": "d_1023",
         "rawType": "int64",
         "type": "integer"
        },
        {
         "name": "d_1024",
         "rawType": "int64",
         "type": "integer"
        },
        {
         "name": "d_1025",
         "rawType": "int64",
         "type": "integer"
        },
        {
         "name": "d_1026",
         "rawType": "int64",
         "type": "integer"
        },
        {
         "name": "d_1027",
         "rawType": "int64",
         "type": "integer"
        },
        {
         "name": "d_1028",
         "rawType": "int64",
         "type": "integer"
        },
        {
         "name": "d_1029",
         "rawType": "int64",
         "type": "integer"
        },
        {
         "name": "d_1030",
         "rawType": "int64",
         "type": "integer"
        },
        {
         "name": "d_1031",
         "rawType": "int64",
         "type": "integer"
        },
        {
         "name": "d_1032",
         "rawType": "int64",
         "type": "integer"
        },
        {
         "name": "d_1033",
         "rawType": "int64",
         "type": "integer"
        },
        {
         "name": "d_1034",
         "rawType": "int64",
         "type": "integer"
        },
        {
         "name": "d_1035",
         "rawType": "int64",
         "type": "integer"
        },
        {
         "name": "d_1036",
         "rawType": "int64",
         "type": "integer"
        },
        {
         "name": "d_1037",
         "rawType": "int64",
         "type": "integer"
        },
        {
         "name": "d_1038",
         "rawType": "int64",
         "type": "integer"
        },
        {
         "name": "d_1039",
         "rawType": "int64",
         "type": "integer"
        },
        {
         "name": "d_1040",
         "rawType": "int64",
         "type": "integer"
        },
        {
         "name": "d_1041",
         "rawType": "int64",
         "type": "integer"
        },
        {
         "name": "d_1042",
         "rawType": "int64",
         "type": "integer"
        },
        {
         "name": "d_1043",
         "rawType": "int64",
         "type": "integer"
        },
        {
         "name": "d_1044",
         "rawType": "int64",
         "type": "integer"
        },
        {
         "name": "d_1045",
         "rawType": "int64",
         "type": "integer"
        },
        {
         "name": "d_1046",
         "rawType": "int64",
         "type": "integer"
        },
        {
         "name": "d_1047",
         "rawType": "int64",
         "type": "integer"
        },
        {
         "name": "d_1048",
         "rawType": "int64",
         "type": "integer"
        },
        {
         "name": "d_1049",
         "rawType": "int64",
         "type": "integer"
        },
        {
         "name": "d_1050",
         "rawType": "int64",
         "type": "integer"
        },
        {
         "name": "d_1051",
         "rawType": "int64",
         "type": "integer"
        },
        {
         "name": "d_1052",
         "rawType": "int64",
         "type": "integer"
        },
        {
         "name": "d_1053",
         "rawType": "int64",
         "type": "integer"
        },
        {
         "name": "d_1054",
         "rawType": "int64",
         "type": "integer"
        },
        {
         "name": "d_1055",
         "rawType": "int64",
         "type": "integer"
        },
        {
         "name": "d_1056",
         "rawType": "int64",
         "type": "integer"
        },
        {
         "name": "d_1057",
         "rawType": "int64",
         "type": "integer"
        },
        {
         "name": "d_1058",
         "rawType": "int64",
         "type": "integer"
        },
        {
         "name": "d_1059",
         "rawType": "int64",
         "type": "integer"
        },
        {
         "name": "d_1060",
         "rawType": "int64",
         "type": "integer"
        },
        {
         "name": "d_1061",
         "rawType": "int64",
         "type": "integer"
        },
        {
         "name": "d_1062",
         "rawType": "int64",
         "type": "integer"
        },
        {
         "name": "d_1063",
         "rawType": "int64",
         "type": "integer"
        },
        {
         "name": "d_1064",
         "rawType": "int64",
         "type": "integer"
        },
        {
         "name": "d_1065",
         "rawType": "int64",
         "type": "integer"
        },
        {
         "name": "d_1066",
         "rawType": "int64",
         "type": "integer"
        },
        {
         "name": "d_1067",
         "rawType": "int64",
         "type": "integer"
        },
        {
         "name": "d_1068",
         "rawType": "int64",
         "type": "integer"
        },
        {
         "name": "d_1069",
         "rawType": "int64",
         "type": "integer"
        },
        {
         "name": "d_1070",
         "rawType": "int64",
         "type": "integer"
        },
        {
         "name": "d_1071",
         "rawType": "int64",
         "type": "integer"
        },
        {
         "name": "d_1072",
         "rawType": "int64",
         "type": "integer"
        },
        {
         "name": "d_1073",
         "rawType": "int64",
         "type": "integer"
        },
        {
         "name": "d_1074",
         "rawType": "int64",
         "type": "integer"
        },
        {
         "name": "d_1075",
         "rawType": "int64",
         "type": "integer"
        },
        {
         "name": "d_1076",
         "rawType": "int64",
         "type": "integer"
        },
        {
         "name": "d_1077",
         "rawType": "int64",
         "type": "integer"
        },
        {
         "name": "d_1078",
         "rawType": "int64",
         "type": "integer"
        },
        {
         "name": "d_1079",
         "rawType": "int64",
         "type": "integer"
        },
        {
         "name": "d_1080",
         "rawType": "int64",
         "type": "integer"
        },
        {
         "name": "d_1081",
         "rawType": "int64",
         "type": "integer"
        },
        {
         "name": "d_1082",
         "rawType": "int64",
         "type": "integer"
        },
        {
         "name": "d_1083",
         "rawType": "int64",
         "type": "integer"
        },
        {
         "name": "d_1084",
         "rawType": "int64",
         "type": "integer"
        },
        {
         "name": "d_1085",
         "rawType": "int64",
         "type": "integer"
        },
        {
         "name": "d_1086",
         "rawType": "int64",
         "type": "integer"
        },
        {
         "name": "d_1087",
         "rawType": "int64",
         "type": "integer"
        },
        {
         "name": "d_1088",
         "rawType": "int64",
         "type": "integer"
        },
        {
         "name": "d_1089",
         "rawType": "int64",
         "type": "integer"
        },
        {
         "name": "d_1090",
         "rawType": "int64",
         "type": "integer"
        },
        {
         "name": "d_1091",
         "rawType": "int64",
         "type": "integer"
        },
        {
         "name": "d_1092",
         "rawType": "int64",
         "type": "integer"
        },
        {
         "name": "d_1093",
         "rawType": "int64",
         "type": "integer"
        },
        {
         "name": "d_1094",
         "rawType": "int64",
         "type": "integer"
        },
        {
         "name": "d_1095",
         "rawType": "int64",
         "type": "integer"
        },
        {
         "name": "d_1096",
         "rawType": "int64",
         "type": "integer"
        },
        {
         "name": "d_1097",
         "rawType": "int64",
         "type": "integer"
        },
        {
         "name": "d_1098",
         "rawType": "int64",
         "type": "integer"
        },
        {
         "name": "d_1099",
         "rawType": "int64",
         "type": "integer"
        },
        {
         "name": "d_1100",
         "rawType": "int64",
         "type": "integer"
        },
        {
         "name": "d_1101",
         "rawType": "int64",
         "type": "integer"
        },
        {
         "name": "d_1102",
         "rawType": "int64",
         "type": "integer"
        },
        {
         "name": "d_1103",
         "rawType": "int64",
         "type": "integer"
        },
        {
         "name": "d_1104",
         "rawType": "int64",
         "type": "integer"
        },
        {
         "name": "d_1105",
         "rawType": "int64",
         "type": "integer"
        },
        {
         "name": "d_1106",
         "rawType": "int64",
         "type": "integer"
        },
        {
         "name": "d_1107",
         "rawType": "int64",
         "type": "integer"
        },
        {
         "name": "d_1108",
         "rawType": "int64",
         "type": "integer"
        },
        {
         "name": "d_1109",
         "rawType": "int64",
         "type": "integer"
        },
        {
         "name": "d_1110",
         "rawType": "int64",
         "type": "integer"
        },
        {
         "name": "d_1111",
         "rawType": "int64",
         "type": "integer"
        },
        {
         "name": "d_1112",
         "rawType": "int64",
         "type": "integer"
        },
        {
         "name": "d_1113",
         "rawType": "int64",
         "type": "integer"
        },
        {
         "name": "d_1114",
         "rawType": "int64",
         "type": "integer"
        },
        {
         "name": "d_1115",
         "rawType": "int64",
         "type": "integer"
        },
        {
         "name": "d_1116",
         "rawType": "int64",
         "type": "integer"
        },
        {
         "name": "d_1117",
         "rawType": "int64",
         "type": "integer"
        },
        {
         "name": "d_1118",
         "rawType": "int64",
         "type": "integer"
        },
        {
         "name": "d_1119",
         "rawType": "int64",
         "type": "integer"
        },
        {
         "name": "d_1120",
         "rawType": "int64",
         "type": "integer"
        },
        {
         "name": "d_1121",
         "rawType": "int64",
         "type": "integer"
        },
        {
         "name": "d_1122",
         "rawType": "int64",
         "type": "integer"
        },
        {
         "name": "d_1123",
         "rawType": "int64",
         "type": "integer"
        },
        {
         "name": "d_1124",
         "rawType": "int64",
         "type": "integer"
        },
        {
         "name": "d_1125",
         "rawType": "int64",
         "type": "integer"
        },
        {
         "name": "d_1126",
         "rawType": "int64",
         "type": "integer"
        },
        {
         "name": "d_1127",
         "rawType": "int64",
         "type": "integer"
        },
        {
         "name": "d_1128",
         "rawType": "int64",
         "type": "integer"
        },
        {
         "name": "d_1129",
         "rawType": "int64",
         "type": "integer"
        },
        {
         "name": "d_1130",
         "rawType": "int64",
         "type": "integer"
        },
        {
         "name": "d_1131",
         "rawType": "int64",
         "type": "integer"
        },
        {
         "name": "d_1132",
         "rawType": "int64",
         "type": "integer"
        },
        {
         "name": "d_1133",
         "rawType": "int64",
         "type": "integer"
        },
        {
         "name": "d_1134",
         "rawType": "int64",
         "type": "integer"
        },
        {
         "name": "d_1135",
         "rawType": "int64",
         "type": "integer"
        },
        {
         "name": "d_1136",
         "rawType": "int64",
         "type": "integer"
        },
        {
         "name": "d_1137",
         "rawType": "int64",
         "type": "integer"
        },
        {
         "name": "d_1138",
         "rawType": "int64",
         "type": "integer"
        },
        {
         "name": "d_1139",
         "rawType": "int64",
         "type": "integer"
        },
        {
         "name": "d_1140",
         "rawType": "int64",
         "type": "integer"
        },
        {
         "name": "d_1141",
         "rawType": "int64",
         "type": "integer"
        },
        {
         "name": "d_1142",
         "rawType": "int64",
         "type": "integer"
        },
        {
         "name": "d_1143",
         "rawType": "int64",
         "type": "integer"
        },
        {
         "name": "d_1144",
         "rawType": "int64",
         "type": "integer"
        },
        {
         "name": "d_1145",
         "rawType": "int64",
         "type": "integer"
        },
        {
         "name": "d_1146",
         "rawType": "int64",
         "type": "integer"
        },
        {
         "name": "d_1147",
         "rawType": "int64",
         "type": "integer"
        },
        {
         "name": "d_1148",
         "rawType": "int64",
         "type": "integer"
        },
        {
         "name": "d_1149",
         "rawType": "int64",
         "type": "integer"
        },
        {
         "name": "d_1150",
         "rawType": "int64",
         "type": "integer"
        },
        {
         "name": "d_1151",
         "rawType": "int64",
         "type": "integer"
        },
        {
         "name": "d_1152",
         "rawType": "int64",
         "type": "integer"
        },
        {
         "name": "d_1153",
         "rawType": "int64",
         "type": "integer"
        },
        {
         "name": "d_1154",
         "rawType": "int64",
         "type": "integer"
        },
        {
         "name": "d_1155",
         "rawType": "int64",
         "type": "integer"
        },
        {
         "name": "d_1156",
         "rawType": "int64",
         "type": "integer"
        },
        {
         "name": "d_1157",
         "rawType": "int64",
         "type": "integer"
        },
        {
         "name": "d_1158",
         "rawType": "int64",
         "type": "integer"
        },
        {
         "name": "d_1159",
         "rawType": "int64",
         "type": "integer"
        },
        {
         "name": "d_1160",
         "rawType": "int64",
         "type": "integer"
        },
        {
         "name": "d_1161",
         "rawType": "int64",
         "type": "integer"
        },
        {
         "name": "d_1162",
         "rawType": "int64",
         "type": "integer"
        },
        {
         "name": "d_1163",
         "rawType": "int64",
         "type": "integer"
        },
        {
         "name": "d_1164",
         "rawType": "int64",
         "type": "integer"
        },
        {
         "name": "d_1165",
         "rawType": "int64",
         "type": "integer"
        },
        {
         "name": "d_1166",
         "rawType": "int64",
         "type": "integer"
        },
        {
         "name": "d_1167",
         "rawType": "int64",
         "type": "integer"
        },
        {
         "name": "d_1168",
         "rawType": "int64",
         "type": "integer"
        },
        {
         "name": "d_1169",
         "rawType": "int64",
         "type": "integer"
        },
        {
         "name": "d_1170",
         "rawType": "int64",
         "type": "integer"
        },
        {
         "name": "d_1171",
         "rawType": "int64",
         "type": "integer"
        },
        {
         "name": "d_1172",
         "rawType": "int64",
         "type": "integer"
        },
        {
         "name": "d_1173",
         "rawType": "int64",
         "type": "integer"
        },
        {
         "name": "d_1174",
         "rawType": "int64",
         "type": "integer"
        },
        {
         "name": "d_1175",
         "rawType": "int64",
         "type": "integer"
        },
        {
         "name": "d_1176",
         "rawType": "int64",
         "type": "integer"
        },
        {
         "name": "d_1177",
         "rawType": "int64",
         "type": "integer"
        },
        {
         "name": "d_1178",
         "rawType": "int64",
         "type": "integer"
        },
        {
         "name": "d_1179",
         "rawType": "int64",
         "type": "integer"
        },
        {
         "name": "d_1180",
         "rawType": "int64",
         "type": "integer"
        },
        {
         "name": "d_1181",
         "rawType": "int64",
         "type": "integer"
        },
        {
         "name": "d_1182",
         "rawType": "int64",
         "type": "integer"
        },
        {
         "name": "d_1183",
         "rawType": "int64",
         "type": "integer"
        },
        {
         "name": "d_1184",
         "rawType": "int64",
         "type": "integer"
        },
        {
         "name": "d_1185",
         "rawType": "int64",
         "type": "integer"
        },
        {
         "name": "d_1186",
         "rawType": "int64",
         "type": "integer"
        },
        {
         "name": "d_1187",
         "rawType": "int64",
         "type": "integer"
        },
        {
         "name": "d_1188",
         "rawType": "int64",
         "type": "integer"
        },
        {
         "name": "d_1189",
         "rawType": "int64",
         "type": "integer"
        },
        {
         "name": "d_1190",
         "rawType": "int64",
         "type": "integer"
        },
        {
         "name": "d_1191",
         "rawType": "int64",
         "type": "integer"
        },
        {
         "name": "d_1192",
         "rawType": "int64",
         "type": "integer"
        },
        {
         "name": "d_1193",
         "rawType": "int64",
         "type": "integer"
        },
        {
         "name": "d_1194",
         "rawType": "int64",
         "type": "integer"
        },
        {
         "name": "d_1195",
         "rawType": "int64",
         "type": "integer"
        },
        {
         "name": "d_1196",
         "rawType": "int64",
         "type": "integer"
        },
        {
         "name": "d_1197",
         "rawType": "int64",
         "type": "integer"
        },
        {
         "name": "d_1198",
         "rawType": "int64",
         "type": "integer"
        },
        {
         "name": "d_1199",
         "rawType": "int64",
         "type": "integer"
        },
        {
         "name": "d_1200",
         "rawType": "int64",
         "type": "integer"
        },
        {
         "name": "d_1201",
         "rawType": "int64",
         "type": "integer"
        },
        {
         "name": "d_1202",
         "rawType": "int64",
         "type": "integer"
        },
        {
         "name": "d_1203",
         "rawType": "int64",
         "type": "integer"
        },
        {
         "name": "d_1204",
         "rawType": "int64",
         "type": "integer"
        },
        {
         "name": "d_1205",
         "rawType": "int64",
         "type": "integer"
        },
        {
         "name": "d_1206",
         "rawType": "int64",
         "type": "integer"
        },
        {
         "name": "d_1207",
         "rawType": "int64",
         "type": "integer"
        },
        {
         "name": "d_1208",
         "rawType": "int64",
         "type": "integer"
        },
        {
         "name": "d_1209",
         "rawType": "int64",
         "type": "integer"
        },
        {
         "name": "d_1210",
         "rawType": "int64",
         "type": "integer"
        },
        {
         "name": "d_1211",
         "rawType": "int64",
         "type": "integer"
        },
        {
         "name": "d_1212",
         "rawType": "int64",
         "type": "integer"
        },
        {
         "name": "d_1213",
         "rawType": "int64",
         "type": "integer"
        },
        {
         "name": "d_1214",
         "rawType": "int64",
         "type": "integer"
        },
        {
         "name": "d_1215",
         "rawType": "int64",
         "type": "integer"
        },
        {
         "name": "d_1216",
         "rawType": "int64",
         "type": "integer"
        },
        {
         "name": "d_1217",
         "rawType": "int64",
         "type": "integer"
        },
        {
         "name": "d_1218",
         "rawType": "int64",
         "type": "integer"
        },
        {
         "name": "d_1219",
         "rawType": "int64",
         "type": "integer"
        },
        {
         "name": "d_1220",
         "rawType": "int64",
         "type": "integer"
        },
        {
         "name": "d_1221",
         "rawType": "int64",
         "type": "integer"
        },
        {
         "name": "d_1222",
         "rawType": "int64",
         "type": "integer"
        },
        {
         "name": "d_1223",
         "rawType": "int64",
         "type": "integer"
        },
        {
         "name": "d_1224",
         "rawType": "int64",
         "type": "integer"
        },
        {
         "name": "d_1225",
         "rawType": "int64",
         "type": "integer"
        },
        {
         "name": "d_1226",
         "rawType": "int64",
         "type": "integer"
        },
        {
         "name": "d_1227",
         "rawType": "int64",
         "type": "integer"
        },
        {
         "name": "d_1228",
         "rawType": "int64",
         "type": "integer"
        },
        {
         "name": "d_1229",
         "rawType": "int64",
         "type": "integer"
        },
        {
         "name": "d_1230",
         "rawType": "int64",
         "type": "integer"
        },
        {
         "name": "d_1231",
         "rawType": "int64",
         "type": "integer"
        },
        {
         "name": "d_1232",
         "rawType": "int64",
         "type": "integer"
        },
        {
         "name": "d_1233",
         "rawType": "int64",
         "type": "integer"
        },
        {
         "name": "d_1234",
         "rawType": "int64",
         "type": "integer"
        },
        {
         "name": "d_1235",
         "rawType": "int64",
         "type": "integer"
        },
        {
         "name": "d_1236",
         "rawType": "int64",
         "type": "integer"
        },
        {
         "name": "d_1237",
         "rawType": "int64",
         "type": "integer"
        },
        {
         "name": "d_1238",
         "rawType": "int64",
         "type": "integer"
        },
        {
         "name": "d_1239",
         "rawType": "int64",
         "type": "integer"
        },
        {
         "name": "d_1240",
         "rawType": "int64",
         "type": "integer"
        },
        {
         "name": "d_1241",
         "rawType": "int64",
         "type": "integer"
        },
        {
         "name": "d_1242",
         "rawType": "int64",
         "type": "integer"
        },
        {
         "name": "d_1243",
         "rawType": "int64",
         "type": "integer"
        },
        {
         "name": "d_1244",
         "rawType": "int64",
         "type": "integer"
        },
        {
         "name": "d_1245",
         "rawType": "int64",
         "type": "integer"
        },
        {
         "name": "d_1246",
         "rawType": "int64",
         "type": "integer"
        },
        {
         "name": "d_1247",
         "rawType": "int64",
         "type": "integer"
        },
        {
         "name": "d_1248",
         "rawType": "int64",
         "type": "integer"
        },
        {
         "name": "d_1249",
         "rawType": "int64",
         "type": "integer"
        },
        {
         "name": "d_1250",
         "rawType": "int64",
         "type": "integer"
        },
        {
         "name": "d_1251",
         "rawType": "int64",
         "type": "integer"
        },
        {
         "name": "d_1252",
         "rawType": "int64",
         "type": "integer"
        },
        {
         "name": "d_1253",
         "rawType": "int64",
         "type": "integer"
        },
        {
         "name": "d_1254",
         "rawType": "int64",
         "type": "integer"
        },
        {
         "name": "d_1255",
         "rawType": "int64",
         "type": "integer"
        },
        {
         "name": "d_1256",
         "rawType": "int64",
         "type": "integer"
        },
        {
         "name": "d_1257",
         "rawType": "int64",
         "type": "integer"
        },
        {
         "name": "d_1258",
         "rawType": "int64",
         "type": "integer"
        },
        {
         "name": "d_1259",
         "rawType": "int64",
         "type": "integer"
        },
        {
         "name": "d_1260",
         "rawType": "int64",
         "type": "integer"
        },
        {
         "name": "d_1261",
         "rawType": "int64",
         "type": "integer"
        },
        {
         "name": "d_1262",
         "rawType": "int64",
         "type": "integer"
        },
        {
         "name": "d_1263",
         "rawType": "int64",
         "type": "integer"
        },
        {
         "name": "d_1264",
         "rawType": "int64",
         "type": "integer"
        },
        {
         "name": "d_1265",
         "rawType": "int64",
         "type": "integer"
        },
        {
         "name": "d_1266",
         "rawType": "int64",
         "type": "integer"
        },
        {
         "name": "d_1267",
         "rawType": "int64",
         "type": "integer"
        },
        {
         "name": "d_1268",
         "rawType": "int64",
         "type": "integer"
        },
        {
         "name": "d_1269",
         "rawType": "int64",
         "type": "integer"
        },
        {
         "name": "d_1270",
         "rawType": "int64",
         "type": "integer"
        },
        {
         "name": "d_1271",
         "rawType": "int64",
         "type": "integer"
        },
        {
         "name": "d_1272",
         "rawType": "int64",
         "type": "integer"
        },
        {
         "name": "d_1273",
         "rawType": "int64",
         "type": "integer"
        },
        {
         "name": "d_1274",
         "rawType": "int64",
         "type": "integer"
        },
        {
         "name": "d_1275",
         "rawType": "int64",
         "type": "integer"
        },
        {
         "name": "d_1276",
         "rawType": "int64",
         "type": "integer"
        },
        {
         "name": "d_1277",
         "rawType": "int64",
         "type": "integer"
        },
        {
         "name": "d_1278",
         "rawType": "int64",
         "type": "integer"
        },
        {
         "name": "d_1279",
         "rawType": "int64",
         "type": "integer"
        },
        {
         "name": "d_1280",
         "rawType": "int64",
         "type": "integer"
        },
        {
         "name": "d_1281",
         "rawType": "int64",
         "type": "integer"
        },
        {
         "name": "d_1282",
         "rawType": "int64",
         "type": "integer"
        },
        {
         "name": "d_1283",
         "rawType": "int64",
         "type": "integer"
        },
        {
         "name": "d_1284",
         "rawType": "int64",
         "type": "integer"
        },
        {
         "name": "d_1285",
         "rawType": "int64",
         "type": "integer"
        },
        {
         "name": "d_1286",
         "rawType": "int64",
         "type": "integer"
        },
        {
         "name": "d_1287",
         "rawType": "int64",
         "type": "integer"
        },
        {
         "name": "d_1288",
         "rawType": "int64",
         "type": "integer"
        },
        {
         "name": "d_1289",
         "rawType": "int64",
         "type": "integer"
        },
        {
         "name": "d_1290",
         "rawType": "int64",
         "type": "integer"
        },
        {
         "name": "d_1291",
         "rawType": "int64",
         "type": "integer"
        },
        {
         "name": "d_1292",
         "rawType": "int64",
         "type": "integer"
        },
        {
         "name": "d_1293",
         "rawType": "int64",
         "type": "integer"
        },
        {
         "name": "d_1294",
         "rawType": "int64",
         "type": "integer"
        },
        {
         "name": "d_1295",
         "rawType": "int64",
         "type": "integer"
        },
        {
         "name": "d_1296",
         "rawType": "int64",
         "type": "integer"
        },
        {
         "name": "d_1297",
         "rawType": "int64",
         "type": "integer"
        },
        {
         "name": "d_1298",
         "rawType": "int64",
         "type": "integer"
        },
        {
         "name": "d_1299",
         "rawType": "int64",
         "type": "integer"
        },
        {
         "name": "d_1300",
         "rawType": "int64",
         "type": "integer"
        },
        {
         "name": "d_1301",
         "rawType": "int64",
         "type": "integer"
        },
        {
         "name": "d_1302",
         "rawType": "int64",
         "type": "integer"
        },
        {
         "name": "d_1303",
         "rawType": "int64",
         "type": "integer"
        },
        {
         "name": "d_1304",
         "rawType": "int64",
         "type": "integer"
        },
        {
         "name": "d_1305",
         "rawType": "int64",
         "type": "integer"
        },
        {
         "name": "d_1306",
         "rawType": "int64",
         "type": "integer"
        },
        {
         "name": "d_1307",
         "rawType": "int64",
         "type": "integer"
        },
        {
         "name": "d_1308",
         "rawType": "int64",
         "type": "integer"
        },
        {
         "name": "d_1309",
         "rawType": "int64",
         "type": "integer"
        },
        {
         "name": "d_1310",
         "rawType": "int64",
         "type": "integer"
        },
        {
         "name": "d_1311",
         "rawType": "int64",
         "type": "integer"
        },
        {
         "name": "d_1312",
         "rawType": "int64",
         "type": "integer"
        },
        {
         "name": "d_1313",
         "rawType": "int64",
         "type": "integer"
        },
        {
         "name": "d_1314",
         "rawType": "int64",
         "type": "integer"
        },
        {
         "name": "d_1315",
         "rawType": "int64",
         "type": "integer"
        },
        {
         "name": "d_1316",
         "rawType": "int64",
         "type": "integer"
        },
        {
         "name": "d_1317",
         "rawType": "int64",
         "type": "integer"
        },
        {
         "name": "d_1318",
         "rawType": "int64",
         "type": "integer"
        },
        {
         "name": "d_1319",
         "rawType": "int64",
         "type": "integer"
        },
        {
         "name": "d_1320",
         "rawType": "int64",
         "type": "integer"
        },
        {
         "name": "d_1321",
         "rawType": "int64",
         "type": "integer"
        },
        {
         "name": "d_1322",
         "rawType": "int64",
         "type": "integer"
        },
        {
         "name": "d_1323",
         "rawType": "int64",
         "type": "integer"
        },
        {
         "name": "d_1324",
         "rawType": "int64",
         "type": "integer"
        },
        {
         "name": "d_1325",
         "rawType": "int64",
         "type": "integer"
        },
        {
         "name": "d_1326",
         "rawType": "int64",
         "type": "integer"
        },
        {
         "name": "d_1327",
         "rawType": "int64",
         "type": "integer"
        },
        {
         "name": "d_1328",
         "rawType": "int64",
         "type": "integer"
        },
        {
         "name": "d_1329",
         "rawType": "int64",
         "type": "integer"
        },
        {
         "name": "d_1330",
         "rawType": "int64",
         "type": "integer"
        },
        {
         "name": "d_1331",
         "rawType": "int64",
         "type": "integer"
        },
        {
         "name": "d_1332",
         "rawType": "int64",
         "type": "integer"
        },
        {
         "name": "d_1333",
         "rawType": "int64",
         "type": "integer"
        },
        {
         "name": "d_1334",
         "rawType": "int64",
         "type": "integer"
        },
        {
         "name": "d_1335",
         "rawType": "int64",
         "type": "integer"
        },
        {
         "name": "d_1336",
         "rawType": "int64",
         "type": "integer"
        },
        {
         "name": "d_1337",
         "rawType": "int64",
         "type": "integer"
        },
        {
         "name": "d_1338",
         "rawType": "int64",
         "type": "integer"
        },
        {
         "name": "d_1339",
         "rawType": "int64",
         "type": "integer"
        },
        {
         "name": "d_1340",
         "rawType": "int64",
         "type": "integer"
        },
        {
         "name": "d_1341",
         "rawType": "int64",
         "type": "integer"
        },
        {
         "name": "d_1342",
         "rawType": "int64",
         "type": "integer"
        },
        {
         "name": "d_1343",
         "rawType": "int64",
         "type": "integer"
        },
        {
         "name": "d_1344",
         "rawType": "int64",
         "type": "integer"
        },
        {
         "name": "d_1345",
         "rawType": "int64",
         "type": "integer"
        },
        {
         "name": "d_1346",
         "rawType": "int64",
         "type": "integer"
        },
        {
         "name": "d_1347",
         "rawType": "int64",
         "type": "integer"
        },
        {
         "name": "d_1348",
         "rawType": "int64",
         "type": "integer"
        },
        {
         "name": "d_1349",
         "rawType": "int64",
         "type": "integer"
        },
        {
         "name": "d_1350",
         "rawType": "int64",
         "type": "integer"
        },
        {
         "name": "d_1351",
         "rawType": "int64",
         "type": "integer"
        },
        {
         "name": "d_1352",
         "rawType": "int64",
         "type": "integer"
        },
        {
         "name": "d_1353",
         "rawType": "int64",
         "type": "integer"
        },
        {
         "name": "d_1354",
         "rawType": "int64",
         "type": "integer"
        },
        {
         "name": "d_1355",
         "rawType": "int64",
         "type": "integer"
        },
        {
         "name": "d_1356",
         "rawType": "int64",
         "type": "integer"
        },
        {
         "name": "d_1357",
         "rawType": "int64",
         "type": "integer"
        },
        {
         "name": "d_1358",
         "rawType": "int64",
         "type": "integer"
        },
        {
         "name": "d_1359",
         "rawType": "int64",
         "type": "integer"
        },
        {
         "name": "d_1360",
         "rawType": "int64",
         "type": "integer"
        },
        {
         "name": "d_1361",
         "rawType": "int64",
         "type": "integer"
        },
        {
         "name": "d_1362",
         "rawType": "int64",
         "type": "integer"
        },
        {
         "name": "d_1363",
         "rawType": "int64",
         "type": "integer"
        },
        {
         "name": "d_1364",
         "rawType": "int64",
         "type": "integer"
        },
        {
         "name": "d_1365",
         "rawType": "int64",
         "type": "integer"
        },
        {
         "name": "d_1366",
         "rawType": "int64",
         "type": "integer"
        },
        {
         "name": "d_1367",
         "rawType": "int64",
         "type": "integer"
        },
        {
         "name": "d_1368",
         "rawType": "int64",
         "type": "integer"
        },
        {
         "name": "d_1369",
         "rawType": "int64",
         "type": "integer"
        },
        {
         "name": "d_1370",
         "rawType": "int64",
         "type": "integer"
        },
        {
         "name": "d_1371",
         "rawType": "int64",
         "type": "integer"
        },
        {
         "name": "d_1372",
         "rawType": "int64",
         "type": "integer"
        },
        {
         "name": "d_1373",
         "rawType": "int64",
         "type": "integer"
        },
        {
         "name": "d_1374",
         "rawType": "int64",
         "type": "integer"
        },
        {
         "name": "d_1375",
         "rawType": "int64",
         "type": "integer"
        },
        {
         "name": "d_1376",
         "rawType": "int64",
         "type": "integer"
        },
        {
         "name": "d_1377",
         "rawType": "int64",
         "type": "integer"
        },
        {
         "name": "d_1378",
         "rawType": "int64",
         "type": "integer"
        },
        {
         "name": "d_1379",
         "rawType": "int64",
         "type": "integer"
        },
        {
         "name": "d_1380",
         "rawType": "int64",
         "type": "integer"
        },
        {
         "name": "d_1381",
         "rawType": "int64",
         "type": "integer"
        },
        {
         "name": "d_1382",
         "rawType": "int64",
         "type": "integer"
        },
        {
         "name": "d_1383",
         "rawType": "int64",
         "type": "integer"
        },
        {
         "name": "d_1384",
         "rawType": "int64",
         "type": "integer"
        },
        {
         "name": "d_1385",
         "rawType": "int64",
         "type": "integer"
        },
        {
         "name": "d_1386",
         "rawType": "int64",
         "type": "integer"
        },
        {
         "name": "d_1387",
         "rawType": "int64",
         "type": "integer"
        },
        {
         "name": "d_1388",
         "rawType": "int64",
         "type": "integer"
        },
        {
         "name": "d_1389",
         "rawType": "int64",
         "type": "integer"
        },
        {
         "name": "d_1390",
         "rawType": "int64",
         "type": "integer"
        },
        {
         "name": "d_1391",
         "rawType": "int64",
         "type": "integer"
        },
        {
         "name": "d_1392",
         "rawType": "int64",
         "type": "integer"
        },
        {
         "name": "d_1393",
         "rawType": "int64",
         "type": "integer"
        },
        {
         "name": "d_1394",
         "rawType": "int64",
         "type": "integer"
        },
        {
         "name": "d_1395",
         "rawType": "int64",
         "type": "integer"
        },
        {
         "name": "d_1396",
         "rawType": "int64",
         "type": "integer"
        },
        {
         "name": "d_1397",
         "rawType": "int64",
         "type": "integer"
        },
        {
         "name": "d_1398",
         "rawType": "int64",
         "type": "integer"
        },
        {
         "name": "d_1399",
         "rawType": "int64",
         "type": "integer"
        },
        {
         "name": "d_1400",
         "rawType": "int64",
         "type": "integer"
        },
        {
         "name": "d_1401",
         "rawType": "int64",
         "type": "integer"
        },
        {
         "name": "d_1402",
         "rawType": "int64",
         "type": "integer"
        },
        {
         "name": "d_1403",
         "rawType": "int64",
         "type": "integer"
        },
        {
         "name": "d_1404",
         "rawType": "int64",
         "type": "integer"
        },
        {
         "name": "d_1405",
         "rawType": "int64",
         "type": "integer"
        },
        {
         "name": "d_1406",
         "rawType": "int64",
         "type": "integer"
        },
        {
         "name": "d_1407",
         "rawType": "int64",
         "type": "integer"
        },
        {
         "name": "d_1408",
         "rawType": "int64",
         "type": "integer"
        },
        {
         "name": "d_1409",
         "rawType": "int64",
         "type": "integer"
        },
        {
         "name": "d_1410",
         "rawType": "int64",
         "type": "integer"
        },
        {
         "name": "d_1411",
         "rawType": "int64",
         "type": "integer"
        },
        {
         "name": "d_1412",
         "rawType": "int64",
         "type": "integer"
        },
        {
         "name": "d_1413",
         "rawType": "int64",
         "type": "integer"
        },
        {
         "name": "d_1414",
         "rawType": "int64",
         "type": "integer"
        },
        {
         "name": "d_1415",
         "rawType": "int64",
         "type": "integer"
        },
        {
         "name": "d_1416",
         "rawType": "int64",
         "type": "integer"
        },
        {
         "name": "d_1417",
         "rawType": "int64",
         "type": "integer"
        },
        {
         "name": "d_1418",
         "rawType": "int64",
         "type": "integer"
        },
        {
         "name": "d_1419",
         "rawType": "int64",
         "type": "integer"
        },
        {
         "name": "d_1420",
         "rawType": "int64",
         "type": "integer"
        },
        {
         "name": "d_1421",
         "rawType": "int64",
         "type": "integer"
        },
        {
         "name": "d_1422",
         "rawType": "int64",
         "type": "integer"
        },
        {
         "name": "d_1423",
         "rawType": "int64",
         "type": "integer"
        },
        {
         "name": "d_1424",
         "rawType": "int64",
         "type": "integer"
        },
        {
         "name": "d_1425",
         "rawType": "int64",
         "type": "integer"
        },
        {
         "name": "d_1426",
         "rawType": "int64",
         "type": "integer"
        },
        {
         "name": "d_1427",
         "rawType": "int64",
         "type": "integer"
        },
        {
         "name": "d_1428",
         "rawType": "int64",
         "type": "integer"
        },
        {
         "name": "d_1429",
         "rawType": "int64",
         "type": "integer"
        },
        {
         "name": "d_1430",
         "rawType": "int64",
         "type": "integer"
        },
        {
         "name": "d_1431",
         "rawType": "int64",
         "type": "integer"
        },
        {
         "name": "d_1432",
         "rawType": "int64",
         "type": "integer"
        },
        {
         "name": "d_1433",
         "rawType": "int64",
         "type": "integer"
        },
        {
         "name": "d_1434",
         "rawType": "int64",
         "type": "integer"
        },
        {
         "name": "d_1435",
         "rawType": "int64",
         "type": "integer"
        },
        {
         "name": "d_1436",
         "rawType": "int64",
         "type": "integer"
        },
        {
         "name": "d_1437",
         "rawType": "int64",
         "type": "integer"
        },
        {
         "name": "d_1438",
         "rawType": "int64",
         "type": "integer"
        },
        {
         "name": "d_1439",
         "rawType": "int64",
         "type": "integer"
        },
        {
         "name": "d_1440",
         "rawType": "int64",
         "type": "integer"
        },
        {
         "name": "d_1441",
         "rawType": "int64",
         "type": "integer"
        },
        {
         "name": "d_1442",
         "rawType": "int64",
         "type": "integer"
        },
        {
         "name": "d_1443",
         "rawType": "int64",
         "type": "integer"
        },
        {
         "name": "d_1444",
         "rawType": "int64",
         "type": "integer"
        },
        {
         "name": "d_1445",
         "rawType": "int64",
         "type": "integer"
        },
        {
         "name": "d_1446",
         "rawType": "int64",
         "type": "integer"
        },
        {
         "name": "d_1447",
         "rawType": "int64",
         "type": "integer"
        },
        {
         "name": "d_1448",
         "rawType": "int64",
         "type": "integer"
        },
        {
         "name": "d_1449",
         "rawType": "int64",
         "type": "integer"
        },
        {
         "name": "d_1450",
         "rawType": "int64",
         "type": "integer"
        },
        {
         "name": "d_1451",
         "rawType": "int64",
         "type": "integer"
        },
        {
         "name": "d_1452",
         "rawType": "int64",
         "type": "integer"
        },
        {
         "name": "d_1453",
         "rawType": "int64",
         "type": "integer"
        },
        {
         "name": "d_1454",
         "rawType": "int64",
         "type": "integer"
        },
        {
         "name": "d_1455",
         "rawType": "int64",
         "type": "integer"
        },
        {
         "name": "d_1456",
         "rawType": "int64",
         "type": "integer"
        },
        {
         "name": "d_1457",
         "rawType": "int64",
         "type": "integer"
        },
        {
         "name": "d_1458",
         "rawType": "int64",
         "type": "integer"
        },
        {
         "name": "d_1459",
         "rawType": "int64",
         "type": "integer"
        },
        {
         "name": "d_1460",
         "rawType": "int64",
         "type": "integer"
        },
        {
         "name": "d_1461",
         "rawType": "int64",
         "type": "integer"
        },
        {
         "name": "d_1462",
         "rawType": "int64",
         "type": "integer"
        },
        {
         "name": "d_1463",
         "rawType": "int64",
         "type": "integer"
        },
        {
         "name": "d_1464",
         "rawType": "int64",
         "type": "integer"
        },
        {
         "name": "d_1465",
         "rawType": "int64",
         "type": "integer"
        },
        {
         "name": "d_1466",
         "rawType": "int64",
         "type": "integer"
        },
        {
         "name": "d_1467",
         "rawType": "int64",
         "type": "integer"
        },
        {
         "name": "d_1468",
         "rawType": "int64",
         "type": "integer"
        },
        {
         "name": "d_1469",
         "rawType": "int64",
         "type": "integer"
        },
        {
         "name": "d_1470",
         "rawType": "int64",
         "type": "integer"
        },
        {
         "name": "d_1471",
         "rawType": "int64",
         "type": "integer"
        },
        {
         "name": "d_1472",
         "rawType": "int64",
         "type": "integer"
        },
        {
         "name": "d_1473",
         "rawType": "int64",
         "type": "integer"
        },
        {
         "name": "d_1474",
         "rawType": "int64",
         "type": "integer"
        },
        {
         "name": "d_1475",
         "rawType": "int64",
         "type": "integer"
        },
        {
         "name": "d_1476",
         "rawType": "int64",
         "type": "integer"
        },
        {
         "name": "d_1477",
         "rawType": "int64",
         "type": "integer"
        },
        {
         "name": "d_1478",
         "rawType": "int64",
         "type": "integer"
        },
        {
         "name": "d_1479",
         "rawType": "int64",
         "type": "integer"
        },
        {
         "name": "d_1480",
         "rawType": "int64",
         "type": "integer"
        },
        {
         "name": "d_1481",
         "rawType": "int64",
         "type": "integer"
        },
        {
         "name": "d_1482",
         "rawType": "int64",
         "type": "integer"
        },
        {
         "name": "d_1483",
         "rawType": "int64",
         "type": "integer"
        },
        {
         "name": "d_1484",
         "rawType": "int64",
         "type": "integer"
        },
        {
         "name": "d_1485",
         "rawType": "int64",
         "type": "integer"
        },
        {
         "name": "d_1486",
         "rawType": "int64",
         "type": "integer"
        },
        {
         "name": "d_1487",
         "rawType": "int64",
         "type": "integer"
        },
        {
         "name": "d_1488",
         "rawType": "int64",
         "type": "integer"
        },
        {
         "name": "d_1489",
         "rawType": "int64",
         "type": "integer"
        },
        {
         "name": "d_1490",
         "rawType": "int64",
         "type": "integer"
        },
        {
         "name": "d_1491",
         "rawType": "int64",
         "type": "integer"
        },
        {
         "name": "d_1492",
         "rawType": "int64",
         "type": "integer"
        },
        {
         "name": "d_1493",
         "rawType": "int64",
         "type": "integer"
        },
        {
         "name": "d_1494",
         "rawType": "int64",
         "type": "integer"
        },
        {
         "name": "d_1495",
         "rawType": "int64",
         "type": "integer"
        },
        {
         "name": "d_1496",
         "rawType": "int64",
         "type": "integer"
        },
        {
         "name": "d_1497",
         "rawType": "int64",
         "type": "integer"
        },
        {
         "name": "d_1498",
         "rawType": "int64",
         "type": "integer"
        },
        {
         "name": "d_1499",
         "rawType": "int64",
         "type": "integer"
        },
        {
         "name": "d_1500",
         "rawType": "int64",
         "type": "integer"
        },
        {
         "name": "d_1501",
         "rawType": "int64",
         "type": "integer"
        },
        {
         "name": "d_1502",
         "rawType": "int64",
         "type": "integer"
        },
        {
         "name": "d_1503",
         "rawType": "int64",
         "type": "integer"
        },
        {
         "name": "d_1504",
         "rawType": "int64",
         "type": "integer"
        },
        {
         "name": "d_1505",
         "rawType": "int64",
         "type": "integer"
        },
        {
         "name": "d_1506",
         "rawType": "int64",
         "type": "integer"
        },
        {
         "name": "d_1507",
         "rawType": "int64",
         "type": "integer"
        },
        {
         "name": "d_1508",
         "rawType": "int64",
         "type": "integer"
        },
        {
         "name": "d_1509",
         "rawType": "int64",
         "type": "integer"
        },
        {
         "name": "d_1510",
         "rawType": "int64",
         "type": "integer"
        },
        {
         "name": "d_1511",
         "rawType": "int64",
         "type": "integer"
        },
        {
         "name": "d_1512",
         "rawType": "int64",
         "type": "integer"
        },
        {
         "name": "d_1513",
         "rawType": "int64",
         "type": "integer"
        },
        {
         "name": "d_1514",
         "rawType": "int64",
         "type": "integer"
        },
        {
         "name": "d_1515",
         "rawType": "int64",
         "type": "integer"
        },
        {
         "name": "d_1516",
         "rawType": "int64",
         "type": "integer"
        },
        {
         "name": "d_1517",
         "rawType": "int64",
         "type": "integer"
        },
        {
         "name": "d_1518",
         "rawType": "int64",
         "type": "integer"
        },
        {
         "name": "d_1519",
         "rawType": "int64",
         "type": "integer"
        },
        {
         "name": "d_1520",
         "rawType": "int64",
         "type": "integer"
        },
        {
         "name": "d_1521",
         "rawType": "int64",
         "type": "integer"
        },
        {
         "name": "d_1522",
         "rawType": "int64",
         "type": "integer"
        },
        {
         "name": "d_1523",
         "rawType": "int64",
         "type": "integer"
        },
        {
         "name": "d_1524",
         "rawType": "int64",
         "type": "integer"
        },
        {
         "name": "d_1525",
         "rawType": "int64",
         "type": "integer"
        },
        {
         "name": "d_1526",
         "rawType": "int64",
         "type": "integer"
        },
        {
         "name": "d_1527",
         "rawType": "int64",
         "type": "integer"
        },
        {
         "name": "d_1528",
         "rawType": "int64",
         "type": "integer"
        },
        {
         "name": "d_1529",
         "rawType": "int64",
         "type": "integer"
        },
        {
         "name": "d_1530",
         "rawType": "int64",
         "type": "integer"
        },
        {
         "name": "d_1531",
         "rawType": "int64",
         "type": "integer"
        },
        {
         "name": "d_1532",
         "rawType": "int64",
         "type": "integer"
        },
        {
         "name": "d_1533",
         "rawType": "int64",
         "type": "integer"
        },
        {
         "name": "d_1534",
         "rawType": "int64",
         "type": "integer"
        },
        {
         "name": "d_1535",
         "rawType": "int64",
         "type": "integer"
        },
        {
         "name": "d_1536",
         "rawType": "int64",
         "type": "integer"
        },
        {
         "name": "d_1537",
         "rawType": "int64",
         "type": "integer"
        },
        {
         "name": "d_1538",
         "rawType": "int64",
         "type": "integer"
        },
        {
         "name": "d_1539",
         "rawType": "int64",
         "type": "integer"
        },
        {
         "name": "d_1540",
         "rawType": "int64",
         "type": "integer"
        },
        {
         "name": "d_1541",
         "rawType": "int64",
         "type": "integer"
        },
        {
         "name": "d_1542",
         "rawType": "int64",
         "type": "integer"
        },
        {
         "name": "d_1543",
         "rawType": "int64",
         "type": "integer"
        },
        {
         "name": "d_1544",
         "rawType": "int64",
         "type": "integer"
        },
        {
         "name": "d_1545",
         "rawType": "int64",
         "type": "integer"
        },
        {
         "name": "d_1546",
         "rawType": "int64",
         "type": "integer"
        },
        {
         "name": "d_1547",
         "rawType": "int64",
         "type": "integer"
        },
        {
         "name": "d_1548",
         "rawType": "int64",
         "type": "integer"
        },
        {
         "name": "d_1549",
         "rawType": "int64",
         "type": "integer"
        },
        {
         "name": "d_1550",
         "rawType": "int64",
         "type": "integer"
        },
        {
         "name": "d_1551",
         "rawType": "int64",
         "type": "integer"
        },
        {
         "name": "d_1552",
         "rawType": "int64",
         "type": "integer"
        },
        {
         "name": "d_1553",
         "rawType": "int64",
         "type": "integer"
        },
        {
         "name": "d_1554",
         "rawType": "int64",
         "type": "integer"
        },
        {
         "name": "d_1555",
         "rawType": "int64",
         "type": "integer"
        },
        {
         "name": "d_1556",
         "rawType": "int64",
         "type": "integer"
        },
        {
         "name": "d_1557",
         "rawType": "int64",
         "type": "integer"
        },
        {
         "name": "d_1558",
         "rawType": "int64",
         "type": "integer"
        },
        {
         "name": "d_1559",
         "rawType": "int64",
         "type": "integer"
        },
        {
         "name": "d_1560",
         "rawType": "int64",
         "type": "integer"
        },
        {
         "name": "d_1561",
         "rawType": "int64",
         "type": "integer"
        },
        {
         "name": "d_1562",
         "rawType": "int64",
         "type": "integer"
        },
        {
         "name": "d_1563",
         "rawType": "int64",
         "type": "integer"
        },
        {
         "name": "d_1564",
         "rawType": "int64",
         "type": "integer"
        },
        {
         "name": "d_1565",
         "rawType": "int64",
         "type": "integer"
        },
        {
         "name": "d_1566",
         "rawType": "int64",
         "type": "integer"
        },
        {
         "name": "d_1567",
         "rawType": "int64",
         "type": "integer"
        },
        {
         "name": "d_1568",
         "rawType": "int64",
         "type": "integer"
        },
        {
         "name": "d_1569",
         "rawType": "int64",
         "type": "integer"
        },
        {
         "name": "d_1570",
         "rawType": "int64",
         "type": "integer"
        },
        {
         "name": "d_1571",
         "rawType": "int64",
         "type": "integer"
        },
        {
         "name": "d_1572",
         "rawType": "int64",
         "type": "integer"
        },
        {
         "name": "d_1573",
         "rawType": "int64",
         "type": "integer"
        },
        {
         "name": "d_1574",
         "rawType": "int64",
         "type": "integer"
        },
        {
         "name": "d_1575",
         "rawType": "int64",
         "type": "integer"
        },
        {
         "name": "d_1576",
         "rawType": "int64",
         "type": "integer"
        },
        {
         "name": "d_1577",
         "rawType": "int64",
         "type": "integer"
        },
        {
         "name": "d_1578",
         "rawType": "int64",
         "type": "integer"
        },
        {
         "name": "d_1579",
         "rawType": "int64",
         "type": "integer"
        },
        {
         "name": "d_1580",
         "rawType": "int64",
         "type": "integer"
        },
        {
         "name": "d_1581",
         "rawType": "int64",
         "type": "integer"
        },
        {
         "name": "d_1582",
         "rawType": "int64",
         "type": "integer"
        },
        {
         "name": "d_1583",
         "rawType": "int64",
         "type": "integer"
        },
        {
         "name": "d_1584",
         "rawType": "int64",
         "type": "integer"
        },
        {
         "name": "d_1585",
         "rawType": "int64",
         "type": "integer"
        },
        {
         "name": "d_1586",
         "rawType": "int64",
         "type": "integer"
        },
        {
         "name": "d_1587",
         "rawType": "int64",
         "type": "integer"
        },
        {
         "name": "d_1588",
         "rawType": "int64",
         "type": "integer"
        },
        {
         "name": "d_1589",
         "rawType": "int64",
         "type": "integer"
        },
        {
         "name": "d_1590",
         "rawType": "int64",
         "type": "integer"
        },
        {
         "name": "d_1591",
         "rawType": "int64",
         "type": "integer"
        },
        {
         "name": "d_1592",
         "rawType": "int64",
         "type": "integer"
        },
        {
         "name": "d_1593",
         "rawType": "int64",
         "type": "integer"
        },
        {
         "name": "d_1594",
         "rawType": "int64",
         "type": "integer"
        },
        {
         "name": "d_1595",
         "rawType": "int64",
         "type": "integer"
        },
        {
         "name": "d_1596",
         "rawType": "int64",
         "type": "integer"
        },
        {
         "name": "d_1597",
         "rawType": "int64",
         "type": "integer"
        },
        {
         "name": "d_1598",
         "rawType": "int64",
         "type": "integer"
        },
        {
         "name": "d_1599",
         "rawType": "int64",
         "type": "integer"
        },
        {
         "name": "d_1600",
         "rawType": "int64",
         "type": "integer"
        },
        {
         "name": "d_1601",
         "rawType": "int64",
         "type": "integer"
        },
        {
         "name": "d_1602",
         "rawType": "int64",
         "type": "integer"
        },
        {
         "name": "d_1603",
         "rawType": "int64",
         "type": "integer"
        },
        {
         "name": "d_1604",
         "rawType": "int64",
         "type": "integer"
        },
        {
         "name": "d_1605",
         "rawType": "int64",
         "type": "integer"
        },
        {
         "name": "d_1606",
         "rawType": "int64",
         "type": "integer"
        },
        {
         "name": "d_1607",
         "rawType": "int64",
         "type": "integer"
        },
        {
         "name": "d_1608",
         "rawType": "int64",
         "type": "integer"
        },
        {
         "name": "d_1609",
         "rawType": "int64",
         "type": "integer"
        },
        {
         "name": "d_1610",
         "rawType": "int64",
         "type": "integer"
        },
        {
         "name": "d_1611",
         "rawType": "int64",
         "type": "integer"
        },
        {
         "name": "d_1612",
         "rawType": "int64",
         "type": "integer"
        },
        {
         "name": "d_1613",
         "rawType": "int64",
         "type": "integer"
        },
        {
         "name": "d_1614",
         "rawType": "int64",
         "type": "integer"
        },
        {
         "name": "d_1615",
         "rawType": "int64",
         "type": "integer"
        },
        {
         "name": "d_1616",
         "rawType": "int64",
         "type": "integer"
        },
        {
         "name": "d_1617",
         "rawType": "int64",
         "type": "integer"
        },
        {
         "name": "d_1618",
         "rawType": "int64",
         "type": "integer"
        },
        {
         "name": "d_1619",
         "rawType": "int64",
         "type": "integer"
        },
        {
         "name": "d_1620",
         "rawType": "int64",
         "type": "integer"
        },
        {
         "name": "d_1621",
         "rawType": "int64",
         "type": "integer"
        },
        {
         "name": "d_1622",
         "rawType": "int64",
         "type": "integer"
        },
        {
         "name": "d_1623",
         "rawType": "int64",
         "type": "integer"
        },
        {
         "name": "d_1624",
         "rawType": "int64",
         "type": "integer"
        },
        {
         "name": "d_1625",
         "rawType": "int64",
         "type": "integer"
        },
        {
         "name": "d_1626",
         "rawType": "int64",
         "type": "integer"
        },
        {
         "name": "d_1627",
         "rawType": "int64",
         "type": "integer"
        },
        {
         "name": "d_1628",
         "rawType": "int64",
         "type": "integer"
        },
        {
         "name": "d_1629",
         "rawType": "int64",
         "type": "integer"
        },
        {
         "name": "d_1630",
         "rawType": "int64",
         "type": "integer"
        },
        {
         "name": "d_1631",
         "rawType": "int64",
         "type": "integer"
        },
        {
         "name": "d_1632",
         "rawType": "int64",
         "type": "integer"
        },
        {
         "name": "d_1633",
         "rawType": "int64",
         "type": "integer"
        },
        {
         "name": "d_1634",
         "rawType": "int64",
         "type": "integer"
        },
        {
         "name": "d_1635",
         "rawType": "int64",
         "type": "integer"
        },
        {
         "name": "d_1636",
         "rawType": "int64",
         "type": "integer"
        },
        {
         "name": "d_1637",
         "rawType": "int64",
         "type": "integer"
        },
        {
         "name": "d_1638",
         "rawType": "int64",
         "type": "integer"
        },
        {
         "name": "d_1639",
         "rawType": "int64",
         "type": "integer"
        },
        {
         "name": "d_1640",
         "rawType": "int64",
         "type": "integer"
        },
        {
         "name": "d_1641",
         "rawType": "int64",
         "type": "integer"
        },
        {
         "name": "d_1642",
         "rawType": "int64",
         "type": "integer"
        },
        {
         "name": "d_1643",
         "rawType": "int64",
         "type": "integer"
        },
        {
         "name": "d_1644",
         "rawType": "int64",
         "type": "integer"
        },
        {
         "name": "d_1645",
         "rawType": "int64",
         "type": "integer"
        },
        {
         "name": "d_1646",
         "rawType": "int64",
         "type": "integer"
        },
        {
         "name": "d_1647",
         "rawType": "int64",
         "type": "integer"
        },
        {
         "name": "d_1648",
         "rawType": "int64",
         "type": "integer"
        },
        {
         "name": "d_1649",
         "rawType": "int64",
         "type": "integer"
        },
        {
         "name": "d_1650",
         "rawType": "int64",
         "type": "integer"
        },
        {
         "name": "d_1651",
         "rawType": "int64",
         "type": "integer"
        },
        {
         "name": "d_1652",
         "rawType": "int64",
         "type": "integer"
        },
        {
         "name": "d_1653",
         "rawType": "int64",
         "type": "integer"
        },
        {
         "name": "d_1654",
         "rawType": "int64",
         "type": "integer"
        },
        {
         "name": "d_1655",
         "rawType": "int64",
         "type": "integer"
        },
        {
         "name": "d_1656",
         "rawType": "int64",
         "type": "integer"
        },
        {
         "name": "d_1657",
         "rawType": "int64",
         "type": "integer"
        },
        {
         "name": "d_1658",
         "rawType": "int64",
         "type": "integer"
        },
        {
         "name": "d_1659",
         "rawType": "int64",
         "type": "integer"
        },
        {
         "name": "d_1660",
         "rawType": "int64",
         "type": "integer"
        },
        {
         "name": "d_1661",
         "rawType": "int64",
         "type": "integer"
        },
        {
         "name": "d_1662",
         "rawType": "int64",
         "type": "integer"
        },
        {
         "name": "d_1663",
         "rawType": "int64",
         "type": "integer"
        },
        {
         "name": "d_1664",
         "rawType": "int64",
         "type": "integer"
        },
        {
         "name": "d_1665",
         "rawType": "int64",
         "type": "integer"
        },
        {
         "name": "d_1666",
         "rawType": "int64",
         "type": "integer"
        },
        {
         "name": "d_1667",
         "rawType": "int64",
         "type": "integer"
        },
        {
         "name": "d_1668",
         "rawType": "int64",
         "type": "integer"
        },
        {
         "name": "d_1669",
         "rawType": "int64",
         "type": "integer"
        },
        {
         "name": "d_1670",
         "rawType": "int64",
         "type": "integer"
        },
        {
         "name": "d_1671",
         "rawType": "int64",
         "type": "integer"
        },
        {
         "name": "d_1672",
         "rawType": "int64",
         "type": "integer"
        },
        {
         "name": "d_1673",
         "rawType": "int64",
         "type": "integer"
        },
        {
         "name": "d_1674",
         "rawType": "int64",
         "type": "integer"
        },
        {
         "name": "d_1675",
         "rawType": "int64",
         "type": "integer"
        },
        {
         "name": "d_1676",
         "rawType": "int64",
         "type": "integer"
        },
        {
         "name": "d_1677",
         "rawType": "int64",
         "type": "integer"
        },
        {
         "name": "d_1678",
         "rawType": "int64",
         "type": "integer"
        },
        {
         "name": "d_1679",
         "rawType": "int64",
         "type": "integer"
        },
        {
         "name": "d_1680",
         "rawType": "int64",
         "type": "integer"
        },
        {
         "name": "d_1681",
         "rawType": "int64",
         "type": "integer"
        },
        {
         "name": "d_1682",
         "rawType": "int64",
         "type": "integer"
        },
        {
         "name": "d_1683",
         "rawType": "int64",
         "type": "integer"
        },
        {
         "name": "d_1684",
         "rawType": "int64",
         "type": "integer"
        },
        {
         "name": "d_1685",
         "rawType": "int64",
         "type": "integer"
        },
        {
         "name": "d_1686",
         "rawType": "int64",
         "type": "integer"
        },
        {
         "name": "d_1687",
         "rawType": "int64",
         "type": "integer"
        },
        {
         "name": "d_1688",
         "rawType": "int64",
         "type": "integer"
        },
        {
         "name": "d_1689",
         "rawType": "int64",
         "type": "integer"
        },
        {
         "name": "d_1690",
         "rawType": "int64",
         "type": "integer"
        },
        {
         "name": "d_1691",
         "rawType": "int64",
         "type": "integer"
        },
        {
         "name": "d_1692",
         "rawType": "int64",
         "type": "integer"
        },
        {
         "name": "d_1693",
         "rawType": "int64",
         "type": "integer"
        },
        {
         "name": "d_1694",
         "rawType": "int64",
         "type": "integer"
        },
        {
         "name": "d_1695",
         "rawType": "int64",
         "type": "integer"
        },
        {
         "name": "d_1696",
         "rawType": "int64",
         "type": "integer"
        },
        {
         "name": "d_1697",
         "rawType": "int64",
         "type": "integer"
        },
        {
         "name": "d_1698",
         "rawType": "int64",
         "type": "integer"
        },
        {
         "name": "d_1699",
         "rawType": "int64",
         "type": "integer"
        },
        {
         "name": "d_1700",
         "rawType": "int64",
         "type": "integer"
        },
        {
         "name": "d_1701",
         "rawType": "int64",
         "type": "integer"
        },
        {
         "name": "d_1702",
         "rawType": "int64",
         "type": "integer"
        },
        {
         "name": "d_1703",
         "rawType": "int64",
         "type": "integer"
        },
        {
         "name": "d_1704",
         "rawType": "int64",
         "type": "integer"
        },
        {
         "name": "d_1705",
         "rawType": "int64",
         "type": "integer"
        },
        {
         "name": "d_1706",
         "rawType": "int64",
         "type": "integer"
        },
        {
         "name": "d_1707",
         "rawType": "int64",
         "type": "integer"
        },
        {
         "name": "d_1708",
         "rawType": "int64",
         "type": "integer"
        },
        {
         "name": "d_1709",
         "rawType": "int64",
         "type": "integer"
        },
        {
         "name": "d_1710",
         "rawType": "int64",
         "type": "integer"
        },
        {
         "name": "d_1711",
         "rawType": "int64",
         "type": "integer"
        },
        {
         "name": "d_1712",
         "rawType": "int64",
         "type": "integer"
        },
        {
         "name": "d_1713",
         "rawType": "int64",
         "type": "integer"
        },
        {
         "name": "d_1714",
         "rawType": "int64",
         "type": "integer"
        },
        {
         "name": "d_1715",
         "rawType": "int64",
         "type": "integer"
        },
        {
         "name": "d_1716",
         "rawType": "int64",
         "type": "integer"
        },
        {
         "name": "d_1717",
         "rawType": "int64",
         "type": "integer"
        },
        {
         "name": "d_1718",
         "rawType": "int64",
         "type": "integer"
        },
        {
         "name": "d_1719",
         "rawType": "int64",
         "type": "integer"
        },
        {
         "name": "d_1720",
         "rawType": "int64",
         "type": "integer"
        },
        {
         "name": "d_1721",
         "rawType": "int64",
         "type": "integer"
        },
        {
         "name": "d_1722",
         "rawType": "int64",
         "type": "integer"
        },
        {
         "name": "d_1723",
         "rawType": "int64",
         "type": "integer"
        },
        {
         "name": "d_1724",
         "rawType": "int64",
         "type": "integer"
        },
        {
         "name": "d_1725",
         "rawType": "int64",
         "type": "integer"
        },
        {
         "name": "d_1726",
         "rawType": "int64",
         "type": "integer"
        },
        {
         "name": "d_1727",
         "rawType": "int64",
         "type": "integer"
        },
        {
         "name": "d_1728",
         "rawType": "int64",
         "type": "integer"
        },
        {
         "name": "d_1729",
         "rawType": "int64",
         "type": "integer"
        },
        {
         "name": "d_1730",
         "rawType": "int64",
         "type": "integer"
        },
        {
         "name": "d_1731",
         "rawType": "int64",
         "type": "integer"
        },
        {
         "name": "d_1732",
         "rawType": "int64",
         "type": "integer"
        },
        {
         "name": "d_1733",
         "rawType": "int64",
         "type": "integer"
        },
        {
         "name": "d_1734",
         "rawType": "int64",
         "type": "integer"
        },
        {
         "name": "d_1735",
         "rawType": "int64",
         "type": "integer"
        },
        {
         "name": "d_1736",
         "rawType": "int64",
         "type": "integer"
        },
        {
         "name": "d_1737",
         "rawType": "int64",
         "type": "integer"
        },
        {
         "name": "d_1738",
         "rawType": "int64",
         "type": "integer"
        },
        {
         "name": "d_1739",
         "rawType": "int64",
         "type": "integer"
        },
        {
         "name": "d_1740",
         "rawType": "int64",
         "type": "integer"
        },
        {
         "name": "d_1741",
         "rawType": "int64",
         "type": "integer"
        },
        {
         "name": "d_1742",
         "rawType": "int64",
         "type": "integer"
        },
        {
         "name": "d_1743",
         "rawType": "int64",
         "type": "integer"
        },
        {
         "name": "d_1744",
         "rawType": "int64",
         "type": "integer"
        },
        {
         "name": "d_1745",
         "rawType": "int64",
         "type": "integer"
        },
        {
         "name": "d_1746",
         "rawType": "int64",
         "type": "integer"
        },
        {
         "name": "d_1747",
         "rawType": "int64",
         "type": "integer"
        },
        {
         "name": "d_1748",
         "rawType": "int64",
         "type": "integer"
        },
        {
         "name": "d_1749",
         "rawType": "int64",
         "type": "integer"
        },
        {
         "name": "d_1750",
         "rawType": "int64",
         "type": "integer"
        },
        {
         "name": "d_1751",
         "rawType": "int64",
         "type": "integer"
        },
        {
         "name": "d_1752",
         "rawType": "int64",
         "type": "integer"
        },
        {
         "name": "d_1753",
         "rawType": "int64",
         "type": "integer"
        },
        {
         "name": "d_1754",
         "rawType": "int64",
         "type": "integer"
        },
        {
         "name": "d_1755",
         "rawType": "int64",
         "type": "integer"
        },
        {
         "name": "d_1756",
         "rawType": "int64",
         "type": "integer"
        },
        {
         "name": "d_1757",
         "rawType": "int64",
         "type": "integer"
        },
        {
         "name": "d_1758",
         "rawType": "int64",
         "type": "integer"
        },
        {
         "name": "d_1759",
         "rawType": "int64",
         "type": "integer"
        },
        {
         "name": "d_1760",
         "rawType": "int64",
         "type": "integer"
        },
        {
         "name": "d_1761",
         "rawType": "int64",
         "type": "integer"
        },
        {
         "name": "d_1762",
         "rawType": "int64",
         "type": "integer"
        },
        {
         "name": "d_1763",
         "rawType": "int64",
         "type": "integer"
        },
        {
         "name": "d_1764",
         "rawType": "int64",
         "type": "integer"
        },
        {
         "name": "d_1765",
         "rawType": "int64",
         "type": "integer"
        },
        {
         "name": "d_1766",
         "rawType": "int64",
         "type": "integer"
        },
        {
         "name": "d_1767",
         "rawType": "int64",
         "type": "integer"
        },
        {
         "name": "d_1768",
         "rawType": "int64",
         "type": "integer"
        },
        {
         "name": "d_1769",
         "rawType": "int64",
         "type": "integer"
        },
        {
         "name": "d_1770",
         "rawType": "int64",
         "type": "integer"
        },
        {
         "name": "d_1771",
         "rawType": "int64",
         "type": "integer"
        },
        {
         "name": "d_1772",
         "rawType": "int64",
         "type": "integer"
        },
        {
         "name": "d_1773",
         "rawType": "int64",
         "type": "integer"
        },
        {
         "name": "d_1774",
         "rawType": "int64",
         "type": "integer"
        },
        {
         "name": "d_1775",
         "rawType": "int64",
         "type": "integer"
        },
        {
         "name": "d_1776",
         "rawType": "int64",
         "type": "integer"
        },
        {
         "name": "d_1777",
         "rawType": "int64",
         "type": "integer"
        },
        {
         "name": "d_1778",
         "rawType": "int64",
         "type": "integer"
        },
        {
         "name": "d_1779",
         "rawType": "int64",
         "type": "integer"
        },
        {
         "name": "d_1780",
         "rawType": "int64",
         "type": "integer"
        },
        {
         "name": "d_1781",
         "rawType": "int64",
         "type": "integer"
        },
        {
         "name": "d_1782",
         "rawType": "int64",
         "type": "integer"
        },
        {
         "name": "d_1783",
         "rawType": "int64",
         "type": "integer"
        },
        {
         "name": "d_1784",
         "rawType": "int64",
         "type": "integer"
        },
        {
         "name": "d_1785",
         "rawType": "int64",
         "type": "integer"
        },
        {
         "name": "d_1786",
         "rawType": "int64",
         "type": "integer"
        },
        {
         "name": "d_1787",
         "rawType": "int64",
         "type": "integer"
        },
        {
         "name": "d_1788",
         "rawType": "int64",
         "type": "integer"
        },
        {
         "name": "d_1789",
         "rawType": "int64",
         "type": "integer"
        },
        {
         "name": "d_1790",
         "rawType": "int64",
         "type": "integer"
        },
        {
         "name": "d_1791",
         "rawType": "int64",
         "type": "integer"
        },
        {
         "name": "d_1792",
         "rawType": "int64",
         "type": "integer"
        },
        {
         "name": "d_1793",
         "rawType": "int64",
         "type": "integer"
        },
        {
         "name": "d_1794",
         "rawType": "int64",
         "type": "integer"
        },
        {
         "name": "d_1795",
         "rawType": "int64",
         "type": "integer"
        },
        {
         "name": "d_1796",
         "rawType": "int64",
         "type": "integer"
        },
        {
         "name": "d_1797",
         "rawType": "int64",
         "type": "integer"
        },
        {
         "name": "d_1798",
         "rawType": "int64",
         "type": "integer"
        },
        {
         "name": "d_1799",
         "rawType": "int64",
         "type": "integer"
        },
        {
         "name": "d_1800",
         "rawType": "int64",
         "type": "integer"
        },
        {
         "name": "d_1801",
         "rawType": "int64",
         "type": "integer"
        },
        {
         "name": "d_1802",
         "rawType": "int64",
         "type": "integer"
        },
        {
         "name": "d_1803",
         "rawType": "int64",
         "type": "integer"
        },
        {
         "name": "d_1804",
         "rawType": "int64",
         "type": "integer"
        },
        {
         "name": "d_1805",
         "rawType": "int64",
         "type": "integer"
        },
        {
         "name": "d_1806",
         "rawType": "int64",
         "type": "integer"
        },
        {
         "name": "d_1807",
         "rawType": "int64",
         "type": "integer"
        },
        {
         "name": "d_1808",
         "rawType": "int64",
         "type": "integer"
        },
        {
         "name": "d_1809",
         "rawType": "int64",
         "type": "integer"
        },
        {
         "name": "d_1810",
         "rawType": "int64",
         "type": "integer"
        },
        {
         "name": "d_1811",
         "rawType": "int64",
         "type": "integer"
        },
        {
         "name": "d_1812",
         "rawType": "int64",
         "type": "integer"
        },
        {
         "name": "d_1813",
         "rawType": "int64",
         "type": "integer"
        },
        {
         "name": "d_1814",
         "rawType": "int64",
         "type": "integer"
        },
        {
         "name": "d_1815",
         "rawType": "int64",
         "type": "integer"
        },
        {
         "name": "d_1816",
         "rawType": "int64",
         "type": "integer"
        },
        {
         "name": "d_1817",
         "rawType": "int64",
         "type": "integer"
        },
        {
         "name": "d_1818",
         "rawType": "int64",
         "type": "integer"
        },
        {
         "name": "d_1819",
         "rawType": "int64",
         "type": "integer"
        },
        {
         "name": "d_1820",
         "rawType": "int64",
         "type": "integer"
        },
        {
         "name": "d_1821",
         "rawType": "int64",
         "type": "integer"
        },
        {
         "name": "d_1822",
         "rawType": "int64",
         "type": "integer"
        },
        {
         "name": "d_1823",
         "rawType": "int64",
         "type": "integer"
        },
        {
         "name": "d_1824",
         "rawType": "int64",
         "type": "integer"
        },
        {
         "name": "d_1825",
         "rawType": "int64",
         "type": "integer"
        },
        {
         "name": "d_1826",
         "rawType": "int64",
         "type": "integer"
        },
        {
         "name": "d_1827",
         "rawType": "int64",
         "type": "integer"
        },
        {
         "name": "d_1828",
         "rawType": "int64",
         "type": "integer"
        },
        {
         "name": "d_1829",
         "rawType": "int64",
         "type": "integer"
        },
        {
         "name": "d_1830",
         "rawType": "int64",
         "type": "integer"
        },
        {
         "name": "d_1831",
         "rawType": "int64",
         "type": "integer"
        },
        {
         "name": "d_1832",
         "rawType": "int64",
         "type": "integer"
        },
        {
         "name": "d_1833",
         "rawType": "int64",
         "type": "integer"
        },
        {
         "name": "d_1834",
         "rawType": "int64",
         "type": "integer"
        },
        {
         "name": "d_1835",
         "rawType": "int64",
         "type": "integer"
        },
        {
         "name": "d_1836",
         "rawType": "int64",
         "type": "integer"
        },
        {
         "name": "d_1837",
         "rawType": "int64",
         "type": "integer"
        },
        {
         "name": "d_1838",
         "rawType": "int64",
         "type": "integer"
        },
        {
         "name": "d_1839",
         "rawType": "int64",
         "type": "integer"
        },
        {
         "name": "d_1840",
         "rawType": "int64",
         "type": "integer"
        },
        {
         "name": "d_1841",
         "rawType": "int64",
         "type": "integer"
        },
        {
         "name": "d_1842",
         "rawType": "int64",
         "type": "integer"
        },
        {
         "name": "d_1843",
         "rawType": "int64",
         "type": "integer"
        },
        {
         "name": "d_1844",
         "rawType": "int64",
         "type": "integer"
        },
        {
         "name": "d_1845",
         "rawType": "int64",
         "type": "integer"
        },
        {
         "name": "d_1846",
         "rawType": "int64",
         "type": "integer"
        },
        {
         "name": "d_1847",
         "rawType": "int64",
         "type": "integer"
        },
        {
         "name": "d_1848",
         "rawType": "int64",
         "type": "integer"
        },
        {
         "name": "d_1849",
         "rawType": "int64",
         "type": "integer"
        },
        {
         "name": "d_1850",
         "rawType": "int64",
         "type": "integer"
        },
        {
         "name": "d_1851",
         "rawType": "int64",
         "type": "integer"
        },
        {
         "name": "d_1852",
         "rawType": "int64",
         "type": "integer"
        },
        {
         "name": "d_1853",
         "rawType": "int64",
         "type": "integer"
        },
        {
         "name": "d_1854",
         "rawType": "int64",
         "type": "integer"
        },
        {
         "name": "d_1855",
         "rawType": "int64",
         "type": "integer"
        },
        {
         "name": "d_1856",
         "rawType": "int64",
         "type": "integer"
        },
        {
         "name": "d_1857",
         "rawType": "int64",
         "type": "integer"
        },
        {
         "name": "d_1858",
         "rawType": "int64",
         "type": "integer"
        },
        {
         "name": "d_1859",
         "rawType": "int64",
         "type": "integer"
        },
        {
         "name": "d_1860",
         "rawType": "int64",
         "type": "integer"
        },
        {
         "name": "d_1861",
         "rawType": "int64",
         "type": "integer"
        },
        {
         "name": "d_1862",
         "rawType": "int64",
         "type": "integer"
        },
        {
         "name": "d_1863",
         "rawType": "int64",
         "type": "integer"
        },
        {
         "name": "d_1864",
         "rawType": "int64",
         "type": "integer"
        },
        {
         "name": "d_1865",
         "rawType": "int64",
         "type": "integer"
        },
        {
         "name": "d_1866",
         "rawType": "int64",
         "type": "integer"
        },
        {
         "name": "d_1867",
         "rawType": "int64",
         "type": "integer"
        },
        {
         "name": "d_1868",
         "rawType": "int64",
         "type": "integer"
        },
        {
         "name": "d_1869",
         "rawType": "int64",
         "type": "integer"
        },
        {
         "name": "d_1870",
         "rawType": "int64",
         "type": "integer"
        },
        {
         "name": "d_1871",
         "rawType": "int64",
         "type": "integer"
        },
        {
         "name": "d_1872",
         "rawType": "int64",
         "type": "integer"
        },
        {
         "name": "d_1873",
         "rawType": "int64",
         "type": "integer"
        },
        {
         "name": "d_1874",
         "rawType": "int64",
         "type": "integer"
        },
        {
         "name": "d_1875",
         "rawType": "int64",
         "type": "integer"
        },
        {
         "name": "d_1876",
         "rawType": "int64",
         "type": "integer"
        },
        {
         "name": "d_1877",
         "rawType": "int64",
         "type": "integer"
        },
        {
         "name": "d_1878",
         "rawType": "int64",
         "type": "integer"
        },
        {
         "name": "d_1879",
         "rawType": "int64",
         "type": "integer"
        },
        {
         "name": "d_1880",
         "rawType": "int64",
         "type": "integer"
        },
        {
         "name": "d_1881",
         "rawType": "int64",
         "type": "integer"
        },
        {
         "name": "d_1882",
         "rawType": "int64",
         "type": "integer"
        },
        {
         "name": "d_1883",
         "rawType": "int64",
         "type": "integer"
        },
        {
         "name": "d_1884",
         "rawType": "int64",
         "type": "integer"
        },
        {
         "name": "d_1885",
         "rawType": "int64",
         "type": "integer"
        },
        {
         "name": "d_1886",
         "rawType": "int64",
         "type": "integer"
        },
        {
         "name": "d_1887",
         "rawType": "int64",
         "type": "integer"
        },
        {
         "name": "d_1888",
         "rawType": "int64",
         "type": "integer"
        },
        {
         "name": "d_1889",
         "rawType": "int64",
         "type": "integer"
        },
        {
         "name": "d_1890",
         "rawType": "int64",
         "type": "integer"
        },
        {
         "name": "d_1891",
         "rawType": "int64",
         "type": "integer"
        },
        {
         "name": "d_1892",
         "rawType": "int64",
         "type": "integer"
        },
        {
         "name": "d_1893",
         "rawType": "int64",
         "type": "integer"
        },
        {
         "name": "d_1894",
         "rawType": "int64",
         "type": "integer"
        },
        {
         "name": "d_1895",
         "rawType": "int64",
         "type": "integer"
        },
        {
         "name": "d_1896",
         "rawType": "int64",
         "type": "integer"
        },
        {
         "name": "d_1897",
         "rawType": "int64",
         "type": "integer"
        },
        {
         "name": "d_1898",
         "rawType": "int64",
         "type": "integer"
        },
        {
         "name": "d_1899",
         "rawType": "int64",
         "type": "integer"
        },
        {
         "name": "d_1900",
         "rawType": "int64",
         "type": "integer"
        },
        {
         "name": "d_1901",
         "rawType": "int64",
         "type": "integer"
        },
        {
         "name": "d_1902",
         "rawType": "int64",
         "type": "integer"
        },
        {
         "name": "d_1903",
         "rawType": "int64",
         "type": "integer"
        },
        {
         "name": "d_1904",
         "rawType": "int64",
         "type": "integer"
        },
        {
         "name": "d_1905",
         "rawType": "int64",
         "type": "integer"
        },
        {
         "name": "d_1906",
         "rawType": "int64",
         "type": "integer"
        },
        {
         "name": "d_1907",
         "rawType": "int64",
         "type": "integer"
        },
        {
         "name": "d_1908",
         "rawType": "int64",
         "type": "integer"
        },
        {
         "name": "d_1909",
         "rawType": "int64",
         "type": "integer"
        },
        {
         "name": "d_1910",
         "rawType": "int64",
         "type": "integer"
        },
        {
         "name": "d_1911",
         "rawType": "int64",
         "type": "integer"
        },
        {
         "name": "d_1912",
         "rawType": "int64",
         "type": "integer"
        },
        {
         "name": "d_1913",
         "rawType": "int64",
         "type": "integer"
        },
        {
         "name": "d_1914",
         "rawType": "int64",
         "type": "integer"
        },
        {
         "name": "d_1915",
         "rawType": "int64",
         "type": "integer"
        },
        {
         "name": "d_1916",
         "rawType": "int64",
         "type": "integer"
        },
        {
         "name": "d_1917",
         "rawType": "int64",
         "type": "integer"
        },
        {
         "name": "d_1918",
         "rawType": "int64",
         "type": "integer"
        },
        {
         "name": "d_1919",
         "rawType": "int64",
         "type": "integer"
        },
        {
         "name": "d_1920",
         "rawType": "int64",
         "type": "integer"
        },
        {
         "name": "d_1921",
         "rawType": "int64",
         "type": "integer"
        },
        {
         "name": "d_1922",
         "rawType": "int64",
         "type": "integer"
        },
        {
         "name": "d_1923",
         "rawType": "int64",
         "type": "integer"
        },
        {
         "name": "d_1924",
         "rawType": "int64",
         "type": "integer"
        },
        {
         "name": "d_1925",
         "rawType": "int64",
         "type": "integer"
        },
        {
         "name": "d_1926",
         "rawType": "int64",
         "type": "integer"
        },
        {
         "name": "d_1927",
         "rawType": "int64",
         "type": "integer"
        },
        {
         "name": "d_1928",
         "rawType": "int64",
         "type": "integer"
        },
        {
         "name": "d_1929",
         "rawType": "int64",
         "type": "integer"
        },
        {
         "name": "d_1930",
         "rawType": "int64",
         "type": "integer"
        },
        {
         "name": "d_1931",
         "rawType": "int64",
         "type": "integer"
        },
        {
         "name": "d_1932",
         "rawType": "int64",
         "type": "integer"
        },
        {
         "name": "d_1933",
         "rawType": "int64",
         "type": "integer"
        },
        {
         "name": "d_1934",
         "rawType": "int64",
         "type": "integer"
        },
        {
         "name": "d_1935",
         "rawType": "int64",
         "type": "integer"
        },
        {
         "name": "d_1936",
         "rawType": "int64",
         "type": "integer"
        },
        {
         "name": "d_1937",
         "rawType": "int64",
         "type": "integer"
        },
        {
         "name": "d_1938",
         "rawType": "int64",
         "type": "integer"
        },
        {
         "name": "d_1939",
         "rawType": "int64",
         "type": "integer"
        },
        {
         "name": "d_1940",
         "rawType": "int64",
         "type": "integer"
        },
        {
         "name": "d_1941",
         "rawType": "int64",
         "type": "integer"
        }
       ],
       "conversionMethod": "pd.DataFrame",
       "ref": "03369134-c65e-486d-8ba2-db571a7c913f",
       "rows": [
        [
         "0",
         "HOBBIES_1_001_CA_1_evaluation",
         "HOBBIES_1_001",
         "HOBBIES_1",
         "HOBBIES",
         "CA_1",
         "CA",
         "0",
         "0",
         "0",
         "0",
         "0",
         "0",
         "0",
         "0",
         "0",
         "0",
         "0",
         "0",
         "0",
         "0",
         "0",
         "0",
         "0",
         "0",
         "0",
         "0",
         "0",
         "0",
         "0",
         "0",
         "0",
         "0",
         "0",
         "0",
         "0",
         "0",
         "0",
         "0",
         "0",
         "0",
         "0",
         "0",
         "0",
         "0",
         "0",
         "0",
         "0",
         "0",
         "0",
         "0",
         "0",
         "0",
         "0",
         "0",
         "0",
         "0",
         "0",
         "0",
         "0",
         "0",
         "0",
         "0",
         "0",
         "0",
         "0",
         "0",
         "0",
         "0",
         "0",
         "0",
         "0",
         "0",
         "0",
         "0",
         "0",
         "0",
         "0",
         "0",
         "0",
         "0",
         "0",
         "0",
         "0",
         "0",
         "0",
         "0",
         "0",
         "0",
         "0",
         "0",
         "0",
         "0",
         "0",
         "0",
         "0",
         "0",
         "0",
         "0",
         "0",
         "0",
         "0",
         "0",
         "0",
         "0",
         "0",
         "0",
         "0",
         "0",
         "0",
         "0",
         "0",
         "0",
         "0",
         "0",
         "0",
         "0",
         "0",
         "0",
         "0",
         "0",
         "0",
         "0",
         "0",
         "0",
         "0",
         "0",
         "0",
         "0",
         "0",
         "0",
         "0",
         "0",
         "0",
         "0",
         "0",
         "0",
         "0",
         "0",
         "0",
         "0",
         "0",
         "0",
         "0",
         "0",
         "0",
         "0",
         "0",
         "0",
         "0",
         "0",
         "0",
         "0",
         "0",
         "0",
         "0",
         "0",
         "0",
         "0",
         "0",
         "0",
         "0",
         "0",
         "0",
         "0",
         "0",
         "0",
         "0",
         "0",
         "0",
         "0",
         "0",
         "0",
         "0",
         "0",
         "0",
         "0",
         "0",
         "0",
         "0",
         "0",
         "0",
         "0",
         "0",
         "0",
         "0",
         "0",
         "0",
         "0",
         "0",
         "0",
         "0",
         "0",
         "0",
         "0",
         "0",
         "0",
         "0",
         "0",
         "0",
         "0",
         "0",
         "0",
         "0",
         "0",
         "0",
         "0",
         "0",
         "0",
         "0",
         "0",
         "0",
         "0",
         "0",
         "0",
         "0",
         "0",
         "0",
         "0",
         "0",
         "0",
         "0",
         "0",
         "0",
         "0",
         "0",
         "0",
         "0",
         "0",
         "0",
         "0",
         "0",
         "0",
         "0",
         "0",
         "0",
         "0",
         "0",
         "0",
         "0",
         "0",
         "0",
         "0",
         "0",
         "0",
         "0",
         "0",
         "0",
         "0",
         "0",
         "0",
         "0",
         "0",
         "0",
         "0",
         "0",
         "0",
         "0",
         "0",
         "0",
         "0",
         "0",
         "0",
         "0",
         "0",
         "0",
         "0",
         "0",
         "0",
         "0",
         "0",
         "0",
         "0",
         "0",
         "0",
         "0",
         "0",
         "0",
         "0",
         "0",
         "0",
         "0",
         "0",
         "0",
         "0",
         "0",
         "0",
         "0",
         "0",
         "0",
         "0",
         "0",
         "0",
         "0",
         "0",
         "0",
         "0",
         "0",
         "0",
         "0",
         "0",
         "0",
         "0",
         "0",
         "0",
         "0",
         "0",
         "0",
         "0",
         "0",
         "0",
         "0",
         "0",
         "0",
         "0",
         "0",
         "0",
         "0",
         "0",
         "0",
         "0",
         "0",
         "0",
         "0",
         "0",
         "0",
         "0",
         "0",
         "0",
         "0",
         "0",
         "0",
         "0",
         "0",
         "0",
         "0",
         "0",
         "0",
         "0",
         "0",
         "0",
         "0",
         "0",
         "0",
         "0",
         "0",
         "0",
         "0",
         "0",
         "0",
         "0",
         "0",
         "0",
         "0",
         "0",
         "0",
         "0",
         "0",
         "0",
         "0",
         "0",
         "0",
         "0",
         "0",
         "0",
         "0",
         "0",
         "0",
         "0",
         "0",
         "0",
         "0",
         "0",
         "0",
         "0",
         "0",
         "0",
         "0",
         "0",
         "0",
         "0",
         "0",
         "0",
         "0",
         "0",
         "0",
         "0",
         "0",
         "0",
         "0",
         "0",
         "0",
         "0",
         "0",
         "0",
         "0",
         "0",
         "0",
         "0",
         "0",
         "0",
         "0",
         "0",
         "0",
         "0",
         "0",
         "0",
         "0",
         "0",
         "0",
         "0",
         "0",
         "0",
         "0",
         "0",
         "0",
         "0",
         "0",
         "0",
         "0",
         "0",
         "0",
         "0",
         "0",
         "0",
         "0",
         "0",
         "0",
         "0",
         "0",
         "0",
         "0",
         "0",
         "0",
         "0",
         "0",
         "0",
         "0",
         "0",
         "0",
         "0",
         "0",
         "0",
         "0",
         "0",
         "0",
         "0",
         "0",
         "0",
         "0",
         "0",
         "0",
         "0",
         "0",
         "0",
         "0",
         "0",
         "0",
         "0",
         "0",
         "0",
         "0",
         "0",
         "0",
         "0",
         "0",
         "0",
         "0",
         "0",
         "0",
         "0",
         "0",
         "0",
         "0",
         "0",
         "0",
         "0",
         "0",
         "0",
         "0",
         "0",
         "0",
         "0",
         "0",
         "0",
         "0",
         "0",
         "0",
         "0",
         "0",
         "0",
         "0",
         "0",
         "0",
         "0",
         "0",
         "0",
         "0",
         "0",
         "0",
         "0",
         "0",
         "0",
         "0",
         "0",
         "0",
         "0",
         "0",
         "0",
         "0",
         "0",
         "0",
         "0",
         "0",
         "0",
         "0",
         "0",
         "0",
         "0",
         "0",
         "0",
         "0",
         "0",
         "0",
         "0",
         "0",
         "0",
         "0",
         "0",
         "0",
         "0",
         "0",
         "0",
         "0",
         "0",
         "0",
         "0",
         "0",
         "0",
         "0",
         "0",
         "0",
         "0",
         "0",
         "0",
         "0",
         "0",
         "0",
         "0",
         "0",
         "0",
         "0",
         "0",
         "0",
         "0",
         "0",
         "0",
         "0",
         "0",
         "0",
         "0",
         "0",
         "0",
         "0",
         "0",
         "0",
         "0",
         "0",
         "0",
         "0",
         "0",
         "0",
         "0",
         "0",
         "0",
         "0",
         "0",
         "0",
         "0",
         "0",
         "0",
         "0",
         "0",
         "0",
         "0",
         "0",
         "0",
         "0",
         "0",
         "0",
         "0",
         "0",
         "0",
         "0",
         "0",
         "0",
         "0",
         "0",
         "0",
         "0",
         "0",
         "0",
         "0",
         "0",
         "0",
         "0",
         "0",
         "0",
         "0",
         "0",
         "0",
         "0",
         "0",
         "0",
         "0",
         "0",
         "0",
         "0",
         "0",
         "0",
         "0",
         "0",
         "0",
         "0",
         "0",
         "0",
         "0",
         "0",
         "0",
         "0",
         "0",
         "0",
         "0",
         "0",
         "0",
         "0",
         "0",
         "0",
         "0",
         "0",
         "0",
         "0",
         "0",
         "0",
         "0",
         "0",
         "0",
         "0",
         "0",
         "0",
         "0",
         "0",
         "0",
         "0",
         "0",
         "0",
         "0",
         "0",
         "0",
         "0",
         "0",
         "0",
         "0",
         "0",
         "0",
         "0",
         "0",
         "0",
         "0",
         "0",
         "0",
         "0",
         "0",
         "0",
         "0",
         "0",
         "0",
         "0",
         "0",
         "0",
         "0",
         "0",
         "0",
         "0",
         "0",
         "0",
         "0",
         "0",
         "0",
         "0",
         "0",
         "0",
         "0",
         "0",
         "0",
         "0",
         "0",
         "0",
         "0",
         "0",
         "0",
         "0",
         "0",
         "0",
         "0",
         "0",
         "0",
         "0",
         "0",
         "0",
         "0",
         "0",
         "0",
         "0",
         "0",
         "0",
         "0",
         "0",
         "0",
         "0",
         "0",
         "0",
         "0",
         "0",
         "0",
         "0",
         "0",
         "0",
         "0",
         "0",
         "0",
         "0",
         "0",
         "0",
         "0",
         "0",
         "0",
         "0",
         "0",
         "0",
         "0",
         "0",
         "0",
         "0",
         "0",
         "0",
         "0",
         "0",
         "0",
         "0",
         "0",
         "0",
         "0",
         "0",
         "0",
         "0",
         "0",
         "0",
         "0",
         "0",
         "0",
         "0",
         "0",
         "0",
         "0",
         "0",
         "0",
         "0",
         "0",
         "0",
         "0",
         "0",
         "0",
         "0",
         "0",
         "0",
         "0",
         "0",
         "0",
         "0",
         "0",
         "0",
         "0",
         "0",
         "0",
         "0",
         "0",
         "0",
         "0",
         "0",
         "0",
         "0",
         "0",
         "0",
         "0",
         "0",
         "0",
         "0",
         "0",
         "0",
         "0",
         "0",
         "0",
         "0",
         "0",
         "0",
         "0",
         "0",
         "0",
         "0",
         "0",
         "0",
         "0",
         "0",
         "0",
         "0",
         "0",
         "0",
         "0",
         "0",
         "0",
         "0",
         "0",
         "0",
         "0",
         "0",
         "0",
         "0",
         "0",
         "0",
         "0",
         "0",
         "0",
         "0",
         "0",
         "0",
         "0",
         "0",
         "0",
         "0",
         "0",
         "0",
         "0",
         "0",
         "0",
         "0",
         "0",
         "0",
         "0",
         "0",
         "0",
         "0",
         "0",
         "0",
         "0",
         "0",
         "0",
         "0",
         "0",
         "0",
         "0",
         "0",
         "0",
         "0",
         "0",
         "0",
         "0",
         "0",
         "0",
         "0",
         "0",
         "0",
         "0",
         "0",
         "0",
         "0",
         "0",
         "0",
         "0",
         "0",
         "0",
         "0",
         "0",
         "0",
         "0",
         "0",
         "0",
         "0",
         "0",
         "0",
         "0",
         "0",
         "0",
         "0",
         "0",
         "0",
         "0",
         "0",
         "0",
         "0",
         "0",
         "0",
         "0",
         "0",
         "0",
         "0",
         "0",
         "0",
         "1",
         "0",
         "0",
         "0",
         "0",
         "0",
         "0",
         "0",
         "0",
         "0",
         "0",
         "0",
         "0",
         "0",
         "0",
         "2",
         "0",
         "1",
         "1",
         "0",
         "0",
         "0",
         "0",
         "0",
         "1",
         "2",
         "1",
         "0",
         "1",
         "1",
         "0",
         "0",
         "0",
         "1",
         "0",
         "0",
         "0",
         "0",
         "0",
         "0",
         "0",
         "1",
         "0",
         "1",
         "0",
         "0",
         "2",
         "1",
         "0",
         "0",
         "0",
         "2",
         "0",
         "0",
         "0",
         "0",
         "0",
         "1",
         "0",
         "0",
         "0",
         "1",
         "0",
         "1",
         "2",
         "1",
         "1",
         "0",
         "0",
         "0",
         "0",
         "1",
         "0",
         "0",
         "1",
         "2",
         "0",
         "1",
         "0",
         "0",
         "1",
         "0",
         "1",
         "0",
         "1",
         "0",
         "1",
         "0",
         "1",
         "0",
         "0",
         "0",
         "0",
         "1",
         "0",
         "0",
         "0",
         "0",
         "0",
         "2",
         "2",
         "0",
         "1",
         "1",
         "0",
         "0",
         "0",
         "1",
         "1",
         "0",
         "1",
         "1",
         "1",
         "1",
         "0",
         "2",
         "3",
         "1",
         "1",
         "0",
         "0",
         "0",
         "0",
         "0",
         "1",
         "0",
         "0",
         "0",
         "0",
         "2",
         "1",
         "0",
         "0",
         "1",
         "1",
         "2",
         "1",
         "1",
         "0",
         "1",
         "0",
         "1",
         "1",
         "0",
         "1",
         "1",
         "0",
         "3",
         "0",
         "0",
         "3",
         "0",
         "1",
         "1",
         "2",
         "0",
         "1",
         "1",
         "0",
         "1",
         "0",
         "0",
         "0",
         "0",
         "0",
         "0",
         "0",
         "1",
         "1",
         "0",
         "0",
         "0",
         "0",
         "0",
         "1",
         "2",
         "0",
         "0",
         "1",
         "0",
         "2",
         "0",
         "0",
         "0",
         "0",
         "0",
         "0",
         "1",
         "0",
         "1",
         "0",
         "1",
         "1",
         "0",
         "0",
         "0",
         "0",
         "0",
         "1",
         "0",
         "0",
         "0",
         "0",
         "0",
         "1",
         "2",
         "0",
         "0",
         "0",
         "0",
         "0",
         "0",
         "1",
         "2",
         "0",
         "0",
         "0",
         "2",
         "1",
         "2",
         "0",
         "0",
         "1",
         "0",
         "0",
         "0",
         "1",
         "0",
         "0",
         "1",
         "0",
         "0",
         "0",
         "0",
         "1",
         "0",
         "0",
         "0",
         "0",
         "0",
         "0",
         "1",
         "0",
         "1",
         "0",
         "1",
         "1",
         "1",
         "0",
         "2",
         "0",
         "1",
         "0",
         "0",
         "0",
         "0",
         "0",
         "0",
         "0",
         "0",
         "0",
         "0",
         "0",
         "1",
         "1",
         "1",
         "0",
         "1",
         "0",
         "0",
         "0",
         "0",
         "0",
         "1",
         "1",
         "2",
         "0",
         "1",
         "0",
         "0",
         "0",
         "0",
         "0",
         "1",
         "0",
         "1",
         "0",
         "0",
         "0",
         "0",
         "1",
         "0",
         "0",
         "0",
         "0",
         "0",
         "0",
         "1",
         "0",
         "0",
         "0",
         "0",
         "0",
         "1",
         "1",
         "0",
         "2",
         "0",
         "0",
         "1",
         "0",
         "0",
         "0",
         "1",
         "0",
         "1",
         "0",
         "0",
         "0",
         "0",
         "1",
         "0",
         "1",
         "0",
         "1",
         "0",
         "0",
         "1",
         "0",
         "0",
         "1",
         "1",
         "2",
         "0",
         "1",
         "0",
         "0",
         "0",
         "0",
         "0",
         "0",
         "0",
         "0",
         "3",
         "1",
         "2",
         "2",
         "1",
         "1",
         "0",
         "0",
         "2",
         "0",
         "0",
         "0",
         "0",
         "1",
         "0",
         "1",
         "0",
         "0",
         "0",
         "1",
         "1",
         "0",
         "3",
         "1",
         "0",
         "0",
         "0",
         "0",
         "0",
         "1",
         "0",
         "1",
         "1",
         "1",
         "0",
         "0",
         "0",
         "0",
         "2",
         "0",
         "0",
         "2",
         "0",
         "0",
         "0",
         "1",
         "0",
         "0",
         "0",
         "0",
         "0",
         "4",
         "0",
         "0",
         "2",
         "1",
         "0",
         "0",
         "0",
         "0",
         "0",
         "1",
         "0",
         "0",
         "0",
         "0",
         "0",
         "4",
         "0",
         "1",
         "0",
         "1",
         "2",
         "2",
         "0",
         "0",
         "0",
         "0",
         "2",
         "1",
         "1",
         "1",
         "1",
         "1",
         "0",
         "0",
         "1",
         "0",
         "0",
         "1",
         "0",
         "0",
         "0",
         "1",
         "1",
         "0",
         "1",
         "2",
         "0",
         "0",
         "2",
         "0",
         "1",
         "3",
         "1",
         "0",
         "0",
         "1",
         "0",
         "0",
         "1",
         "0",
         "0",
         "0",
         "0",
         "0",
         "1",
         "0",
         "0",
         "1",
         "0",
         "1",
         "1",
         "0",
         "1",
         "1",
         "0",
         "0",
         "1",
         "1",
         "1",
         "0",
         "0",
         "0",
         "0",
         "0",
         "2",
         "0",
         "0",
         "0",
         "0",
         "3",
         "0",
         "2",
         "0",
         "0",
         "0",
         "0",
         "3",
         "2",
         "0",
         "2",
         "0",
         "0",
         "2",
         "0",
         "0",
         "0",
         "0",
         "3",
         "0",
         "1",
         "1",
         "1",
         "0",
         "1",
         "0",
         "1",
         "0",
         "0",
         "2",
         "4",
         "0",
         "0",
         "0",
         "0",
         "0",
         "2",
         "0",
         "0",
         "1",
         "0",
         "0",
         "1",
         "1",
         "5",
         "1",
         "1",
         "0",
         "0",
         "0",
         "0",
         "0",
         "0",
         "0",
         "0",
         "2",
         "1",
         "1",
         "0",
         "2",
         "0",
         "2",
         "1",
         "0",
         "1",
         "0",
         "1",
         "1",
         "0",
         "0",
         "0",
         "2",
         "1",
         "1",
         "0",
         "0",
         "1",
         "0",
         "3",
         "0",
         "0",
         "0",
         "1",
         "0",
         "0",
         "2",
         "1",
         "0",
         "1",
         "0",
         "0",
         "3",
         "3",
         "0",
         "0",
         "0",
         "0",
         "0",
         "0",
         "0",
         "1",
         "1",
         "1",
         "0",
         "2",
         "2",
         "2",
         "0",
         "0",
         "1",
         "0",
         "0",
         "1",
         "3",
         "0",
         "0",
         "0",
         "1",
         "1",
         "0",
         "1",
         "0",
         "1",
         "0",
         "0",
         "1",
         "1",
         "1",
         "2",
         "1",
         "1",
         "1",
         "0",
         "2",
         "2",
         "2",
         "1",
         "0",
         "0",
         "0",
         "1",
         "2",
         "0",
         "0",
         "1",
         "2",
         "1",
         "1",
         "1",
         "0",
         "1",
         "0",
         "1",
         "0",
         "0",
         "1",
         "0",
         "1",
         "0",
         "2",
         "1",
         "0",
         "2",
         "0",
         "1",
         "0",
         "0",
         "0",
         "1",
         "1",
         "2",
         "0",
         "0",
         "0",
         "0",
         "0",
         "0",
         "0",
         "0",
         "0",
         "0",
         "0",
         "0",
         "0",
         "0",
         "0",
         "0",
         "0",
         "0",
         "0",
         "0",
         "0",
         "0",
         "0",
         "0",
         "0",
         "0",
         "0",
         "0",
         "0",
         "0",
         "0",
         "0",
         "0",
         "0",
         "1",
         "1",
         "0",
         "0",
         "0",
         "0",
         "0",
         "0",
         "0",
         "0",
         "0",
         "1",
         "3",
         "1",
         "1",
         "0",
         "1",
         "1",
         "0",
         "0",
         "0",
         "1",
         "1",
         "2",
         "0",
         "0",
         "0",
         "1",
         "0",
         "2",
         "1",
         "0",
         "1",
         "1",
         "0",
         "0",
         "0",
         "1",
         "1",
         "1",
         "3",
         "1",
         "1",
         "0",
         "0",
         "2",
         "0",
         "1",
         "0",
         "0",
         "0",
         "2",
         "0",
         "0",
         "0",
         "4",
         "2",
         "1",
         "0",
         "0",
         "0",
         "0",
         "2",
         "1",
         "0",
         "1",
         "1",
         "0",
         "0",
         "0",
         "1",
         "2",
         "1",
         "1",
         "0",
         "0",
         "2",
         "0",
         "2",
         "2",
         "0",
         "0",
         "0",
         "1",
         "1",
         "0",
         "2",
         "0",
         "1",
         "1",
         "2",
         "0",
         "1",
         "0",
         "0",
         "0",
         "2",
         "1",
         "0",
         "1",
         "1",
         "2",
         "0",
         "0",
         "0",
         "0",
         "0",
         "0",
         "0",
         "1",
         "0",
         "1",
         "0",
         "1",
         "0",
         "3",
         "1",
         "1",
         "0",
         "1",
         "1",
         "2",
         "0",
         "0",
         "0",
         "0",
         "1",
         "1",
         "0",
         "0",
         "0",
         "0",
         "3",
         "0",
         "1",
         "0",
         "0",
         "0",
         "0",
         "1",
         "1",
         "1",
         "0",
         "1",
         "0",
         "2",
         "0",
         "0",
         "0",
         "0",
         "2",
         "0",
         "0",
         "0",
         "0",
         "1",
         "1",
         "2",
         "0",
         "0",
         "0",
         "0",
         "2",
         "0",
         "0",
         "1",
         "1",
         "1",
         "1",
         "0",
         "0",
         "0",
         "0",
         "0",
         "1",
         "2",
         "2",
         "0",
         "1",
         "0",
         "0",
         "0",
         "0",
         "1",
         "2",
         "1",
         "0",
         "0",
         "0",
         "0",
         "0",
         "1",
         "0",
         "3",
         "0",
         "1",
         "2",
         "1",
         "0",
         "3",
         "0",
         "0",
         "0",
         "1",
         "0",
         "2",
         "2",
         "1",
         "0",
         "0",
         "1",
         "2",
         "0",
         "1",
         "0",
         "1",
         "4",
         "0",
         "0",
         "5",
         "0",
         "0",
         "0",
         "0",
         "0",
         "0",
         "2",
         "1",
         "2",
         "1",
         "0",
         "0",
         "0",
         "1",
         "1",
         "1",
         "0",
         "0",
         "1",
         "1",
         "1",
         "1",
         "1",
         "0",
         "0",
         "0",
         "2",
         "2",
         "0",
         "0",
         "1",
         "4",
         "0",
         "0",
         "0",
         "0",
         "1",
         "1",
         "2",
         "0",
         "4",
         "0",
         "1",
         "0",
         "1",
         "4",
         "2",
         "0",
         "2",
         "0",
         "1",
         "1",
         "0",
         "1",
         "0",
         "0",
         "1",
         "1",
         "3",
         "0",
         "0",
         "0",
         "1",
         "1",
         "1",
         "3",
         "1",
         "3",
         "1",
         "2",
         "2",
         "0",
         "1",
         "1",
         "1",
         "1",
         "0",
         "0",
         "0",
         "0",
         "0",
         "1",
         "0",
         "4",
         "2",
         "3",
         "0",
         "1",
         "2",
         "0",
         "0",
         "0",
         "1",
         "1",
         "3",
         "0",
         "1",
         "1",
         "1",
         "3",
         "0",
         "1",
         "1",
         "0",
         "0",
         "0",
         "2",
         "0",
         "3",
         "5",
         "0",
         "0",
         "1",
         "1",
         "0",
         "2",
         "1",
         "2",
         "2",
         "1",
         "0",
         "2",
         "4",
         "0",
         "0",
         "0",
         "0",
         "3",
         "3",
         "0",
         "1"
        ],
        [
         "1",
         "HOBBIES_1_002_CA_1_evaluation",
         "HOBBIES_1_002",
         "HOBBIES_1",
         "HOBBIES",
         "CA_1",
         "CA",
         "0",
         "0",
         "0",
         "0",
         "0",
         "0",
         "0",
         "0",
         "0",
         "0",
         "0",
         "0",
         "0",
         "0",
         "0",
         "0",
         "0",
         "0",
         "0",
         "0",
         "0",
         "0",
         "0",
         "0",
         "0",
         "0",
         "0",
         "0",
         "0",
         "0",
         "0",
         "0",
         "0",
         "0",
         "0",
         "0",
         "0",
         "0",
         "0",
         "0",
         "0",
         "0",
         "0",
         "0",
         "0",
         "0",
         "0",
         "0",
         "0",
         "0",
         "0",
         "0",
         "0",
         "0",
         "0",
         "0",
         "0",
         "0",
         "0",
         "0",
         "0",
         "0",
         "0",
         "0",
         "0",
         "0",
         "0",
         "0",
         "0",
         "0",
         "0",
         "0",
         "0",
         "0",
         "0",
         "0",
         "0",
         "0",
         "0",
         "0",
         "0",
         "0",
         "0",
         "0",
         "0",
         "0",
         "0",
         "0",
         "0",
         "0",
         "0",
         "0",
         "0",
         "0",
         "0",
         "0",
         "0",
         "0",
         "0",
         "0",
         "0",
         "0",
         "0",
         "0",
         "0",
         "0",
         "0",
         "0",
         "0",
         "0",
         "0",
         "0",
         "0",
         "0",
         "0",
         "0",
         "0",
         "0",
         "0",
         "0",
         "0",
         "0",
         "0",
         "0",
         "0",
         "0",
         "0",
         "0",
         "0",
         "0",
         "0",
         "0",
         "0",
         "0",
         "0",
         "0",
         "0",
         "0",
         "0",
         "0",
         "0",
         "0",
         "0",
         "1",
         "0",
         "0",
         "1",
         "0",
         "0",
         "0",
         "0",
         "0",
         "1",
         "1",
         "0",
         "1",
         "0",
         "0",
         "0",
         "0",
         "1",
         "0",
         "0",
         "0",
         "1",
         "0",
         "0",
         "0",
         "0",
         "0",
         "0",
         "0",
         "0",
         "0",
         "0",
         "1",
         "0",
         "0",
         "0",
         "0",
         "0",
         "0",
         "0",
         "0",
         "0",
         "0",
         "0",
         "1",
         "0",
         "0",
         "1",
         "0",
         "0",
         "0",
         "0",
         "0",
         "1",
         "1",
         "1",
         "1",
         "0",
         "1",
         "0",
         "0",
         "0",
         "0",
         "0",
         "1",
         "0",
         "0",
         "1",
         "0",
         "0",
         "0",
         "1",
         "0",
         "1",
         "1",
         "0",
         "1",
         "0",
         "0",
         "0",
         "0",
         "0",
         "0",
         "1",
         "0",
         "0",
         "1",
         "0",
         "0",
         "0",
         "0",
         "0",
         "0",
         "0",
         "0",
         "0",
         "1",
         "0",
         "0",
         "0",
         "1",
         "0",
         "0",
         "0",
         "0",
         "0",
         "0",
         "0",
         "0",
         "1",
         "1",
         "1",
         "0",
         "0",
         "0",
         "0",
         "0",
         "0",
         "1",
         "0",
         "1",
         "0",
         "1",
         "0",
         "0",
         "1",
         "0",
         "1",
         "0",
         "0",
         "0",
         "0",
         "0",
         "0",
         "0",
         "1",
         "0",
         "0",
         "1",
         "0",
         "0",
         "0",
         "1",
         "1",
         "0",
         "0",
         "0",
         "0",
         "0",
         "0",
         "0",
         "0",
         "0",
         "0",
         "0",
         "0",
         "0",
         "0",
         "0",
         "0",
         "0",
         "0",
         "0",
         "1",
         "0",
         "0",
         "0",
         "0",
         "0",
         "1",
         "1",
         "0",
         "2",
         "0",
         "0",
         "0",
         "2",
         "0",
         "0",
         "3",
         "1",
         "1",
         "0",
         "1",
         "4",
         "2",
         "1",
         "0",
         "0",
         "0",
         "0",
         "1",
         "0",
         "0",
         "0",
         "0",
         "0",
         "1",
         "0",
         "0",
         "0",
         "0",
         "1",
         "0",
         "0",
         "0",
         "0",
         "0",
         "0",
         "0",
         "1",
         "0",
         "0",
         "0",
         "0",
         "1",
         "0",
         "0",
         "1",
         "1",
         "0",
         "0",
         "1",
         "0",
         "0",
         "0",
         "0",
         "1",
         "0",
         "0",
         "0",
         "0",
         "0",
         "0",
         "1",
         "1",
         "0",
         "0",
         "0",
         "0",
         "1",
         "0",
         "0",
         "1",
         "0",
         "0",
         "1",
         "0",
         "0",
         "0",
         "0",
         "0",
         "0",
         "0",
         "0",
         "0",
         "0",
         "1",
         "0",
         "0",
         "0",
         "0",
         "0",
         "0",
         "0",
         "0",
         "0",
         "0",
         "0",
         "0",
         "0",
         "0",
         "0",
         "0",
         "0",
         "0",
         "0",
         "0",
         "0",
         "0",
         "0",
         "0",
         "0",
         "0",
         "0",
         "0",
         "0",
         "0",
         "2",
         "0",
         "0",
         "1",
         "0",
         "0",
         "0",
         "0",
         "0",
         "0",
         "0",
         "0",
         "0",
         "1",
         "0",
         "0",
         "0",
         "0",
         "0",
         "0",
         "0",
         "0",
         "0",
         "0",
         "0",
         "0",
         "1",
         "1",
         "0",
         "0",
         "0",
         "1",
         "1",
         "0",
         "0",
         "0",
         "0",
         "0",
         "0",
         "0",
         "0",
         "0",
         "0",
         "0",
         "0",
         "0",
         "0",
         "1",
         "0",
         "0",
         "0",
         "1",
         "0",
         "0",
         "0",
         "0",
         "0",
         "1",
         "0",
         "0",
         "0",
         "0",
         "1",
         "0",
         "0",
         "1",
         "0",
         "0",
         "1",
         "0",
         "0",
         "0",
         "0",
         "0",
         "0",
         "0",
         "0",
         "0",
         "1",
         "0",
         "0",
         "1",
         "0",
         "0",
         "0",
         "0",
         "0",
         "0",
         "0",
         "1",
         "0",
         "0",
         "0",
         "1",
         "0",
         "0",
         "0",
         "0",
         "0",
         "1",
         "0",
         "0",
         "0",
         "0",
         "0",
         "0",
         "0",
         "0",
         "0",
         "0",
         "0",
         "0",
         "0",
         "0",
         "0",
         "0",
         "1",
         "0",
         "0",
         "0",
         "0",
         "0",
         "0",
         "0",
         "0",
         "0",
         "0",
         "0",
         "0",
         "0",
         "1",
         "0",
         "1",
         "0",
         "0",
         "1",
         "0",
         "0",
         "0",
         "0",
         "0",
         "0",
         "1",
         "0",
         "0",
         "0",
         "0",
         "0",
         "0",
         "0",
         "3",
         "1",
         "1",
         "0",
         "0",
         "0",
         "0",
         "0",
         "0",
         "0",
         "0",
         "0",
         "0",
         "0",
         "0",
         "0",
         "0",
         "0",
         "0",
         "0",
         "1",
         "1",
         "1",
         "0",
         "0",
         "0",
         "0",
         "0",
         "0",
         "0",
         "0",
         "0",
         "1",
         "0",
         "0",
         "2",
         "0",
         "0",
         "0",
         "1",
         "0",
         "0",
         "0",
         "0",
         "0",
         "0",
         "0",
         "0",
         "2",
         "2",
         "1",
         "1",
         "0",
         "0",
         "0",
         "0",
         "0",
         "1",
         "0",
         "0",
         "0",
         "0",
         "0",
         "0",
         "0",
         "0",
         "0",
         "0",
         "0",
         "0",
         "1",
         "1",
         "0",
         "0",
         "0",
         "0",
         "1",
         "1",
         "0",
         "0",
         "0",
         "0",
         "0",
         "0",
         "0",
         "1",
         "0",
         "0",
         "1",
         "0",
         "0",
         "0",
         "0",
         "2",
         "0",
         "0",
         "0",
         "0",
         "2",
         "1",
         "1",
         "0",
         "0",
         "0",
         "2",
         "1",
         "3",
         "0",
         "3",
         "1",
         "3",
         "2",
         "1",
         "3",
         "3",
         "0",
         "0",
         "0",
         "0",
         "0",
         "0",
         "0",
         "1",
         "0",
         "0",
         "0",
         "0",
         "0",
         "0",
         "0",
         "0",
         "0",
         "0",
         "1",
         "0",
         "0",
         "0",
         "0",
         "0",
         "1",
         "1",
         "0",
         "0",
         "0",
         "0",
         "0",
         "0",
         "1",
         "0",
         "0",
         "2",
         "0",
         "1",
         "0",
         "1",
         "0",
         "1",
         "0",
         "0",
         "0",
         "0",
         "0",
         "0",
         "0",
         "0",
         "1",
         "1",
         "0",
         "0",
         "0",
         "0",
         "0",
         "0",
         "0",
         "0",
         "2",
         "0",
         "0",
         "0",
         "0",
         "0",
         "1",
         "1",
         "1",
         "1",
         "0",
         "0",
         "0",
         "0",
         "1",
         "0",
         "0",
         "0",
         "0",
         "0",
         "0",
         "0",
         "0",
         "0",
         "0",
         "0",
         "0",
         "0",
         "0",
         "0",
         "0",
         "1",
         "0",
         "1",
         "0",
         "1",
         "2",
         "0",
         "1",
         "0",
         "0",
         "0",
         "0",
         "0",
         "0",
         "0",
         "0",
         "0",
         "0",
         "0",
         "1",
         "0",
         "0",
         "0",
         "0",
         "0",
         "0",
         "0",
         "0",
         "1",
         "0",
         "1",
         "0",
         "0",
         "0",
         "0",
         "0",
         "0",
         "0",
         "0",
         "1",
         "1",
         "0",
         "0",
         "0",
         "0",
         "1",
         "1",
         "1",
         "0",
         "0",
         "2",
         "0",
         "0",
         "0",
         "0",
         "0",
         "0",
         "0",
         "0",
         "1",
         "0",
         "0",
         "0",
         "0",
         "0",
         "0",
         "0",
         "0",
         "0",
         "1",
         "1",
         "0",
         "0",
         "1",
         "0",
         "0",
         "0",
         "0",
         "1",
         "0",
         "0",
         "1",
         "0",
         "1",
         "0",
         "1",
         "0",
         "0",
         "0",
         "0",
         "1",
         "0",
         "0",
         "0",
         "0",
         "0",
         "0",
         "1",
         "0",
         "2",
         "0",
         "0",
         "1",
         "0",
         "0",
         "0",
         "0",
         "2",
         "0",
         "1",
         "0",
         "0",
         "0",
         "0",
         "0",
         "0",
         "1",
         "1",
         "0",
         "0",
         "1",
         "0",
         "0",
         "0",
         "0",
         "0",
         "0",
         "0",
         "0",
         "0",
         "0",
         "0",
         "1",
         "1",
         "0",
         "0",
         "0",
         "1",
         "0",
         "0",
         "1",
         "0",
         "0",
         "0",
         "1",
         "1",
         "0",
         "0",
         "0",
         "0",
         "1",
         "0",
         "1",
         "0",
         "0",
         "0",
         "1",
         "1",
         "0",
         "0",
         "0",
         "0",
         "0",
         "0",
         "1",
         "0",
         "0",
         "0",
         "0",
         "0",
         "0",
         "0",
         "0",
         "0",
         "0",
         "0",
         "0",
         "0",
         "0",
         "0",
         "0",
         "0",
         "0",
         "0",
         "0",
         "2",
         "0",
         "0",
         "0",
         "1",
         "0",
         "1",
         "0",
         "0",
         "0",
         "0",
         "1",
         "0",
         "1",
         "0",
         "0",
         "0",
         "0",
         "0",
         "0",
         "0",
         "0",
         "0",
         "0",
         "0",
         "0",
         "0",
         "0",
         "0",
         "1",
         "0",
         "0",
         "0",
         "0",
         "0",
         "0",
         "1",
         "0",
         "0",
         "0",
         "0",
         "0",
         "0",
         "0",
         "0",
         "0",
         "0",
         "0",
         "0",
         "1",
         "0",
         "0",
         "0",
         "1",
         "0",
         "0",
         "0",
         "0",
         "0",
         "0",
         "0",
         "0",
         "0",
         "0",
         "0",
         "0",
         "0",
         "0",
         "0",
         "0",
         "0",
         "0",
         "0",
         "2",
         "1",
         "0",
         "0",
         "0",
         "2",
         "0",
         "1",
         "1",
         "1",
         "0",
         "1",
         "0",
         "1",
         "0",
         "0",
         "0",
         "0",
         "0",
         "0",
         "0",
         "0",
         "0",
         "0",
         "0",
         "0",
         "0",
         "0",
         "0",
         "0",
         "1",
         "0",
         "0",
         "0",
         "0",
         "0",
         "0",
         "0",
         "0",
         "0",
         "0",
         "0",
         "0",
         "0",
         "0",
         "0",
         "0",
         "0",
         "0",
         "0",
         "0",
         "0",
         "0",
         "0",
         "1",
         "0",
         "0",
         "1",
         "0",
         "0",
         "0",
         "0",
         "0",
         "0",
         "0",
         "0",
         "0",
         "0",
         "0",
         "0",
         "0",
         "1",
         "0",
         "0",
         "0",
         "0",
         "0",
         "0",
         "0",
         "0",
         "0",
         "0",
         "1",
         "0",
         "0",
         "0",
         "0",
         "0",
         "0",
         "1",
         "0",
         "0",
         "0",
         "0",
         "0",
         "0",
         "0",
         "0",
         "0",
         "1",
         "0",
         "0",
         "0",
         "0",
         "0",
         "0",
         "0",
         "0",
         "0",
         "0",
         "0",
         "1",
         "0",
         "0",
         "0",
         "1",
         "0",
         "0",
         "0",
         "0",
         "0",
         "0",
         "1",
         "0",
         "0",
         "0",
         "0",
         "0",
         "0",
         "0",
         "0",
         "1",
         "0",
         "0",
         "1",
         "1",
         "0",
         "1",
         "0",
         "0",
         "1",
         "0",
         "0",
         "0",
         "0",
         "0",
         "2",
         "0",
         "0",
         "0",
         "0",
         "1",
         "0",
         "0",
         "0",
         "0",
         "1",
         "0",
         "0",
         "1",
         "0",
         "0",
         "1",
         "0",
         "2",
         "0",
         "2",
         "0",
         "0",
         "1",
         "0",
         "0",
         "1",
         "0",
         "1",
         "0",
         "0",
         "0",
         "0",
         "2",
         "0",
         "2",
         "0",
         "0",
         "2",
         "0",
         "0",
         "0",
         "0",
         "0",
         "1",
         "0",
         "0",
         "1",
         "0",
         "3",
         "0",
         "0",
         "0",
         "0",
         "0",
         "0",
         "1",
         "1",
         "1",
         "0",
         "0",
         "2",
         "1",
         "1",
         "0",
         "0",
         "1",
         "0",
         "1",
         "1",
         "0",
         "0",
         "0",
         "0",
         "0",
         "0",
         "1",
         "0",
         "1",
         "1",
         "0",
         "1",
         "0",
         "0",
         "0",
         "1",
         "0",
         "0",
         "0",
         "2",
         "0",
         "0",
         "1",
         "1",
         "0",
         "1",
         "1",
         "0",
         "0",
         "0",
         "0",
         "1",
         "0",
         "0",
         "0",
         "0",
         "0",
         "1",
         "0",
         "0",
         "1",
         "1",
         "0",
         "0",
         "0",
         "0",
         "0",
         "1",
         "1",
         "0",
         "0",
         "0",
         "2",
         "0",
         "1",
         "0",
         "0",
         "0",
         "0",
         "0",
         "0",
         "0",
         "0",
         "0",
         "0",
         "1",
         "0",
         "0",
         "0",
         "0",
         "0",
         "0",
         "0",
         "0",
         "0",
         "0",
         "0",
         "0",
         "0",
         "0",
         "0",
         "2",
         "1",
         "1",
         "0",
         "1",
         "1",
         "0",
         "0",
         "0",
         "0",
         "0",
         "0",
         "0",
         "2",
         "0",
         "0",
         "0",
         "1",
         "0",
         "0",
         "0",
         "0",
         "2",
         "0",
         "0",
         "1",
         "0",
         "1",
         "0",
         "0",
         "0",
         "1",
         "0",
         "1",
         "0",
         "1",
         "1",
         "1",
         "1",
         "0",
         "2",
         "0",
         "1",
         "1",
         "0",
         "1",
         "0",
         "0",
         "0",
         "0",
         "0",
         "0",
         "1",
         "0",
         "0",
         "0",
         "1",
         "0",
         "0",
         "0",
         "1",
         "0",
         "1",
         "0",
         "0",
         "0",
         "1",
         "0",
         "0",
         "1",
         "0",
         "1",
         "0",
         "1",
         "0",
         "1",
         "0",
         "0",
         "1",
         "4",
         "0",
         "2",
         "3",
         "3",
         "0",
         "1",
         "0",
         "0",
         "0",
         "0",
         "0",
         "0",
         "0",
         "0",
         "0",
         "0",
         "0",
         "0",
         "0",
         "0",
         "1",
         "0",
         "2",
         "0",
         "0",
         "0",
         "0",
         "0",
         "0",
         "0",
         "0",
         "0",
         "0",
         "0",
         "0",
         "0",
         "0",
         "0",
         "0",
         "0",
         "1",
         "0",
         "0",
         "0",
         "0",
         "0",
         "1",
         "0",
         "0",
         "0",
         "0",
         "0",
         "0",
         "0",
         "0",
         "0",
         "1",
         "0",
         "0",
         "0",
         "0",
         "0",
         "0",
         "0",
         "0",
         "0",
         "0",
         "0",
         "0",
         "1",
         "0",
         "0",
         "1",
         "0",
         "0",
         "0",
         "0",
         "0",
         "1",
         "0",
         "0",
         "0",
         "0",
         "0",
         "0",
         "0",
         "0",
         "0",
         "1",
         "0",
         "0",
         "0",
         "0",
         "1",
         "0",
         "0",
         "0",
         "0",
         "0",
         "0",
         "0",
         "0",
         "0",
         "1",
         "0",
         "0",
         "0",
         "0",
         "0",
         "0",
         "0",
         "0",
         "0",
         "0",
         "0",
         "0",
         "0",
         "1",
         "0",
         "0",
         "0",
         "0",
         "0",
         "0",
         "0",
         "0",
         "0",
         "1",
         "0",
         "0",
         "0",
         "0",
         "0",
         "1",
         "0",
         "1",
         "0",
         "0",
         "1",
         "0",
         "0",
         "0",
         "0",
         "1",
         "0",
         "0",
         "0",
         "1",
         "0",
         "3",
         "0",
         "1",
         "0",
         "0",
         "0",
         "1",
         "0",
         "0",
         "0",
         "0",
         "0",
         "0",
         "1",
         "0",
         "1",
         "0",
         "0",
         "0",
         "0",
         "0",
         "0",
         "0",
         "0",
         "0",
         "1",
         "1",
         "0",
         "0",
         "0",
         "1",
         "0",
         "1",
         "1",
         "0",
         "0",
         "0",
         "0",
         "0",
         "0",
         "0",
         "0",
         "0",
         "0",
         "0",
         "1",
         "1",
         "1",
         "0",
         "1",
         "0",
         "0",
         "0",
         "0",
         "0",
         "0",
         "0",
         "2",
         "1",
         "0",
         "0",
         "0",
         "0",
         "0",
         "1",
         "0",
         "0",
         "1",
         "1",
         "0",
         "2",
         "0",
         "2",
         "1",
         "0",
         "1",
         "0",
         "0",
         "0",
         "2",
         "1",
         "1",
         "1",
         "0",
         "0",
         "0",
         "1",
         "0",
         "1",
         "0",
         "0",
         "0",
         "1",
         "0",
         "0",
         "1",
         "1",
         "0",
         "0",
         "0",
         "3",
         "4",
         "0",
         "0",
         "0",
         "0",
         "1",
         "0",
         "0",
         "0",
         "0",
         "0",
         "0",
         "0",
         "0",
         "1",
         "0",
         "0",
         "0",
         "1",
         "1",
         "0",
         "0",
         "1",
         "1",
         "0",
         "0",
         "0",
         "0",
         "0",
         "0",
         "0",
         "2",
         "1",
         "0",
         "0",
         "1",
         "0",
         "0",
         "0",
         "0",
         "0",
         "0",
         "0",
         "0",
         "3",
         "0",
         "0",
         "0",
         "0",
         "0",
         "0",
         "0",
         "0",
         "0",
         "0",
         "1",
         "0",
         "2",
         "1",
         "0",
         "0",
         "0",
         "1",
         "1",
         "0",
         "0",
         "0",
         "0",
         "1",
         "1",
         "0",
         "1",
         "0",
         "1",
         "1",
         "0",
         "0",
         "0",
         "0",
         "0",
         "1",
         "0",
         "1",
         "1",
         "0",
         "3",
         "0",
         "0",
         "0",
         "0",
         "0",
         "0",
         "0",
         "1",
         "0",
         "0",
         "0",
         "0",
         "0",
         "2",
         "1",
         "0",
         "0",
         "1",
         "1",
         "0",
         "2",
         "0",
         "1",
         "0",
         "2",
         "1",
         "1",
         "5",
         "0",
         "1",
         "0",
         "3",
         "5",
         "0",
         "0",
         "1",
         "0",
         "0",
         "0",
         "0",
         "0",
         "0",
         "0",
         "0",
         "0",
         "0",
         "0",
         "0",
         "1",
         "0",
         "0",
         "0",
         "0",
         "0",
         "1",
         "0",
         "0",
         "1",
         "0",
         "0",
         "0",
         "0",
         "0",
         "0",
         "0",
         "0",
         "0",
         "1",
         "0",
         "0",
         "0",
         "1",
         "0",
         "0",
         "0",
         "0",
         "0",
         "0",
         "1",
         "0",
         "0",
         "0",
         "0",
         "0",
         "0",
         "0",
         "1",
         "0",
         "0",
         "0",
         "1",
         "0",
         "0",
         "0",
         "0",
         "1",
         "0",
         "0",
         "0",
         "0",
         "0",
         "0",
         "1",
         "0",
         "0",
         "1",
         "1",
         "0",
         "0",
         "1",
         "0",
         "1",
         "0",
         "0",
         "0",
         "0",
         "0",
         "0",
         "0",
         "0",
         "0",
         "0",
         "0",
         "1",
         "1",
         "1",
         "1",
         "1",
         "0",
         "0",
         "0",
         "0",
         "0",
         "0",
         "0",
         "0",
         "0",
         "0",
         "0",
         "0",
         "0",
         "0",
         "0",
         "0",
         "0",
         "0",
         "0",
         "0",
         "0",
         "0",
         "1",
         "0",
         "0",
         "0",
         "0",
         "0",
         "1",
         "0",
         "0",
         "0",
         "0",
         "0",
         "0",
         "0",
         "1",
         "0",
         "0",
         "0",
         "0",
         "0",
         "0",
         "0",
         "0",
         "0",
         "1",
         "2",
         "1",
         "1",
         "0",
         "0",
         "0",
         "0",
         "0"
        ],
        [
         "2",
         "HOBBIES_1_003_CA_1_evaluation",
         "HOBBIES_1_003",
         "HOBBIES_1",
         "HOBBIES",
         "CA_1",
         "CA",
         "0",
         "0",
         "0",
         "0",
         "0",
         "0",
         "0",
         "0",
         "0",
         "0",
         "0",
         "0",
         "0",
         "0",
         "0",
         "0",
         "0",
         "0",
         "0",
         "0",
         "0",
         "0",
         "0",
         "0",
         "0",
         "0",
         "0",
         "0",
         "0",
         "0",
         "0",
         "0",
         "0",
         "0",
         "0",
         "0",
         "0",
         "0",
         "0",
         "0",
         "0",
         "0",
         "0",
         "0",
         "0",
         "0",
         "0",
         "0",
         "0",
         "0",
         "0",
         "0",
         "0",
         "0",
         "0",
         "0",
         "0",
         "0",
         "0",
         "0",
         "0",
         "0",
         "0",
         "0",
         "0",
         "0",
         "0",
         "0",
         "0",
         "0",
         "0",
         "0",
         "0",
         "0",
         "0",
         "0",
         "0",
         "0",
         "0",
         "0",
         "0",
         "0",
         "0",
         "0",
         "0",
         "0",
         "0",
         "0",
         "0",
         "0",
         "0",
         "0",
         "0",
         "0",
         "0",
         "0",
         "0",
         "0",
         "0",
         "0",
         "0",
         "0",
         "0",
         "0",
         "0",
         "0",
         "0",
         "0",
         "0",
         "0",
         "0",
         "0",
         "0",
         "0",
         "0",
         "0",
         "0",
         "0",
         "0",
         "0",
         "0",
         "0",
         "0",
         "0",
         "0",
         "0",
         "0",
         "0",
         "0",
         "0",
         "0",
         "0",
         "0",
         "0",
         "0",
         "0",
         "0",
         "0",
         "0",
         "0",
         "0",
         "0",
         "0",
         "0",
         "0",
         "0",
         "0",
         "0",
         "0",
         "0",
         "0",
         "0",
         "0",
         "0",
         "0",
         "0",
         "0",
         "0",
         "0",
         "0",
         "0",
         "0",
         "0",
         "0",
         "0",
         "0",
         "0",
         "0",
         "0",
         "0",
         "0",
         "0",
         "0",
         "0",
         "0",
         "0",
         "0",
         "0",
         "0",
         "0",
         "0",
         "0",
         "0",
         "0",
         "0",
         "0",
         "0",
         "0",
         "0",
         "0",
         "0",
         "0",
         "0",
         "0",
         "0",
         "0",
         "0",
         "0",
         "0",
         "0",
         "0",
         "0",
         "0",
         "0",
         "0",
         "0",
         "0",
         "0",
         "0",
         "0",
         "0",
         "0",
         "0",
         "0",
         "0",
         "0",
         "0",
         "0",
         "0",
         "0",
         "0",
         "0",
         "0",
         "0",
         "0",
         "0",
         "0",
         "0",
         "0",
         "0",
         "0",
         "0",
         "0",
         "0",
         "0",
         "0",
         "0",
         "0",
         "0",
         "0",
         "0",
         "0",
         "0",
         "0",
         "0",
         "0",
         "0",
         "0",
         "0",
         "0",
         "0",
         "0",
         "0",
         "0",
         "0",
         "0",
         "0",
         "0",
         "0",
         "0",
         "0",
         "0",
         "0",
         "0",
         "0",
         "0",
         "0",
         "0",
         "0",
         "0",
         "0",
         "0",
         "0",
         "0",
         "0",
         "0",
         "0",
         "0",
         "0",
         "0",
         "0",
         "0",
         "0",
         "0",
         "0",
         "0",
         "0",
         "0",
         "0",
         "0",
         "0",
         "0",
         "0",
         "0",
         "0",
         "0",
         "0",
         "0",
         "0",
         "0",
         "0",
         "0",
         "0",
         "0",
         "0",
         "0",
         "0",
         "0",
         "0",
         "0",
         "0",
         "0",
         "0",
         "0",
         "0",
         "0",
         "0",
         "0",
         "0",
         "0",
         "0",
         "0",
         "0",
         "0",
         "0",
         "0",
         "0",
         "0",
         "0",
         "0",
         "0",
         "0",
         "0",
         "0",
         "0",
         "0",
         "0",
         "0",
         "0",
         "0",
         "0",
         "0",
         "0",
         "0",
         "0",
         "0",
         "0",
         "0",
         "0",
         "0",
         "0",
         "0",
         "0",
         "0",
         "0",
         "0",
         "0",
         "0",
         "0",
         "0",
         "0",
         "0",
         "0",
         "0",
         "0",
         "0",
         "0",
         "0",
         "0",
         "0",
         "0",
         "0",
         "0",
         "0",
         "0",
         "0",
         "0",
         "0",
         "0",
         "0",
         "0",
         "0",
         "0",
         "0",
         "0",
         "0",
         "0",
         "0",
         "0",
         "0",
         "0",
         "0",
         "0",
         "0",
         "0",
         "0",
         "0",
         "0",
         "0",
         "0",
         "0",
         "0",
         "0",
         "0",
         "0",
         "0",
         "0",
         "0",
         "0",
         "0",
         "0",
         "0",
         "0",
         "0",
         "0",
         "0",
         "0",
         "0",
         "0",
         "0",
         "0",
         "0",
         "0",
         "0",
         "0",
         "0",
         "0",
         "0",
         "0",
         "0",
         "0",
         "0",
         "0",
         "0",
         "0",
         "0",
         "0",
         "0",
         "0",
         "0",
         "0",
         "0",
         "0",
         "0",
         "0",
         "0",
         "0",
         "0",
         "0",
         "0",
         "0",
         "0",
         "0",
         "0",
         "0",
         "0",
         "0",
         "0",
         "0",
         "0",
         "0",
         "0",
         "0",
         "0",
         "0",
         "0",
         "0",
         "0",
         "0",
         "0",
         "0",
         "0",
         "0",
         "0",
         "0",
         "0",
         "0",
         "0",
         "0",
         "0",
         "0",
         "0",
         "0",
         "0",
         "0",
         "0",
         "0",
         "0",
         "0",
         "0",
         "0",
         "0",
         "0",
         "0",
         "0",
         "0",
         "0",
         "0",
         "0",
         "0",
         "0",
         "0",
         "0",
         "0",
         "0",
         "0",
         "0",
         "0",
         "0",
         "0",
         "0",
         "0",
         "0",
         "0",
         "0",
         "0",
         "0",
         "0",
         "0",
         "0",
         "0",
         "0",
         "0",
         "0",
         "0",
         "0",
         "0",
         "0",
         "0",
         "0",
         "0",
         "0",
         "0",
         "0",
         "0",
         "0",
         "0",
         "0",
         "0",
         "0",
         "0",
         "0",
         "0",
         "0",
         "0",
         "0",
         "0",
         "0",
         "0",
         "0",
         "0",
         "0",
         "0",
         "0",
         "0",
         "0",
         "0",
         "0",
         "0",
         "0",
         "0",
         "0",
         "0",
         "0",
         "0",
         "0",
         "0",
         "0",
         "0",
         "0",
         "0",
         "0",
         "0",
         "0",
         "0",
         "0",
         "0",
         "0",
         "0",
         "0",
         "0",
         "0",
         "0",
         "0",
         "0",
         "0",
         "0",
         "0",
         "0",
         "0",
         "0",
         "0",
         "0",
         "0",
         "0",
         "0",
         "0",
         "0",
         "0",
         "0",
         "0",
         "0",
         "0",
         "0",
         "0",
         "0",
         "0",
         "0",
         "0",
         "0",
         "0",
         "0",
         "0",
         "0",
         "0",
         "0",
         "0",
         "0",
         "0",
         "0",
         "0",
         "0",
         "0",
         "0",
         "0",
         "0",
         "0",
         "0",
         "0",
         "0",
         "0",
         "0",
         "0",
         "0",
         "0",
         "0",
         "0",
         "0",
         "0",
         "0",
         "0",
         "0",
         "0",
         "0",
         "0",
         "0",
         "0",
         "0",
         "0",
         "0",
         "0",
         "0",
         "0",
         "0",
         "0",
         "0",
         "0",
         "0",
         "0",
         "0",
         "0",
         "0",
         "0",
         "0",
         "0",
         "0",
         "0",
         "0",
         "0",
         "0",
         "0",
         "0",
         "0",
         "0",
         "0",
         "0",
         "0",
         "0",
         "0",
         "0",
         "0",
         "0",
         "0",
         "0",
         "0",
         "0",
         "0",
         "0",
         "0",
         "0",
         "0",
         "0",
         "0",
         "0",
         "0",
         "0",
         "0",
         "0",
         "0",
         "0",
         "0",
         "0",
         "0",
         "0",
         "0",
         "0",
         "0",
         "0",
         "0",
         "0",
         "0",
         "0",
         "0",
         "0",
         "0",
         "0",
         "0",
         "0",
         "0",
         "0",
         "0",
         "0",
         "0",
         "0",
         "0",
         "0",
         "0",
         "0",
         "0",
         "0",
         "0",
         "0",
         "0",
         "0",
         "0",
         "0",
         "0",
         "0",
         "0",
         "0",
         "0",
         "0",
         "0",
         "0",
         "0",
         "0",
         "0",
         "0",
         "0",
         "0",
         "0",
         "0",
         "0",
         "0",
         "0",
         "0",
         "0",
         "0",
         "0",
         "0",
         "0",
         "0",
         "0",
         "0",
         "0",
         "0",
         "0",
         "0",
         "0",
         "0",
         "0",
         "0",
         "0",
         "0",
         "0",
         "0",
         "0",
         "0",
         "0",
         "0",
         "0",
         "0",
         "0",
         "0",
         "0",
         "0",
         "0",
         "0",
         "0",
         "0",
         "0",
         "0",
         "0",
         "0",
         "0",
         "0",
         "0",
         "0",
         "0",
         "0",
         "0",
         "0",
         "0",
         "0",
         "0",
         "0",
         "0",
         "0",
         "0",
         "0",
         "0",
         "0",
         "0",
         "0",
         "0",
         "0",
         "0",
         "0",
         "0",
         "0",
         "0",
         "0",
         "0",
         "0",
         "0",
         "0",
         "0",
         "0",
         "0",
         "0",
         "0",
         "0",
         "0",
         "0",
         "0",
         "0",
         "0",
         "0",
         "0",
         "0",
         "0",
         "0",
         "0",
         "0",
         "0",
         "0",
         "0",
         "0",
         "0",
         "0",
         "0",
         "0",
         "0",
         "0",
         "0",
         "0",
         "0",
         "0",
         "0",
         "0",
         "0",
         "0",
         "0",
         "0",
         "0",
         "0",
         "0",
         "0",
         "0",
         "0",
         "0",
         "0",
         "0",
         "0",
         "0",
         "0",
         "0",
         "0",
         "0",
         "0",
         "0",
         "0",
         "0",
         "0",
         "0",
         "0",
         "0",
         "0",
         "0",
         "0",
         "0",
         "0",
         "0",
         "0",
         "0",
         "0",
         "0",
         "0",
         "0",
         "0",
         "0",
         "0",
         "0",
         "0",
         "0",
         "0",
         "0",
         "0",
         "0",
         "0",
         "0",
         "0",
         "0",
         "0",
         "0",
         "0",
         "0",
         "0",
         "0",
         "0",
         "0",
         "0",
         "0",
         "0",
         "0",
         "0",
         "0",
         "0",
         "0",
         "0",
         "0",
         "0",
         "0",
         "0",
         "0",
         "0",
         "0",
         "0",
         "0",
         "0",
         "0",
         "0",
         "0",
         "0",
         "0",
         "0",
         "0",
         "0",
         "0",
         "0",
         "0",
         "0",
         "0",
         "0",
         "0",
         "0",
         "0",
         "0",
         "0",
         "0",
         "0",
         "0",
         "0",
         "0",
         "0",
         "0",
         "0",
         "0",
         "0",
         "0",
         "0",
         "0",
         "0",
         "0",
         "0",
         "0",
         "0",
         "0",
         "0",
         "0",
         "0",
         "0",
         "0",
         "0",
         "0",
         "0",
         "0",
         "0",
         "0",
         "0",
         "0",
         "0",
         "0",
         "0",
         "0",
         "0",
         "0",
         "0",
         "0",
         "0",
         "0",
         "0",
         "0",
         "0",
         "0",
         "0",
         "0",
         "0",
         "0",
         "0",
         "0",
         "0",
         "0",
         "0",
         "0",
         "0",
         "0",
         "0",
         "0",
         "0",
         "0",
         "0",
         "0",
         "0",
         "0",
         "0",
         "0",
         "0",
         "0",
         "0",
         "0",
         "0",
         "0",
         "0",
         "0",
         "0",
         "0",
         "0",
         "0",
         "0",
         "0",
         "0",
         "0",
         "0",
         "0",
         "0",
         "0",
         "0",
         "0",
         "0",
         "0",
         "0",
         "0",
         "0",
         "0",
         "0",
         "0",
         "0",
         "0",
         "0",
         "0",
         "0",
         "0",
         "0",
         "0",
         "0",
         "0",
         "0",
         "0",
         "0",
         "0",
         "0",
         "0",
         "0",
         "0",
         "0",
         "0",
         "0",
         "0",
         "0",
         "0",
         "0",
         "0",
         "0",
         "0",
         "0",
         "0",
         "0",
         "0",
         "0",
         "0",
         "0",
         "0",
         "0",
         "0",
         "0",
         "0",
         "0",
         "0",
         "0",
         "0",
         "0",
         "0",
         "0",
         "0",
         "3",
         "0",
         "2",
         "0",
         "0",
         "1",
         "0",
         "1",
         "1",
         "1",
         "0",
         "0",
         "0",
         "1",
         "1",
         "0",
         "0",
         "0",
         "0",
         "0",
         "0",
         "0",
         "2",
         "0",
         "0",
         "0",
         "0",
         "0",
         "1",
         "0",
         "0",
         "0",
         "0",
         "0",
         "0",
         "0",
         "0",
         "0",
         "0",
         "0",
         "2",
         "0",
         "1",
         "0",
         "0",
         "0",
         "1",
         "0",
         "3",
         "0",
         "1",
         "0",
         "1",
         "1",
         "0",
         "1",
         "2",
         "0",
         "0",
         "0",
         "0",
         "0",
         "0",
         "0",
         "1",
         "0",
         "0",
         "0",
         "0",
         "1",
         "0",
         "1",
         "0",
         "0",
         "0",
         "0",
         "1",
         "0",
         "0",
         "0",
         "0",
         "0",
         "0",
         "1",
         "0",
         "0",
         "0",
         "0",
         "0",
         "2",
         "0",
         "0",
         "1",
         "0",
         "0",
         "0",
         "0",
         "0",
         "0",
         "0",
         "0",
         "0",
         "1",
         "0",
         "0",
         "0",
         "0",
         "0",
         "2",
         "0",
         "0",
         "0",
         "1",
         "0",
         "0",
         "0",
         "1",
         "0",
         "0",
         "0",
         "0",
         "0",
         "0",
         "0",
         "0",
         "0",
         "0",
         "0",
         "0",
         "1",
         "0",
         "0",
         "0",
         "1",
         "0",
         "1",
         "0",
         "0",
         "0",
         "0",
         "0",
         "0",
         "0",
         "0",
         "0",
         "0",
         "0",
         "0",
         "0",
         "0",
         "0",
         "0",
         "1",
         "0",
         "0",
         "0",
         "0",
         "0",
         "0",
         "0",
         "0",
         "2",
         "1",
         "0",
         "0",
         "0",
         "0",
         "0",
         "0",
         "0",
         "0",
         "0",
         "0",
         "0",
         "0",
         "0",
         "0",
         "0",
         "1",
         "0",
         "0",
         "0",
         "0",
         "1",
         "0",
         "0",
         "0",
         "0",
         "0",
         "0",
         "0",
         "0",
         "0",
         "0",
         "0",
         "0",
         "0",
         "0",
         "0",
         "0",
         "0",
         "0",
         "0",
         "0",
         "0",
         "0",
         "0",
         "0",
         "0",
         "0",
         "1",
         "0",
         "1",
         "0",
         "1",
         "1",
         "0",
         "0",
         "0",
         "1",
         "0",
         "1",
         "0",
         "0",
         "0",
         "0",
         "0",
         "0",
         "0",
         "0",
         "0",
         "0",
         "1",
         "2",
         "0",
         "0",
         "0",
         "0",
         "0",
         "0",
         "0",
         "0",
         "0",
         "0",
         "0",
         "0",
         "0",
         "0",
         "0",
         "0",
         "0",
         "0",
         "0",
         "0",
         "0",
         "0",
         "0",
         "0",
         "0",
         "0",
         "0",
         "0",
         "0",
         "0",
         "0",
         "0",
         "0",
         "0",
         "0",
         "0",
         "0",
         "0",
         "0",
         "0",
         "0",
         "0",
         "0",
         "0",
         "0",
         "0",
         "0",
         "0",
         "0",
         "0",
         "0",
         "0",
         "0",
         "0",
         "0",
         "0",
         "0",
         "0",
         "0",
         "0",
         "0",
         "0",
         "0",
         "0",
         "0",
         "0",
         "0",
         "0",
         "0",
         "0",
         "0",
         "0",
         "0",
         "0",
         "0",
         "0",
         "0",
         "1",
         "0",
         "0",
         "0",
         "0",
         "0",
         "0",
         "0",
         "0",
         "0",
         "0",
         "1",
         "0",
         "0",
         "0",
         "0",
         "0",
         "0",
         "1",
         "0",
         "0",
         "0",
         "0",
         "0",
         "0",
         "0",
         "0",
         "0",
         "1",
         "0",
         "0",
         "0",
         "1",
         "0",
         "1",
         "0",
         "1",
         "1",
         "0",
         "0",
         "1",
         "0",
         "1",
         "1",
         "1",
         "0",
         "0",
         "0",
         "0",
         "0",
         "0",
         "0",
         "0",
         "1",
         "0",
         "0",
         "1",
         "0",
         "0",
         "1",
         "0",
         "0",
         "1",
         "0",
         "0",
         "0",
         "0",
         "0",
         "0",
         "3",
         "1",
         "0",
         "0",
         "0",
         "1",
         "1",
         "1",
         "1",
         "1",
         "0",
         "0",
         "0",
         "0",
         "0",
         "0",
         "0",
         "0",
         "1",
         "1",
         "0",
         "1",
         "1",
         "0",
         "0",
         "0",
         "0",
         "0",
         "1",
         "0",
         "0",
         "0",
         "0",
         "1",
         "0",
         "0",
         "0",
         "1",
         "0",
         "0",
         "0",
         "1",
         "0",
         "0",
         "0",
         "0",
         "0",
         "0",
         "1",
         "0",
         "0",
         "0",
         "0",
         "0",
         "0",
         "0",
         "0",
         "0",
         "0",
         "0",
         "0",
         "1",
         "0",
         "0",
         "0",
         "0",
         "0",
         "1",
         "0",
         "1",
         "0",
         "0",
         "1",
         "0",
         "0",
         "0",
         "1",
         "0",
         "0",
         "0",
         "0",
         "1",
         "0",
         "1",
         "0",
         "1",
         "0",
         "0",
         "1",
         "0",
         "1",
         "0",
         "1",
         "0",
         "1",
         "0",
         "0",
         "2",
         "0",
         "0",
         "0",
         "1",
         "0",
         "0",
         "1",
         "0",
         "0",
         "0",
         "1",
         "0",
         "0",
         "2",
         "0",
         "0",
         "0",
         "0",
         "1",
         "1",
         "1",
         "0",
         "0",
         "0",
         "0",
         "0",
         "0",
         "1",
         "0",
         "1",
         "0",
         "0",
         "2",
         "1",
         "0",
         "0",
         "0",
         "0",
         "1",
         "0",
         "2",
         "0",
         "0",
         "0",
         "0",
         "0",
         "0",
         "0",
         "1",
         "0",
         "0",
         "0",
         "0",
         "1",
         "1",
         "0",
         "1",
         "0",
         "0",
         "0",
         "0",
         "0",
         "3",
         "0",
         "0",
         "0",
         "0",
         "0",
         "0",
         "1",
         "0",
         "0",
         "1",
         "1",
         "1",
         "1",
         "0",
         "1",
         "1",
         "0",
         "0",
         "0",
         "0",
         "0",
         "0",
         "0",
         "0",
         "0",
         "1",
         "0",
         "1",
         "0",
         "0",
         "0",
         "0",
         "0",
         "0",
         "2",
         "1",
         "0",
         "3",
         "0",
         "1",
         "2",
         "0",
         "3",
         "1",
         "0",
         "0",
         "1",
         "0",
         "1",
         "0",
         "0",
         "0",
         "0",
         "2",
         "0",
         "1",
         "0",
         "1",
         "0",
         "1",
         "1",
         "0",
         "1",
         "0",
         "1",
         "0",
         "0",
         "0",
         "1",
         "2",
         "0",
         "0",
         "0",
         "1",
         "0",
         "1",
         "1",
         "1",
         "1",
         "0",
         "0",
         "0",
         "0",
         "0",
         "0",
         "2",
         "0",
         "1",
         "0",
         "0",
         "2",
         "0",
         "0",
         "0",
         "1",
         "0",
         "0",
         "1",
         "0",
         "0",
         "2",
         "0",
         "0",
         "0",
         "0",
         "0",
         "0",
         "0",
         "0",
         "2",
         "0",
         "2",
         "3",
         "0",
         "1",
         "3",
         "1",
         "2",
         "2",
         "3",
         "0",
         "1",
         "1",
         "0",
         "0",
         "0",
         "0",
         "2",
         "3",
         "1",
         "1",
         "4",
         "3",
         "2",
         "1",
         "2",
         "2",
         "0",
         "1",
         "5",
         "2",
         "0",
         "1",
         "2",
         "3",
         "0",
         "1",
         "2",
         "1",
         "3",
         "0",
         "1",
         "1",
         "1",
         "1",
         "0",
         "0",
         "0",
         "0",
         "0",
         "0",
         "0",
         "1",
         "0",
         "1",
         "0",
         "0",
         "0",
         "0",
         "0",
         "0",
         "0",
         "0",
         "0",
         "0",
         "0",
         "0",
         "0",
         "0",
         "0",
         "0",
         "1",
         "0",
         "0",
         "0",
         "0",
         "0",
         "0",
         "0",
         "1",
         "0",
         "1",
         "1",
         "1",
         "1",
         "1",
         "0",
         "0",
         "0",
         "1",
         "0",
         "1",
         "0",
         "1",
         "0",
         "0",
         "0",
         "0",
         "0",
         "0",
         "0",
         "0",
         "0",
         "0",
         "0",
         "0",
         "6",
         "1",
         "1",
         "2",
         "0",
         "0",
         "0",
         "1",
         "1",
         "0",
         "0",
         "0",
         "0",
         "1",
         "0",
         "0",
         "0",
         "0",
         "0",
         "0",
         "1",
         "1",
         "0",
         "0",
         "0",
         "0",
         "0",
         "0",
         "0",
         "1",
         "0",
         "0",
         "0",
         "1",
         "0",
         "0",
         "0",
         "0",
         "0",
         "1",
         "2",
         "2",
         "1",
         "2",
         "1",
         "1",
         "1",
         "0",
         "1",
         "1",
         "1",
         "0",
         "0",
         "1",
         "1",
         "0",
         "2",
         "1",
         "0",
         "0",
         "0",
         "0",
         "2",
         "1",
         "3",
         "0",
         "0",
         "1",
         "0",
         "1",
         "0",
         "2",
         "0",
         "0",
         "0",
         "2",
         "3",
         "0",
         "1"
        ],
        [
         "3",
         "HOBBIES_1_004_CA_1_evaluation",
         "HOBBIES_1_004",
         "HOBBIES_1",
         "HOBBIES",
         "CA_1",
         "CA",
         "0",
         "0",
         "0",
         "0",
         "0",
         "0",
         "0",
         "0",
         "0",
         "0",
         "0",
         "0",
         "0",
         "0",
         "0",
         "0",
         "0",
         "0",
         "0",
         "0",
         "0",
         "0",
         "0",
         "0",
         "0",
         "0",
         "0",
         "0",
         "0",
         "0",
         "0",
         "0",
         "0",
         "0",
         "0",
         "0",
         "2",
         "0",
         "0",
         "0",
         "2",
         "0",
         "1",
         "0",
         "0",
         "0",
         "0",
         "0",
         "0",
         "2",
         "0",
         "1",
         "0",
         "0",
         "1",
         "1",
         "1",
         "0",
         "2",
         "3",
         "1",
         "0",
         "0",
         "0",
         "0",
         "0",
         "1",
         "0",
         "0",
         "1",
         "1",
         "0",
         "0",
         "1",
         "0",
         "0",
         "1",
         "2",
         "3",
         "0",
         "2",
         "0",
         "0",
         "2",
         "2",
         "0",
         "0",
         "2",
         "1",
         "2",
         "1",
         "1",
         "1",
         "2",
         "0",
         "0",
         "1",
         "0",
         "1",
         "3",
         "1",
         "0",
         "0",
         "0",
         "0",
         "3",
         "5",
         "2",
         "2",
         "1",
         "1",
         "1",
         "1",
         "1",
         "1",
         "0",
         "0",
         "2",
         "1",
         "1",
         "1",
         "2",
         "0",
         "0",
         "0",
         "2",
         "5",
         "6",
         "0",
         "0",
         "0",
         "0",
         "0",
         "0",
         "0",
         "0",
         "0",
         "0",
         "0",
         "2",
         "1",
         "2",
         "0",
         "1",
         "0",
         "2",
         "0",
         "0",
         "5",
         "1",
         "0",
         "0",
         "1",
         "3",
         "1",
         "3",
         "5",
         "1",
         "3",
         "0",
         "3",
         "4",
         "4",
         "0",
         "0",
         "1",
         "3",
         "1",
         "4",
         "0",
         "0",
         "2",
         "0",
         "2",
         "0",
         "1",
         "4",
         "2",
         "1",
         "0",
         "2",
         "1",
         "3",
         "6",
         "1",
         "1",
         "2",
         "1",
         "2",
         "3",
         "1",
         "2",
         "0",
         "0",
         "0",
         "3",
         "4",
         "5",
         "1",
         "0",
         "0",
         "1",
         "0",
         "1",
         "4",
         "6",
         "3",
         "1",
         "1",
         "0",
         "1",
         "4",
         "5",
         "1",
         "1",
         "4",
         "0",
         "0",
         "0",
         "1",
         "2",
         "2",
         "1",
         "1",
         "6",
         "2",
         "4",
         "4",
         "0",
         "0",
         "0",
         "2",
         "2",
         "0",
         "1",
         "1",
         "3",
         "1",
         "2",
         "4",
         "2",
         "1",
         "3",
         "2",
         "2",
         "0",
         "4",
         "1",
         "1",
         "0",
         "4",
         "2",
         "2",
         "5",
         "1",
         "2",
         "3",
         "3",
         "2",
         "2",
         "1",
         "1",
         "2",
         "1",
         "3",
         "2",
         "1",
         "3",
         "0",
         "0",
         "0",
         "3",
         "1",
         "2",
         "3",
         "0",
         "1",
         "0",
         "2",
         "0",
         "5",
         "4",
         "2",
         "1",
         "2",
         "4",
         "1",
         "1",
         "0",
         "1",
         "2",
         "2",
         "2",
         "0",
         "2",
         "3",
         "0",
         "1",
         "1",
         "1",
         "1",
         "0",
         "5",
         "1",
         "1",
         "1",
         "2",
         "0",
         "4",
         "2",
         "3",
         "2",
         "0",
         "2",
         "1",
         "1",
         "6",
         "3",
         "1",
         "3",
         "2",
         "2",
         "1",
         "2",
         "0",
         "0",
         "0",
         "0",
         "3",
         "1",
         "0",
         "6",
         "2",
         "1",
         "2",
         "1",
         "0",
         "0",
         "0",
         "0",
         "0",
         "0",
         "6",
         "3",
         "3",
         "0",
         "0",
         "0",
         "0",
         "2",
         "2",
         "0",
         "4",
         "2",
         "1",
         "0",
         "1",
         "1",
         "8",
         "1",
         "3",
         "0",
         "1",
         "2",
         "3",
         "3",
         "1",
         "1",
         "2",
         "1",
         "1",
         "1",
         "1",
         "2",
         "0",
         "1",
         "2",
         "0",
         "0",
         "0",
         "0",
         "0",
         "0",
         "0",
         "3",
         "2",
         "8",
         "2",
         "0",
         "1",
         "2",
         "0",
         "2",
         "5",
         "3",
         "0",
         "0",
         "3",
         "1",
         "0",
         "2",
         "1",
         "2",
         "2",
         "1",
         "2",
         "2",
         "6",
         "0",
         "2",
         "0",
         "1",
         "1",
         "2",
         "1",
         "3",
         "0",
         "0",
         "2",
         "1",
         "4",
         "3",
         "1",
         "1",
         "1",
         "1",
         "2",
         "3",
         "5",
         "0",
         "1",
         "2",
         "1",
         "2",
         "0",
         "2",
         "2",
         "0",
         "0",
         "0",
         "0",
         "0",
         "2",
         "1",
         "1",
         "0",
         "1",
         "2",
         "2",
         "0",
         "3",
         "0",
         "0",
         "0",
         "0",
         "3",
         "0",
         "1",
         "1",
         "0",
         "3",
         "1",
         "1",
         "6",
         "1",
         "1",
         "0",
         "0",
         "0",
         "0",
         "0",
         "0",
         "0",
         "0",
         "0",
         "0",
         "1",
         "4",
         "1",
         "1",
         "2",
         "1",
         "2",
         "3",
         "1",
         "0",
         "0",
         "1",
         "1",
         "1",
         "3",
         "1",
         "0",
         "1",
         "1",
         "0",
         "2",
         "0",
         "5",
         "1",
         "0",
         "1",
         "1",
         "2",
         "1",
         "3",
         "0",
         "0",
         "0",
         "1",
         "1",
         "1",
         "1",
         "0",
         "0",
         "0",
         "0",
         "1",
         "2",
         "0",
         "0",
         "1",
         "0",
         "0",
         "0",
         "1",
         "0",
         "0",
         "1",
         "1",
         "1",
         "0",
         "3",
         "3",
         "0",
         "1",
         "2",
         "0",
         "0",
         "3",
         "4",
         "0",
         "1",
         "0",
         "0",
         "0",
         "0",
         "2",
         "1",
         "2",
         "1",
         "1",
         "2",
         "1",
         "0",
         "0",
         "0",
         "0",
         "3",
         "0",
         "2",
         "2",
         "1",
         "2",
         "1",
         "1",
         "2",
         "1",
         "0",
         "2",
         "1",
         "2",
         "5",
         "1",
         "1",
         "5",
         "1",
         "0",
         "1",
         "2",
         "1",
         "1",
         "4",
         "1",
         "5",
         "0",
         "7",
         "0",
         "0",
         "3",
         "1",
         "2",
         "3",
         "1",
         "1",
         "4",
         "2",
         "1",
         "3",
         "0",
         "1",
         "1",
         "3",
         "2",
         "1",
         "1",
         "1",
         "1",
         "5",
         "1",
         "3",
         "5",
         "0",
         "1",
         "1",
         "2",
         "0",
         "5",
         "1",
         "0",
         "2",
         "1",
         "2",
         "1",
         "5",
         "2",
         "2",
         "0",
         "4",
         "0",
         "6",
         "3",
         "0",
         "0",
         "0",
         "0",
         "0",
         "0",
         "0",
         "0",
         "0",
         "0",
         "0",
         "0",
         "1",
         "0",
         "1",
         "4",
         "0",
         "0",
         "0",
         "0",
         "0",
         "0",
         "0",
         "0",
         "0",
         "0",
         "0",
         "0",
         "0",
         "0",
         "0",
         "0",
         "2",
         "1",
         "1",
         "1",
         "0",
         "0",
         "0",
         "0",
         "1",
         "0",
         "0",
         "0",
         "0",
         "0",
         "0",
         "0",
         "0",
         "0",
         "0",
         "2",
         "1",
         "1",
         "2",
         "0",
         "0",
         "0",
         "0",
         "0",
         "0",
         "0",
         "0",
         "0",
         "0",
         "0",
         "0",
         "0",
         "0",
         "0",
         "0",
         "0",
         "0",
         "0",
         "0",
         "0",
         "0",
         "0",
         "0",
         "0",
         "0",
         "0",
         "0",
         "0",
         "0",
         "0",
         "0",
         "0",
         "0",
         "0",
         "0",
         "0",
         "0",
         "0",
         "0",
         "0",
         "0",
         "6",
         "1",
         "1",
         "1",
         "1",
         "0",
         "2",
         "1",
         "0",
         "3",
         "0",
         "2",
         "3",
         "1",
         "2",
         "1",
         "1",
         "1",
         "0",
         "1",
         "2",
         "0",
         "1",
         "0",
         "3",
         "1",
         "0",
         "2",
         "1",
         "2",
         "6",
         "0",
         "1",
         "1",
         "1",
         "6",
         "0",
         "3",
         "0",
         "0",
         "1",
         "4",
         "3",
         "2",
         "0",
         "2",
         "2",
         "2",
         "4",
         "2",
         "2",
         "0",
         "1",
         "2",
         "1",
         "2",
         "7",
         "1",
         "0",
         "1",
         "0",
         "2",
         "5",
         "1",
         "6",
         "1",
         "0",
         "0",
         "0",
         "3",
         "4",
         "0",
         "3",
         "2",
         "1",
         "1",
         "2",
         "5",
         "2",
         "0",
         "0",
         "0",
         "0",
         "2",
         "3",
         "3",
         "1",
         "2",
         "3",
         "1",
         "0",
         "5",
         "3",
         "1",
         "1",
         "2",
         "1",
         "1",
         "1",
         "2",
         "0",
         "1",
         "2",
         "0",
         "2",
         "0",
         "2",
         "3",
         "7",
         "0",
         "0",
         "2",
         "1",
         "2",
         "3",
         "1",
         "0",
         "2",
         "1",
         "3",
         "1",
         "0",
         "0",
         "0",
         "3",
         "6",
         "4",
         "0",
         "0",
         "1",
         "1",
         "2",
         "0",
         "0",
         "1",
         "1",
         "0",
         "0",
         "1",
         "0",
         "3",
         "3",
         "0",
         "0",
         "0",
         "2",
         "1",
         "3",
         "0",
         "0",
         "0",
         "1",
         "1",
         "3",
         "3",
         "0",
         "2",
         "0",
         "0",
         "2",
         "0",
         "0",
         "0",
         "0",
         "0",
         "0",
         "0",
         "0",
         "0",
         "0",
         "0",
         "0",
         "0",
         "1",
         "3",
         "3",
         "1",
         "1",
         "0",
         "1",
         "4",
         "2",
         "1",
         "2",
         "1",
         "2",
         "3",
         "2",
         "2",
         "2",
         "5",
         "0",
         "0",
         "1",
         "4",
         "7",
         "0",
         "0",
         "0",
         "2",
         "1",
         "0",
         "4",
         "2",
         "1",
         "1",
         "1",
         "1",
         "0",
         "5",
         "0",
         "1",
         "0",
         "1",
         "3",
         "1",
         "2",
         "1",
         "4",
         "1",
         "4",
         "0",
         "1",
         "1",
         "4",
         "2",
         "1",
         "1",
         "4",
         "1",
         "3",
         "3",
         "0",
         "3",
         "0",
         "1",
         "1",
         "3",
         "4",
         "1",
         "0",
         "0",
         "1",
         "0",
         "2",
         "4",
         "4",
         "0",
         "1",
         "0",
         "3",
         "5",
         "4",
         "0",
         "1",
         "0",
         "1",
         "0",
         "3",
         "5",
         "1",
         "2",
         "4",
         "3",
         "1",
         "1",
         "2",
         "2",
         "1",
         "2",
         "1",
         "0",
         "8",
         "6",
         "3",
         "2",
         "1",
         "2",
         "2",
         "5",
         "5",
         "0",
         "2",
         "2",
         "1",
         "0",
         "3",
         "1",
         "1",
         "1",
         "1",
         "1",
         "0",
         "2",
         "4",
         "2",
         "2",
         "0",
         "1",
         "3",
         "4",
         "3",
         "2",
         "3",
         "2",
         "5",
         "3",
         "2",
         "8",
         "3",
         "0",
         "1",
         "6",
         "1",
         "2",
         "3",
         "1",
         "2",
         "0",
         "11",
         "0",
         "1",
         "4",
         "3",
         "0",
         "0",
         "1",
         "2",
         "2",
         "6",
         "2",
         "0",
         "0",
         "3",
         "0",
         "10",
         "5",
         "1",
         "3",
         "2",
         "4",
         "4",
         "2",
         "0",
         "1",
         "4",
         "1",
         "0",
         "2",
         "5",
         "1",
         "1",
         "0",
         "1",
         "1",
         "2",
         "2",
         "2",
         "0",
         "0",
         "0",
         "3",
         "2",
         "8",
         "5",
         "2",
         "2",
         "1",
         "1",
         "2",
         "4",
         "2",
         "0",
         "0",
         "5",
         "0",
         "2",
         "4",
         "6",
         "2",
         "0",
         "1",
         "3",
         "0",
         "5",
         "3",
         "0",
         "3",
         "1",
         "1",
         "0",
         "12",
         "4",
         "0",
         "2",
         "2",
         "1",
         "4",
         "0",
         "1",
         "7",
         "2",
         "2",
         "0",
         "1",
         "6",
         "10",
         "0",
         "1",
         "1",
         "1",
         "2",
         "2",
         "6",
         "1",
         "0",
         "1",
         "3",
         "0",
         "5",
         "2",
         "1",
         "4",
         "2",
         "5",
         "2",
         "4",
         "2",
         "1",
         "0",
         "0",
         "1",
         "1",
         "12",
         "1",
         "2",
         "0",
         "3",
         "2",
         "5",
         "3",
         "2",
         "1",
         "1",
         "2",
         "1",
         "3",
         "3",
         "4",
         "1",
         "4",
         "2",
         "2",
         "1",
         "1",
         "4",
         "1",
         "1",
         "1",
         "1",
         "1",
         "2",
         "14",
         "2",
         "2",
         "0",
         "2",
         "1",
         "2",
         "3",
         "3",
         "2",
         "2",
         "0",
         "4",
         "6",
         "4",
         "2",
         "1",
         "1",
         "2",
         "1",
         "2",
         "5",
         "2",
         "2",
         "1",
         "2",
         "3",
         "5",
         "10",
         "0",
         "0",
         "2",
         "1",
         "1",
         "3",
         "2",
         "2",
         "2",
         "3",
         "0",
         "2",
         "5",
         "3",
         "2",
         "3",
         "3",
         "1",
         "1",
         "1",
         "2",
         "2",
         "5",
         "3",
         "1",
         "3",
         "6",
         "5",
         "2",
         "4",
         "1",
         "3",
         "2",
         "4",
         "5",
         "7",
         "1",
         "0",
         "4",
         "4",
         "1",
         "4",
         "1",
         "0",
         "1",
         "3",
         "1",
         "3",
         "6",
         "1",
         "2",
         "0",
         "3",
         "0",
         "3",
         "8",
         "2",
         "2",
         "0",
         "0",
         "2",
         "4",
         "2",
         "0",
         "0",
         "2",
         "4",
         "2",
         "3",
         "6",
         "2",
         "0",
         "3",
         "5",
         "2",
         "0",
         "5",
         "4",
         "1",
         "1",
         "0",
         "1",
         "6",
         "1",
         "2",
         "5",
         "4",
         "3",
         "2",
         "3",
         "4",
         "3",
         "2",
         "3",
         "2",
         "0",
         "3",
         "6",
         "1",
         "2",
         "1",
         "3",
         "3",
         "1",
         "5",
         "0",
         "2",
         "1",
         "0",
         "2",
         "9",
         "0",
         "0",
         "2",
         "2",
         "3",
         "0",
         "0",
         "0",
         "3",
         "2",
         "0",
         "0",
         "1",
         "3",
         "3",
         "0",
         "0",
         "3",
         "0",
         "0",
         "4",
         "5",
         "1",
         "2",
         "2",
         "0",
         "0",
         "5",
         "0",
         "1",
         "1",
         "0",
         "0",
         "0",
         "4",
         "6",
         "1",
         "0",
         "4",
         "4",
         "0",
         "8",
         "2",
         "4",
         "1",
         "2",
         "1",
         "4",
         "0",
         "4",
         "7",
         "1",
         "5",
         "1",
         "6",
         "5",
         "5",
         "0",
         "1",
         "3",
         "1",
         "15",
         "0",
         "5",
         "0",
         "1",
         "1",
         "6",
         "3",
         "2",
         "2",
         "3",
         "1",
         "3",
         "1",
         "8",
         "2",
         "4",
         "0",
         "0",
         "2",
         "1",
         "1",
         "5",
         "9",
         "0",
         "2",
         "2",
         "5",
         "0",
         "7",
         "1",
         "1",
         "3",
         "0",
         "0",
         "2",
         "10",
         "2",
         "1",
         "0",
         "0",
         "2",
         "4",
         "3",
         "3",
         "0",
         "2",
         "2",
         "3",
         "0",
         "1",
         "9",
         "2",
         "0",
         "4",
         "1",
         "1",
         "2",
         "3",
         "8",
         "1",
         "0",
         "0",
         "2",
         "11",
         "3",
         "3",
         "1",
         "0",
         "2",
         "1",
         "2",
         "6",
         "0",
         "0",
         "2",
         "0",
         "3",
         "10",
         "4",
         "0",
         "1",
         "1",
         "1",
         "1",
         "4",
         "2",
         "8",
         "2",
         "2",
         "2",
         "1",
         "1",
         "12",
         "2",
         "0",
         "0",
         "1",
         "3",
         "4",
         "1",
         "0",
         "2",
         "1",
         "2",
         "1",
         "3",
         "10",
         "1",
         "2",
         "0",
         "0",
         "1",
         "0",
         "3",
         "2",
         "0",
         "4",
         "0",
         "3",
         "1",
         "10",
         "1",
         "0",
         "0",
         "4",
         "5",
         "7",
         "0",
         "0",
         "2",
         "0",
         "1",
         "4",
         "1",
         "7",
         "1",
         "1",
         "0",
         "8",
         "2",
         "0",
         "8",
         "2",
         "3",
         "1",
         "1",
         "3",
         "8",
         "4",
         "1",
         "0",
         "1",
         "3",
         "5",
         "2",
         "3",
         "0",
         "2",
         "1",
         "2",
         "1",
         "6",
         "7",
         "0",
         "2",
         "1",
         "0",
         "3",
         "8",
         "4",
         "1",
         "1",
         "1",
         "2",
         "2",
         "6",
         "5",
         "2",
         "1",
         "0",
         "1",
         "3",
         "4",
         "2",
         "2",
         "2",
         "2",
         "2",
         "1",
         "0",
         "13",
         "0",
         "0",
         "0",
         "5",
         "3",
         "2",
         "5",
         "1",
         "0",
         "2",
         "1",
         "0",
         "0",
         "12",
         "0",
         "1",
         "0",
         "2",
         "2",
         "4",
         "1",
         "3",
         "1",
         "1",
         "4",
         "1",
         "4",
         "2",
         "2",
         "0",
         "2",
         "3",
         "1",
         "0",
         "2",
         "9",
         "2",
         "2",
         "0",
         "0",
         "10",
         "2",
         "0",
         "1",
         "0",
         "3",
         "2",
         "4",
         "7",
         "1",
         "0",
         "1",
         "3",
         "3",
         "5",
         "0",
         "0",
         "0",
         "0",
         "1",
         "0",
         "2",
         "5",
         "0",
         "0",
         "1",
         "1",
         "0",
         "7",
         "4",
         "1",
         "1",
         "4",
         "0",
         "0",
         "0",
         "5",
         "1",
         "1",
         "0",
         "0",
         "0",
         "11",
         "2",
         "2",
         "1",
         "1",
         "2",
         "1",
         "1",
         "2",
         "1",
         "1",
         "0",
         "3",
         "0",
         "2",
         "14",
         "0",
         "0",
         "0",
         "3",
         "3",
         "1",
         "1",
         "1",
         "1",
         "0",
         "3",
         "3",
         "1",
         "7",
         "3",
         "1",
         "0",
         "0",
         "1",
         "0",
         "1",
         "1",
         "0",
         "0",
         "2",
         "1",
         "4",
         "4",
         "3",
         "0",
         "2",
         "0",
         "0",
         "1",
         "3",
         "3",
         "0",
         "2",
         "1",
         "2",
         "4",
         "7",
         "0",
         "2",
         "1",
         "0",
         "5",
         "5",
         "2",
         "2",
         "4",
         "1",
         "0",
         "0",
         "3",
         "1",
         "0",
         "0",
         "0",
         "3",
         "1",
         "3",
         "3",
         "0",
         "0",
         "4",
         "1",
         "1",
         "1",
         "1",
         "3",
         "3",
         "1",
         "0",
         "3",
         "0",
         "1",
         "3",
         "3",
         "3",
         "2",
         "2",
         "2",
         "4",
         "3",
         "0",
         "5",
         "1",
         "3",
         "3",
         "2",
         "0",
         "0",
         "1",
         "1",
         "0",
         "2",
         "2",
         "2",
         "3",
         "2",
         "1",
         "2",
         "0",
         "5",
         "0",
         "1",
         "0",
         "0",
         "0",
         "3",
         "4",
         "0",
         "0",
         "1",
         "5",
         "3",
         "2",
         "2",
         "0",
         "1",
         "1",
         "0",
         "2",
         "1",
         "0",
         "2",
         "4",
         "0",
         "0",
         "0",
         "3",
         "2",
         "4",
         "3",
         "1",
         "2",
         "3",
         "0",
         "8",
         "2",
         "1",
         "2",
         "2",
         "5",
         "2",
         "6",
         "1",
         "0",
         "3",
         "5",
         "1",
         "1",
         "6",
         "4",
         "3",
         "2",
         "2",
         "3",
         "2",
         "1",
         "0",
         "0",
         "0",
         "2",
         "0",
         "5",
         "4",
         "2",
         "1",
         "1",
         "2",
         "3",
         "0",
         "6",
         "0",
         "0",
         "0",
         "1",
         "0",
         "1",
         "5",
         "3",
         "1",
         "0",
         "0",
         "0",
         "1",
         "2",
         "3",
         "0",
         "1",
         "3",
         "4",
         "2",
         "1",
         "4",
         "1",
         "3",
         "5",
         "0",
         "6",
         "6",
         "0",
         "0",
         "0",
         "0",
         "3",
         "1",
         "2",
         "1",
         "3",
         "1",
         "0",
         "2",
         "5",
         "4",
         "2",
         "0",
         "3",
         "0",
         "1",
         "0",
         "5",
         "4",
         "1",
         "0",
         "1",
         "3",
         "7",
         "2",
         "0",
         "0",
         "1",
         "2",
         "4",
         "1",
         "6",
         "4",
         "0",
         "0",
         "0",
         "2",
         "2",
         "4",
         "2",
         "1",
         "1",
         "1",
         "1",
         "1",
         "0",
         "4",
         "0",
         "1",
         "3",
         "0",
         "2",
         "6"
        ],
        [
         "4",
         "HOBBIES_1_005_CA_1_evaluation",
         "HOBBIES_1_005",
         "HOBBIES_1",
         "HOBBIES",
         "CA_1",
         "CA",
         "0",
         "0",
         "0",
         "0",
         "0",
         "0",
         "0",
         "0",
         "0",
         "0",
         "0",
         "0",
         "0",
         "0",
         "0",
         "0",
         "0",
         "0",
         "0",
         "0",
         "0",
         "0",
         "0",
         "0",
         "0",
         "0",
         "0",
         "0",
         "0",
         "0",
         "0",
         "0",
         "0",
         "0",
         "0",
         "0",
         "0",
         "0",
         "0",
         "0",
         "0",
         "0",
         "0",
         "0",
         "0",
         "0",
         "0",
         "0",
         "0",
         "0",
         "0",
         "0",
         "0",
         "0",
         "0",
         "0",
         "0",
         "0",
         "0",
         "0",
         "0",
         "0",
         "0",
         "0",
         "0",
         "0",
         "0",
         "0",
         "0",
         "0",
         "0",
         "0",
         "0",
         "0",
         "0",
         "0",
         "0",
         "0",
         "0",
         "0",
         "0",
         "0",
         "0",
         "0",
         "0",
         "0",
         "0",
         "0",
         "0",
         "0",
         "0",
         "0",
         "0",
         "0",
         "0",
         "0",
         "0",
         "0",
         "0",
         "0",
         "0",
         "0",
         "0",
         "0",
         "0",
         "0",
         "0",
         "0",
         "0",
         "0",
         "0",
         "0",
         "8",
         "6",
         "0",
         "3",
         "2",
         "3",
         "5",
         "3",
         "1",
         "0",
         "0",
         "1",
         "0",
         "2",
         "2",
         "4",
         "0",
         "0",
         "3",
         "1",
         "1",
         "1",
         "2",
         "2",
         "0",
         "0",
         "0",
         "0",
         "0",
         "0",
         "3",
         "7",
         "1",
         "1",
         "0",
         "0",
         "0",
         "0",
         "0",
         "0",
         "0",
         "0",
         "1",
         "0",
         "0",
         "0",
         "0",
         "0",
         "0",
         "0",
         "0",
         "0",
         "1",
         "0",
         "0",
         "0",
         "0",
         "0",
         "0",
         "0",
         "0",
         "0",
         "0",
         "0",
         "0",
         "0",
         "0",
         "0",
         "0",
         "0",
         "0",
         "3",
         "3",
         "2",
         "0",
         "0",
         "0",
         "0",
         "0",
         "0",
         "0",
         "2",
         "0",
         "6",
         "2",
         "4",
         "2",
         "0",
         "0",
         "3",
         "2",
         "4",
         "1",
         "0",
         "0",
         "0",
         "0",
         "1",
         "1",
         "1",
         "2",
         "0",
         "0",
         "0",
         "0",
         "0",
         "0",
         "0",
         "0",
         "2",
         "6",
         "7",
         "9",
         "4",
         "7",
         "6",
         "3",
         "4",
         "2",
         "0",
         "1",
         "5",
         "2",
         "2",
         "0",
         "0",
         "0",
         "0",
         "0",
         "0",
         "1",
         "3",
         "3",
         "0",
         "0",
         "2",
         "0",
         "0",
         "1",
         "1",
         "3",
         "0",
         "0",
         "0",
         "0",
         "0",
         "1",
         "1",
         "4",
         "0",
         "1",
         "0",
         "0",
         "3",
         "1",
         "2",
         "1",
         "1",
         "1",
         "1",
         "0",
         "1",
         "1",
         "0",
         "0",
         "1",
         "0",
         "0",
         "0",
         "3",
         "4",
         "0",
         "0",
         "3",
         "0",
         "1",
         "2",
         "0",
         "2",
         "3",
         "2",
         "1",
         "4",
         "0",
         "1",
         "0",
         "1",
         "0",
         "1",
         "1",
         "0",
         "0",
         "1",
         "2",
         "0",
         "0",
         "0",
         "2",
         "2",
         "0",
         "0",
         "0",
         "0",
         "1",
         "1",
         "3",
         "3",
         "6",
         "0",
         "0",
         "2",
         "2",
         "1",
         "4",
         "3",
         "2",
         "8",
         "0",
         "0",
         "0",
         "0",
         "0",
         "0",
         "0",
         "0",
         "1",
         "0",
         "2",
         "1",
         "0",
         "2",
         "5",
         "0",
         "3",
         "0",
         "1",
         "1",
         "0",
         "0",
         "0",
         "2",
         "0",
         "2",
         "1",
         "0",
         "0",
         "0",
         "0",
         "0",
         "0",
         "0",
         "0",
         "0",
         "0",
         "0",
         "0",
         "0",
         "0",
         "2",
         "2",
         "3",
         "3",
         "1",
         "2",
         "0",
         "0",
         "3",
         "0",
         "0",
         "0",
         "4",
         "0",
         "1",
         "0",
         "0",
         "0",
         "0",
         "0",
         "0",
         "0",
         "0",
         "0",
         "0",
         "0",
         "0",
         "0",
         "0",
         "0",
         "0",
         "0",
         "0",
         "0",
         "0",
         "0",
         "0",
         "0",
         "0",
         "0",
         "0",
         "0",
         "0",
         "0",
         "0",
         "0",
         "0",
         "0",
         "0",
         "0",
         "0",
         "0",
         "0",
         "1",
         "0",
         "0",
         "0",
         "0",
         "0",
         "0",
         "0",
         "0",
         "0",
         "0",
         "0",
         "0",
         "0",
         "0",
         "0",
         "0",
         "0",
         "0",
         "0",
         "0",
         "0",
         "0",
         "0",
         "0",
         "0",
         "0",
         "0",
         "0",
         "0",
         "0",
         "0",
         "0",
         "0",
         "0",
         "0",
         "0",
         "0",
         "0",
         "0",
         "0",
         "0",
         "0",
         "0",
         "0",
         "0",
         "0",
         "0",
         "0",
         "0",
         "2",
         "2",
         "1",
         "3",
         "0",
         "2",
         "0",
         "0",
         "0",
         "0",
         "2",
         "5",
         "3",
         "2",
         "2",
         "3",
         "1",
         "3",
         "1",
         "1",
         "2",
         "0",
         "1",
         "2",
         "2",
         "2",
         "5",
         "2",
         "1",
         "1",
         "2",
         "2",
         "0",
         "1",
         "4",
         "1",
         "0",
         "0",
         "1",
         "0",
         "1",
         "0",
         "1",
         "1",
         "2",
         "1",
         "2",
         "0",
         "1",
         "1",
         "0",
         "1",
         "2",
         "0",
         "1",
         "0",
         "1",
         "1",
         "0",
         "1",
         "2",
         "0",
         "0",
         "0",
         "2",
         "0",
         "0",
         "1",
         "0",
         "0",
         "1",
         "0",
         "2",
         "0",
         "1",
         "1",
         "0",
         "1",
         "4",
         "2",
         "1",
         "0",
         "0",
         "0",
         "0",
         "0",
         "2",
         "3",
         "0",
         "1",
         "1",
         "0",
         "0",
         "3",
         "4",
         "0",
         "0",
         "2",
         "0",
         "0",
         "0",
         "1",
         "3",
         "2",
         "0",
         "1",
         "0",
         "2",
         "2",
         "0",
         "2",
         "0",
         "0",
         "0",
         "0",
         "0",
         "0",
         "0",
         "0",
         "0",
         "0",
         "0",
         "0",
         "0",
         "0",
         "0",
         "0",
         "2",
         "0",
         "4",
         "0",
         "0",
         "2",
         "3",
         "1",
         "0",
         "0",
         "2",
         "1",
         "5",
         "1",
         "3",
         "0",
         "1",
         "1",
         "0",
         "0",
         "1",
         "2",
         "1",
         "2",
         "2",
         "1",
         "1",
         "1",
         "0",
         "2",
         "2",
         "0",
         "0",
         "2",
         "0",
         "0",
         "2",
         "1",
         "2",
         "0",
         "0",
         "3",
         "1",
         "1",
         "3",
         "2",
         "2",
         "0",
         "0",
         "4",
         "1",
         "1",
         "7",
         "2",
         "3",
         "0",
         "1",
         "0",
         "0",
         "0",
         "0",
         "1",
         "3",
         "0",
         "2",
         "1",
         "3",
         "1",
         "1",
         "2",
         "0",
         "2",
         "0",
         "7",
         "0",
         "0",
         "0",
         "2",
         "0",
         "1",
         "1",
         "1",
         "1",
         "1",
         "0",
         "1",
         "0",
         "1",
         "2",
         "0",
         "2",
         "1",
         "3",
         "5",
         "2",
         "4",
         "0",
         "0",
         "1",
         "3",
         "5",
         "2",
         "0",
         "1",
         "1",
         "2",
         "0",
         "4",
         "1",
         "1",
         "0",
         "1",
         "3",
         "5",
         "2",
         "2",
         "0",
         "0",
         "1",
         "0",
         "0",
         "1",
         "3",
         "2",
         "0",
         "0",
         "4",
         "1",
         "0",
         "6",
         "0",
         "0",
         "0",
         "2",
         "2",
         "4",
         "0",
         "1",
         "1",
         "2",
         "1",
         "2",
         "0",
         "2",
         "0",
         "0",
         "0",
         "0",
         "0",
         "2",
         "3",
         "1",
         "0",
         "2",
         "0",
         "0",
         "2",
         "1",
         "4",
         "0",
         "0",
         "2",
         "1",
         "2",
         "2",
         "1",
         "0",
         "0",
         "0",
         "0",
         "0",
         "2",
         "0",
         "2",
         "1",
         "0",
         "2",
         "2",
         "3",
         "0",
         "2",
         "2",
         "0",
         "1",
         "2",
         "0",
         "2",
         "1",
         "1",
         "0",
         "1",
         "4",
         "1",
         "1",
         "1",
         "2",
         "0",
         "0",
         "0",
         "0",
         "0",
         "0",
         "0",
         "1",
         "0",
         "0",
         "1",
         "1",
         "2",
         "3",
         "1",
         "1",
         "1",
         "3",
         "0",
         "2",
         "1",
         "1",
         "1",
         "1",
         "2",
         "1",
         "0",
         "0",
         "0",
         "0",
         "1",
         "0",
         "0",
         "0",
         "0",
         "0",
         "0",
         "1",
         "1",
         "0",
         "1",
         "0",
         "1",
         "1",
         "5",
         "4",
         "1",
         "0",
         "2",
         "3",
         "1",
         "3",
         "1",
         "0",
         "0",
         "0",
         "0",
         "0",
         "0",
         "0",
         "0",
         "0",
         "1",
         "0",
         "2",
         "1",
         "2",
         "1",
         "1",
         "1",
         "2",
         "2",
         "0",
         "1",
         "0",
         "1",
         "0",
         "0",
         "0",
         "1",
         "0",
         "0",
         "0",
         "0",
         "4",
         "1",
         "3",
         "0",
         "0",
         "0",
         "1",
         "0",
         "3",
         "2",
         "0",
         "2",
         "1",
         "3",
         "5",
         "1",
         "2",
         "0",
         "1",
         "0",
         "1",
         "1",
         "0",
         "2",
         "4",
         "0",
         "0",
         "0",
         "0",
         "0",
         "1",
         "6",
         "1",
         "0",
         "0",
         "1",
         "1",
         "1",
         "0",
         "0",
         "2",
         "3",
         "2",
         "0",
         "0",
         "0",
         "0",
         "0",
         "2",
         "0",
         "2",
         "2",
         "0",
         "1",
         "1",
         "5",
         "0",
         "0",
         "1",
         "2",
         "2",
         "3",
         "0",
         "1",
         "0",
         "2",
         "3",
         "3",
         "0",
         "1",
         "0",
         "1",
         "3",
         "4",
         "1",
         "1",
         "1",
         "0",
         "2",
         "1",
         "2",
         "2",
         "0",
         "3",
         "1",
         "0",
         "2",
         "2",
         "0",
         "1",
         "3",
         "3",
         "1",
         "1",
         "1",
         "0",
         "0",
         "3",
         "0",
         "0",
         "1",
         "0",
         "0",
         "2",
         "3",
         "1",
         "0",
         "3",
         "0",
         "1",
         "1",
         "1",
         "1",
         "1",
         "4",
         "1",
         "0",
         "0",
         "0",
         "1",
         "1",
         "1",
         "0",
         "0",
         "0",
         "1",
         "2",
         "0",
         "3",
         "1",
         "1",
         "0",
         "0",
         "0",
         "0",
         "1",
         "1",
         "0",
         "0",
         "0",
         "0",
         "1",
         "0",
         "0",
         "1",
         "0",
         "3",
         "2",
         "1",
         "2",
         "0",
         "1",
         "1",
         "0",
         "0",
         "4",
         "0",
         "1",
         "1",
         "0",
         "1",
         "1",
         "0",
         "1",
         "2",
         "0",
         "1",
         "0",
         "0",
         "0",
         "3",
         "0",
         "0",
         "1",
         "4",
         "1",
         "0",
         "2",
         "2",
         "5",
         "0",
         "0",
         "1",
         "2",
         "0",
         "0",
         "0",
         "1",
         "1",
         "0",
         "0",
         "0",
         "1",
         "0",
         "0",
         "0",
         "0",
         "0",
         "0",
         "3",
         "1",
         "0",
         "0",
         "0",
         "0",
         "2",
         "0",
         "1",
         "1",
         "2",
         "0",
         "0",
         "4",
         "2",
         "2",
         "1",
         "2",
         "0",
         "1",
         "3",
         "1",
         "0",
         "0",
         "0",
         "0",
         "2",
         "0",
         "0",
         "2",
         "0",
         "2",
         "1",
         "0",
         "1",
         "1",
         "1",
         "0",
         "2",
         "2",
         "2",
         "1",
         "0",
         "2",
         "2",
         "0",
         "0",
         "0",
         "0",
         "1",
         "0",
         "1",
         "2",
         "0",
         "0",
         "2",
         "1",
         "0",
         "0",
         "0",
         "0",
         "3",
         "2",
         "3",
         "0",
         "1",
         "0",
         "0",
         "1",
         "1",
         "1",
         "0",
         "0",
         "1",
         "1",
         "1",
         "0",
         "0",
         "0",
         "1",
         "2",
         "0",
         "3",
         "1",
         "1",
         "0",
         "1",
         "0",
         "0",
         "0",
         "0",
         "0",
         "2",
         "0",
         "1",
         "1",
         "0",
         "2",
         "3",
         "0",
         "0",
         "1",
         "1",
         "1",
         "0",
         "1",
         "2",
         "0",
         "0",
         "0",
         "0",
         "3",
         "1",
         "0",
         "0",
         "0",
         "1",
         "0",
         "2",
         "1",
         "1",
         "2",
         "2",
         "0",
         "1",
         "1",
         "4",
         "0",
         "0",
         "0",
         "1",
         "2",
         "1",
         "0",
         "0",
         "0",
         "0",
         "0",
         "2",
         "1",
         "0",
         "0",
         "1",
         "2",
         "0",
         "1",
         "3",
         "1",
         "1",
         "3",
         "0",
         "5",
         "0",
         "0",
         "0",
         "0",
         "1",
         "0",
         "2",
         "1",
         "1",
         "0",
         "2",
         "0",
         "0",
         "0",
         "0",
         "0",
         "1",
         "0",
         "2",
         "0",
         "2",
         "2",
         "0",
         "1",
         "0",
         "1",
         "0",
         "0",
         "0",
         "1",
         "0",
         "1",
         "0",
         "1",
         "0",
         "4",
         "0",
         "0",
         "0",
         "2",
         "0",
         "1",
         "0",
         "2",
         "2",
         "1",
         "2",
         "0",
         "0",
         "0",
         "1",
         "0",
         "0",
         "0",
         "0",
         "2",
         "3",
         "2",
         "0",
         "0",
         "0",
         "1",
         "0",
         "1",
         "1",
         "3",
         "0",
         "0",
         "0",
         "2",
         "2",
         "0",
         "2",
         "0",
         "0",
         "1",
         "1",
         "0",
         "3",
         "0",
         "0",
         "0",
         "0",
         "0",
         "2",
         "1",
         "5",
         "0",
         "0",
         "0",
         "2",
         "0",
         "0",
         "0",
         "0",
         "0",
         "0",
         "0",
         "0",
         "2",
         "3",
         "1",
         "1",
         "0",
         "1",
         "1",
         "1",
         "0",
         "0",
         "0",
         "0",
         "1",
         "2",
         "2",
         "0",
         "0",
         "1",
         "0",
         "0",
         "0",
         "3",
         "3",
         "1",
         "1",
         "1",
         "0",
         "1",
         "9",
         "6",
         "0",
         "0",
         "0",
         "1",
         "2",
         "6",
         "1",
         "0",
         "0",
         "1",
         "1",
         "0",
         "1",
         "2",
         "0",
         "1",
         "0",
         "0",
         "2",
         "2",
         "4",
         "1",
         "1",
         "0",
         "3",
         "2",
         "7",
         "2",
         "0",
         "0",
         "1",
         "0",
         "1",
         "1",
         "0",
         "0",
         "3",
         "1",
         "0",
         "0",
         "2",
         "3",
         "1",
         "0",
         "1",
         "0",
         "0",
         "5",
         "4",
         "2",
         "0",
         "2",
         "1",
         "3",
         "1",
         "3",
         "2",
         "1",
         "0",
         "0",
         "2",
         "4",
         "2",
         "3",
         "2",
         "2",
         "0",
         "0",
         "1",
         "0",
         "3",
         "0",
         "0",
         "3",
         "0",
         "1",
         "1",
         "1",
         "0",
         "0",
         "0",
         "1",
         "1",
         "0",
         "0",
         "0",
         "1",
         "2",
         "1",
         "1",
         "1",
         "1",
         "1",
         "1",
         "1",
         "0",
         "2",
         "0",
         "0",
         "2",
         "1",
         "0",
         "4",
         "1",
         "2",
         "1",
         "0",
         "0",
         "1",
         "1",
         "5",
         "1",
         "0",
         "1",
         "2",
         "0",
         "1",
         "1",
         "1",
         "0",
         "1",
         "3",
         "3",
         "1",
         "1",
         "4",
         "1",
         "0",
         "0",
         "0",
         "2",
         "1",
         "2",
         "0",
         "2",
         "1",
         "1",
         "1",
         "2",
         "2",
         "1",
         "0",
         "1",
         "1",
         "2",
         "0",
         "1",
         "4",
         "2",
         "0",
         "2",
         "2",
         "1",
         "3",
         "1",
         "1",
         "2",
         "0",
         "2",
         "0",
         "1",
         "0",
         "0",
         "1",
         "0",
         "1",
         "4",
         "0",
         "0",
         "1",
         "0",
         "2",
         "0",
         "1",
         "3",
         "2",
         "1",
         "1",
         "2",
         "2",
         "3",
         "3",
         "0",
         "0",
         "1",
         "1",
         "0",
         "2",
         "0",
         "2",
         "1",
         "2",
         "0",
         "2",
         "3",
         "4",
         "2",
         "0",
         "0",
         "0",
         "0",
         "0",
         "0",
         "0",
         "0",
         "0",
         "0",
         "0",
         "0",
         "2",
         "0",
         "0",
         "0",
         "0",
         "0",
         "0",
         "3",
         "1",
         "0",
         "0",
         "0",
         "0",
         "2",
         "1",
         "1",
         "0",
         "0",
         "0",
         "0",
         "0",
         "5",
         "1",
         "2",
         "1",
         "0",
         "1",
         "1",
         "1",
         "0",
         "0",
         "2",
         "1",
         "0",
         "1",
         "0",
         "0",
         "1",
         "1",
         "0",
         "0",
         "3",
         "3",
         "1",
         "1",
         "0",
         "3",
         "2",
         "2",
         "3",
         "3",
         "2",
         "1",
         "0",
         "0",
         "1",
         "2",
         "1",
         "1",
         "0",
         "2",
         "1",
         "1",
         "0",
         "0",
         "2",
         "1",
         "0",
         "0",
         "0",
         "0",
         "0",
         "1",
         "1",
         "0",
         "1",
         "1",
         "1",
         "2",
         "1",
         "2",
         "1",
         "0",
         "2",
         "2",
         "1",
         "0",
         "3",
         "3",
         "3",
         "4",
         "1",
         "2",
         "0",
         "2",
         "0",
         "5",
         "2",
         "0",
         "0",
         "1",
         "0",
         "3",
         "1",
         "0",
         "1",
         "0",
         "2",
         "1",
         "0",
         "0",
         "1",
         "3",
         "1",
         "1",
         "0",
         "4",
         "0",
         "2",
         "1",
         "2",
         "4",
         "0",
         "1",
         "0",
         "0",
         "3",
         "1",
         "2",
         "2",
         "0",
         "1",
         "1",
         "0",
         "4",
         "0",
         "0",
         "4",
         "0",
         "2",
         "2",
         "2",
         "1",
         "2",
         "1",
         "1",
         "1",
         "4",
         "0",
         "2",
         "1",
         "2",
         "0",
         "0",
         "1",
         "0",
         "1",
         "1",
         "2",
         "2",
         "3",
         "1",
         "0",
         "2",
         "3",
         "0",
         "1",
         "1",
         "4",
         "0",
         "3",
         "2",
         "1",
         "2",
         "1",
         "2",
         "2",
         "1",
         "2",
         "0",
         "1",
         "1",
         "2",
         "0",
         "2",
         "0",
         "0",
         "0",
         "4",
         "2",
         "1",
         "2",
         "0",
         "0",
         "0",
         "0",
         "0",
         "2",
         "1",
         "0",
         "0",
         "1",
         "2",
         "0",
         "1",
         "2",
         "1",
         "2",
         "1",
         "2",
         "3",
         "3",
         "0",
         "3",
         "1",
         "5",
         "3",
         "2",
         "1",
         "2",
         "3",
         "4",
         "0",
         "0",
         "1",
         "0",
         "0",
         "1",
         "0",
         "0",
         "1",
         "0",
         "0",
         "0",
         "0",
         "2",
         "0",
         "0",
         "3",
         "0",
         "0",
         "1",
         "2",
         "2",
         "0",
         "1",
         "0",
         "0",
         "0",
         "1",
         "0",
         "0",
         "3",
         "0",
         "0",
         "1",
         "1",
         "0",
         "3",
         "1",
         "0",
         "4",
         "1",
         "2",
         "0",
         "0",
         "0",
         "1",
         "1",
         "2",
         "0",
         "0",
         "5",
         "2",
         "2",
         "2",
         "1",
         "0",
         "0",
         "0",
         "3",
         "0",
         "0",
         "0",
         "3",
         "1",
         "1",
         "1",
         "1",
         "2",
         "1",
         "0",
         "0",
         "1",
         "0",
         "2",
         "1",
         "1",
         "0",
         "3",
         "1",
         "1",
         "2",
         "1",
         "1",
         "0",
         "3",
         "2",
         "2",
         "2",
         "3",
         "1",
         "0",
         "0",
         "0",
         "0",
         "1",
         "0",
         "4",
         "4",
         "0",
         "1",
         "4",
         "0",
         "1",
         "0",
         "1",
         "0",
         "1",
         "1",
         "2",
         "0",
         "1",
         "1",
         "2",
         "1",
         "1",
         "0",
         "1",
         "1",
         "2",
         "2",
         "2",
         "4",
         "1",
         "0",
         "2",
         "3",
         "1",
         "0",
         "3",
         "2",
         "3",
         "1",
         "1",
         "3",
         "2",
         "3",
         "2",
         "2",
         "2",
         "2",
         "0",
         "0",
         "0",
         "2",
         "1",
         "0",
         "0",
         "2",
         "1",
         "0"
        ]
       ],
       "shape": {
        "columns": 1947,
        "rows": 5
       }
      },
      "text/html": [
       "<div>\n",
       "<style scoped>\n",
       "    .dataframe tbody tr th:only-of-type {\n",
       "        vertical-align: middle;\n",
       "    }\n",
       "\n",
       "    .dataframe tbody tr th {\n",
       "        vertical-align: top;\n",
       "    }\n",
       "\n",
       "    .dataframe thead th {\n",
       "        text-align: right;\n",
       "    }\n",
       "</style>\n",
       "<table border=\"1\" class=\"dataframe\">\n",
       "  <thead>\n",
       "    <tr style=\"text-align: right;\">\n",
       "      <th></th>\n",
       "      <th>id</th>\n",
       "      <th>item_id</th>\n",
       "      <th>dept_id</th>\n",
       "      <th>cat_id</th>\n",
       "      <th>store_id</th>\n",
       "      <th>state_id</th>\n",
       "      <th>d_1</th>\n",
       "      <th>d_2</th>\n",
       "      <th>d_3</th>\n",
       "      <th>d_4</th>\n",
       "      <th>...</th>\n",
       "      <th>d_1932</th>\n",
       "      <th>d_1933</th>\n",
       "      <th>d_1934</th>\n",
       "      <th>d_1935</th>\n",
       "      <th>d_1936</th>\n",
       "      <th>d_1937</th>\n",
       "      <th>d_1938</th>\n",
       "      <th>d_1939</th>\n",
       "      <th>d_1940</th>\n",
       "      <th>d_1941</th>\n",
       "    </tr>\n",
       "  </thead>\n",
       "  <tbody>\n",
       "    <tr>\n",
       "      <th>0</th>\n",
       "      <td>HOBBIES_1_001_CA_1_evaluation</td>\n",
       "      <td>HOBBIES_1_001</td>\n",
       "      <td>HOBBIES_1</td>\n",
       "      <td>HOBBIES</td>\n",
       "      <td>CA_1</td>\n",
       "      <td>CA</td>\n",
       "      <td>0</td>\n",
       "      <td>0</td>\n",
       "      <td>0</td>\n",
       "      <td>0</td>\n",
       "      <td>...</td>\n",
       "      <td>2</td>\n",
       "      <td>4</td>\n",
       "      <td>0</td>\n",
       "      <td>0</td>\n",
       "      <td>0</td>\n",
       "      <td>0</td>\n",
       "      <td>3</td>\n",
       "      <td>3</td>\n",
       "      <td>0</td>\n",
       "      <td>1</td>\n",
       "    </tr>\n",
       "    <tr>\n",
       "      <th>1</th>\n",
       "      <td>HOBBIES_1_002_CA_1_evaluation</td>\n",
       "      <td>HOBBIES_1_002</td>\n",
       "      <td>HOBBIES_1</td>\n",
       "      <td>HOBBIES</td>\n",
       "      <td>CA_1</td>\n",
       "      <td>CA</td>\n",
       "      <td>0</td>\n",
       "      <td>0</td>\n",
       "      <td>0</td>\n",
       "      <td>0</td>\n",
       "      <td>...</td>\n",
       "      <td>0</td>\n",
       "      <td>1</td>\n",
       "      <td>2</td>\n",
       "      <td>1</td>\n",
       "      <td>1</td>\n",
       "      <td>0</td>\n",
       "      <td>0</td>\n",
       "      <td>0</td>\n",
       "      <td>0</td>\n",
       "      <td>0</td>\n",
       "    </tr>\n",
       "    <tr>\n",
       "      <th>2</th>\n",
       "      <td>HOBBIES_1_003_CA_1_evaluation</td>\n",
       "      <td>HOBBIES_1_003</td>\n",
       "      <td>HOBBIES_1</td>\n",
       "      <td>HOBBIES</td>\n",
       "      <td>CA_1</td>\n",
       "      <td>CA</td>\n",
       "      <td>0</td>\n",
       "      <td>0</td>\n",
       "      <td>0</td>\n",
       "      <td>0</td>\n",
       "      <td>...</td>\n",
       "      <td>1</td>\n",
       "      <td>0</td>\n",
       "      <td>2</td>\n",
       "      <td>0</td>\n",
       "      <td>0</td>\n",
       "      <td>0</td>\n",
       "      <td>2</td>\n",
       "      <td>3</td>\n",
       "      <td>0</td>\n",
       "      <td>1</td>\n",
       "    </tr>\n",
       "    <tr>\n",
       "      <th>3</th>\n",
       "      <td>HOBBIES_1_004_CA_1_evaluation</td>\n",
       "      <td>HOBBIES_1_004</td>\n",
       "      <td>HOBBIES_1</td>\n",
       "      <td>HOBBIES</td>\n",
       "      <td>CA_1</td>\n",
       "      <td>CA</td>\n",
       "      <td>0</td>\n",
       "      <td>0</td>\n",
       "      <td>0</td>\n",
       "      <td>0</td>\n",
       "      <td>...</td>\n",
       "      <td>1</td>\n",
       "      <td>1</td>\n",
       "      <td>0</td>\n",
       "      <td>4</td>\n",
       "      <td>0</td>\n",
       "      <td>1</td>\n",
       "      <td>3</td>\n",
       "      <td>0</td>\n",
       "      <td>2</td>\n",
       "      <td>6</td>\n",
       "    </tr>\n",
       "    <tr>\n",
       "      <th>4</th>\n",
       "      <td>HOBBIES_1_005_CA_1_evaluation</td>\n",
       "      <td>HOBBIES_1_005</td>\n",
       "      <td>HOBBIES_1</td>\n",
       "      <td>HOBBIES</td>\n",
       "      <td>CA_1</td>\n",
       "      <td>CA</td>\n",
       "      <td>0</td>\n",
       "      <td>0</td>\n",
       "      <td>0</td>\n",
       "      <td>0</td>\n",
       "      <td>...</td>\n",
       "      <td>0</td>\n",
       "      <td>0</td>\n",
       "      <td>0</td>\n",
       "      <td>2</td>\n",
       "      <td>1</td>\n",
       "      <td>0</td>\n",
       "      <td>0</td>\n",
       "      <td>2</td>\n",
       "      <td>1</td>\n",
       "      <td>0</td>\n",
       "    </tr>\n",
       "  </tbody>\n",
       "</table>\n",
       "<p>5 rows × 1947 columns</p>\n",
       "</div>"
      ],
      "text/plain": [
       "                              id        item_id    dept_id   cat_id store_id  \\\n",
       "0  HOBBIES_1_001_CA_1_evaluation  HOBBIES_1_001  HOBBIES_1  HOBBIES     CA_1   \n",
       "1  HOBBIES_1_002_CA_1_evaluation  HOBBIES_1_002  HOBBIES_1  HOBBIES     CA_1   \n",
       "2  HOBBIES_1_003_CA_1_evaluation  HOBBIES_1_003  HOBBIES_1  HOBBIES     CA_1   \n",
       "3  HOBBIES_1_004_CA_1_evaluation  HOBBIES_1_004  HOBBIES_1  HOBBIES     CA_1   \n",
       "4  HOBBIES_1_005_CA_1_evaluation  HOBBIES_1_005  HOBBIES_1  HOBBIES     CA_1   \n",
       "\n",
       "  state_id  d_1  d_2  d_3  d_4  ...  d_1932  d_1933  d_1934  d_1935  d_1936  \\\n",
       "0       CA    0    0    0    0  ...       2       4       0       0       0   \n",
       "1       CA    0    0    0    0  ...       0       1       2       1       1   \n",
       "2       CA    0    0    0    0  ...       1       0       2       0       0   \n",
       "3       CA    0    0    0    0  ...       1       1       0       4       0   \n",
       "4       CA    0    0    0    0  ...       0       0       0       2       1   \n",
       "\n",
       "   d_1937  d_1938  d_1939  d_1940  d_1941  \n",
       "0       0       3       3       0       1  \n",
       "1       0       0       0       0       0  \n",
       "2       0       2       3       0       1  \n",
       "3       1       3       0       2       6  \n",
       "4       0       0       2       1       0  \n",
       "\n",
       "[5 rows x 1947 columns]"
      ]
     },
     "metadata": {},
     "output_type": "display_data"
    }
   ],
   "source": [
    "display(train_df.head())"
   ]
  },
  {
   "cell_type": "code",
   "execution_count": null,
   "metadata": {},
   "outputs": [
    {
     "name": "stdout",
     "output_type": "stream",
     "text": [
      "Create Grid\n",
      "Train rows: 30490 59181090\n",
      "    Original grid_df:   3.6GiB\n",
      "     Reduced grid_df:   1.3GiB\n"
     ]
    }
   ],
   "source": [
    "print('Create Grid')\n",
    "index_columns = ['id','item_id','dept_id','cat_id','store_id','state_id']\n",
    "grid_df = pd.melt(train_df, \n",
    "                  id_vars = index_columns, \n",
    "                  var_name = 'd', \n",
    "                  value_name = TARGET)\n",
    "\n",
    "\n",
    "print('Train rows:', len(train_df), len(grid_df))\n",
    "\n",
    "add_grid = pd.DataFrame()\n",
    "for i in range(1,29):\n",
    "    temp_df = train_df[index_columns]\n",
    "    temp_df = temp_df.drop_duplicates()\n",
    "    temp_df['d'] = 'd_'+ str(END_TRAIN+i)\n",
    "    temp_df[TARGET] = np.nan\n",
    "    add_grid = pd.concat([add_grid,temp_df])\n",
    "\n",
    "grid_df = pd.concat([grid_df,add_grid])\n",
    "grid_df = grid_df.reset_index(drop=True)\n",
    "\n",
    "print(\"{:>20}: {:>8}\".format('Original grid_df',sizeof_fmt(grid_df.memory_usage(index=True).sum())))\n",
    "\n",
    "for col in index_columns:\n",
    "    grid_df[col] = grid_df[col].astype('category')\n",
    "\n",
    "print(\"{:>20}: {:>8}\".format('Reduced grid_df',sizeof_fmt(grid_df.memory_usage(index=True).sum())))"
   ]
  },
  {
   "cell_type": "code",
   "execution_count": null,
   "metadata": {},
   "outputs": [
    {
     "name": "stdout",
     "output_type": "stream",
     "text": [
      "Release week\n",
      "    Original grid_df:   1.8GiB\n",
      "     Reduced grid_df:   1.5GiB\n"
     ]
    }
   ],
   "source": [
    "print('Release week')\n",
    "\n",
    "\n",
    "release_df = prices_df.groupby(['store_id','item_id'])['wm_yr_wk'].agg(['min']).reset_index()\n",
    "release_df.columns = ['store_id','item_id','release']\n",
    "\n",
    "grid_df = merge_by_concat(grid_df, release_df, ['store_id','item_id'])\n",
    "del release_df\n",
    "\n",
    "grid_df = merge_by_concat(grid_df, calendar_df[['wm_yr_wk','d']], ['d'])\n",
    "                      \n",
    "grid_df = grid_df[grid_df['wm_yr_wk']>=grid_df['release']]\n",
    "grid_df = grid_df.reset_index(drop=True)\n",
    "\n",
    "print(\"{:>20}: {:>8}\".format('Original grid_df',sizeof_fmt(grid_df.memory_usage(index=True).sum())))\n",
    "\n",
    "grid_df['release'] = grid_df['release'] - grid_df['release'].min()\n",
    "grid_df['release'] = grid_df['release'].astype(np.int16)\n",
    "\n",
    "print(\"{:>20}: {:>8}\".format('Reduced grid_df',sizeof_fmt(grid_df.memory_usage(index=True).sum())))"
   ]
  },
  {
   "cell_type": "code",
   "execution_count": null,
   "metadata": {},
   "outputs": [
    {
     "name": "stdout",
     "output_type": "stream",
     "text": [
      "Save Part 1\n",
      "Size: (47735397, 10)\n"
     ]
    }
   ],
   "source": [
    "print('Save Part 1')\n",
    "\n",
    "grid_df.to_pickle(preprocessed_path+'grid_part_1.pkl')\n",
    "\n",
    "print('Size:', grid_df.shape)"
   ]
  },
  {
   "cell_type": "code",
   "execution_count": null,
   "metadata": {},
   "outputs": [
    {
     "name": "stdout",
     "output_type": "stream",
     "text": [
      "Prices\n"
     ]
    }
   ],
   "source": [
    "print('Prices')\n",
    "\n",
    "prices_df['price_max'] = prices_df.groupby(['store_id','item_id'])['sell_price'].transform('max')\n",
    "prices_df['price_min'] = prices_df.groupby(['store_id','item_id'])['sell_price'].transform('min')\n",
    "prices_df['price_std'] = prices_df.groupby(['store_id','item_id'])['sell_price'].transform('std')\n",
    "prices_df['price_mean'] = prices_df.groupby(['store_id','item_id'])['sell_price'].transform('mean')\n",
    "\n",
    "prices_df['price_norm'] = prices_df['sell_price']/prices_df['price_max']\n",
    "\n",
    "\n",
    "prices_df['price_nunique'] = prices_df.groupby(['store_id','item_id'])['sell_price'].transform('nunique') \n",
    "prices_df['item_nunique'] = prices_df.groupby(['store_id','sell_price'])['item_id'].transform('nunique')\n",
    "\n",
    "calendar_prices = calendar_df[['wm_yr_wk','month','year']]\n",
    "calendar_prices = calendar_prices.drop_duplicates(subset=['wm_yr_wk'])\n",
    "prices_df = prices_df.merge(calendar_prices[['wm_yr_wk','month','year']], on=['wm_yr_wk'], how='left')\n",
    "\n",
    "prices_df['price_momentum'] = prices_df['sell_price']/prices_df.groupby(['store_id','item_id'])['sell_price'].transform(lambda x: x.shift(1))\n",
    "prices_df['price_momentum_m'] = prices_df['sell_price']/prices_df.groupby(['store_id','item_id','month'])['sell_price'].transform('mean')\n",
    "prices_df['price_momentum_y'] = prices_df['sell_price']/prices_df.groupby(['store_id','item_id','year'])['sell_price'].transform('mean')"
   ]
  },
  {
   "cell_type": "code",
   "execution_count": 15,
   "metadata": {},
   "outputs": [
    {
     "name": "stdout",
     "output_type": "stream",
     "text": [
      "Mem. usage decreased to 1002.86 Mb (35.3% reduction)\n",
      "Mem. usage decreased to 254.44 Mb (65.2% reduction)\n"
     ]
    }
   ],
   "source": [
    "grid_df = reduce_mem_usage(grid_df)\n",
    "prices_df = reduce_mem_usage(prices_df)"
   ]
  },
  {
   "cell_type": "code",
   "execution_count": null,
   "metadata": {},
   "outputs": [
    {
     "name": "stdout",
     "output_type": "stream",
     "text": [
      "Merge prices and save part 2\n",
      "Mem. usage decreased to 1412.49 Mb (0.0% reduction)\n",
      "Size: (47735397, 13)\n"
     ]
    }
   ],
   "source": [
    "print('Merge prices and save part 2')\n",
    "\n",
    "original_columns = list(grid_df)\n",
    "grid_df = grid_df.merge(prices_df, on=['store_id','item_id','wm_yr_wk'], how='left')\n",
    "keep_columns = [col for col in list(grid_df) if col not in original_columns]\n",
    "grid_df = grid_df[MAIN_INDEX+keep_columns]\n",
    "grid_df = reduce_mem_usage(grid_df)\n",
    "\n",
    "grid_df.to_pickle(preprocessed_path+'grid_part_2.pkl')\n",
    "print('Size:', grid_df.shape)"
   ]
  },
  {
   "cell_type": "code",
   "execution_count": null,
   "metadata": {},
   "outputs": [],
   "source": [
    "grid_df = pd.read_pickle(preprocessed_path+'grid_part_1.pkl')"
   ]
  },
  {
   "cell_type": "code",
   "execution_count": null,
   "metadata": {},
   "outputs": [],
   "source": [
    "grid_df = grid_df[MAIN_INDEX]\n",
    "\n",
    "icols = ['date',\n",
    "         'd',\n",
    "         'event_name_1',\n",
    "         'event_type_1',\n",
    "         'event_name_2',\n",
    "         'event_type_2',\n",
    "         'snap_CA',\n",
    "         'snap_TX',\n",
    "         'snap_WI']\n",
    "\n",
    "grid_df = grid_df.merge(calendar_df[icols], on=['d'], how='left')\n",
    "\n",
    "icols = ['event_name_1',\n",
    "         'event_type_1',\n",
    "         'event_name_2',\n",
    "         'event_type_2',\n",
    "         'snap_CA',\n",
    "         'snap_TX',\n",
    "         'snap_WI']\n",
    "for col in icols:\n",
    "    grid_df[col] = grid_df[col].astype('category')\n",
    "\n",
    "grid_df['date'] = pd.to_datetime(grid_df['date'])\n",
    "\n",
    "grid_df['tm_d'] = grid_df['date'].dt.day.astype(np.int8)\n",
    "grid_df['tm_w'] = grid_df['date'].dt.isocalendar().week.astype(np.int8)\n",
    "grid_df['tm_m'] = grid_df['date'].dt.month.astype(np.int8)\n",
    "grid_df['tm_y'] = grid_df['date'].dt.year\n",
    "grid_df['tm_y'] = (grid_df['tm_y'] - grid_df['tm_y'].min()).astype(np.int8)\n",
    "grid_df['tm_wm'] = grid_df['tm_d'].apply(lambda x: ceil(x/7)).astype(np.int8)\n",
    "\n",
    "grid_df['tm_dw'] = grid_df['date'].dt.dayofweek.astype(np.int8) \n",
    "grid_df['tm_w_end'] = (grid_df['tm_dw']>=5).astype(np.int8)"
   ]
  },
  {
   "cell_type": "code",
   "execution_count": null,
   "metadata": {},
   "outputs": [
    {
     "name": "stdout",
     "output_type": "stream",
     "text": [
      "Save part 3\n",
      "Size: (47735397, 16)\n"
     ]
    }
   ],
   "source": [
    "print('Save part 3')\n",
    "\n",
    "grid_df.to_pickle(preprocessed_path+'grid_part_3.pkl')\n",
    "print('Size:', grid_df.shape)"
   ]
  },
  {
   "cell_type": "code",
   "execution_count": null,
   "metadata": {},
   "outputs": [],
   "source": [
    "grid_df = pd.read_pickle(preprocessed_path+'grid_part_1.pkl')\n",
    "grid_df['d'] = grid_df['d'].apply(lambda x: x[2:]).astype(np.int16)\n",
    "\n",
    "grid_df.to_pickle(preprocessed_path+'grid_part_1.pkl')"
   ]
  },
  {
   "cell_type": "code",
   "execution_count": null,
   "metadata": {},
   "outputs": [
    {
     "name": "stdout",
     "output_type": "stream",
     "text": [
      "Create lags\n",
      "7.14 min: Lags\n",
      "Create rolling aggs\n",
      "Rolling period: 7\n",
      "Rolling period: 14\n",
      "Rolling period: 30\n",
      "Rolling period: 60\n",
      "Rolling period: 180\n",
      "Shifting period: 1\n",
      "Shifting period: 7\n",
      "Shifting period: 14\n",
      "8.63 min: Lags\n"
     ]
    }
   ],
   "source": [
    "grid_df = pd.read_pickle(preprocessed_path+'grid_part_1.pkl')\n",
    "\n",
    "grid_df = grid_df[['id','d','sales']]\n",
    "SHIFT_DAY = 28\n",
    "\n",
    "start_time = time.time()\n",
    "print('Create lags')\n",
    "\n",
    "LAG_DAYS = [col for col in range(SHIFT_DAY,SHIFT_DAY+15)]\n",
    "grid_df = grid_df.assign(**{\n",
    "        '{}_lag_{}'.format(col, l): grid_df.groupby(['id'])[col].transform(lambda x: x.shift(l))\n",
    "        for l in LAG_DAYS\n",
    "        for col in [TARGET]\n",
    "    })\n",
    "\n",
    "for col in list(grid_df):\n",
    "    if 'lag' in col:\n",
    "        grid_df[col] = grid_df[col].astype(np.float16)\n",
    "\n",
    "print('%0.2f min: Lags' % ((time.time() - start_time) / 60))\n",
    "\n",
    "start_time = time.time()\n",
    "print('Create rolling aggs')\n",
    "\n",
    "for i in [7,14,30,60,180]:\n",
    "    print('Rolling period:', i)\n",
    "    grid_df['rolling_mean_'+str(i)] = grid_df.groupby(['id'])[TARGET].transform(lambda x: x.shift(SHIFT_DAY).rolling(i).mean()).astype(np.float16)\n",
    "    grid_df['rolling_std_'+str(i)]  = grid_df.groupby(['id'])[TARGET].transform(lambda x: x.shift(SHIFT_DAY).rolling(i).std()).astype(np.float16)\n",
    "\n",
    "for d_shift in [1,7,14]: \n",
    "    print('Shifting period:', d_shift)\n",
    "    for d_window in [7,14,30,60]:\n",
    "        col_name = 'rolling_mean_tmp_'+str(d_shift)+'_'+str(d_window)\n",
    "        grid_df[col_name] = grid_df.groupby(['id'])[TARGET].transform(lambda x: x.shift(d_shift).rolling(d_window).mean()).astype(np.float16)\n",
    "    \n",
    "    \n",
    "print('%0.2f min: Lags' % ((time.time() - start_time) / 60))"
   ]
  },
  {
   "cell_type": "code",
   "execution_count": null,
   "metadata": {},
   "outputs": [
    {
     "name": "stdout",
     "output_type": "stream",
     "text": [
      "Save lags and rollings\n"
     ]
    }
   ],
   "source": [
    "print('Save lags and rollings')\n",
    "grid_df.to_pickle(preprocessed_path+'lags_df_'+str(SHIFT_DAY)+'.pkl')"
   ]
  },
  {
   "cell_type": "code",
   "execution_count": null,
   "metadata": {},
   "outputs": [
    {
     "name": "stdout",
     "output_type": "stream",
     "text": [
      "Encoding ['state_id']\n",
      "Encoding ['store_id']\n",
      "Encoding ['cat_id']\n",
      "Encoding ['dept_id']\n",
      "Encoding ['state_id', 'cat_id']\n",
      "Encoding ['state_id', 'dept_id']\n",
      "Encoding ['store_id', 'cat_id']\n",
      "Encoding ['store_id', 'dept_id']\n",
      "Encoding ['item_id']\n",
      "Encoding ['item_id', 'state_id']\n",
      "Encoding ['item_id', 'store_id']\n"
     ]
    }
   ],
   "source": [
    "grid_df = pd.read_pickle(preprocessed_path+'grid_part_1.pkl')\n",
    "grid_df['sales'][grid_df['d']>(1941-28)] = np.nan\n",
    "base_cols = list(grid_df)\n",
    "\n",
    "icols =  [\n",
    "            ['state_id'],\n",
    "            ['store_id'],\n",
    "            ['cat_id'],\n",
    "            ['dept_id'],\n",
    "            ['state_id', 'cat_id'],\n",
    "            ['state_id', 'dept_id'],\n",
    "            ['store_id', 'cat_id'],\n",
    "            ['store_id', 'dept_id'],\n",
    "            ['item_id'],\n",
    "            ['item_id', 'state_id'],\n",
    "            ['item_id', 'store_id']\n",
    "            ]\n",
    "\n",
    "for col in icols:\n",
    "    print('Encoding', col)\n",
    "    col_name = '_'+'_'.join(col)+'_'\n",
    "    grid_df['enc'+col_name+'mean'] = grid_df.groupby(col)['sales'].transform('mean').astype(np.float16)\n",
    "    grid_df['enc'+col_name+'std'] = grid_df.groupby(col)['sales'].transform('std').astype(np.float16)\n",
    "\n",
    "keep_cols = [col for col in list(grid_df) if col not in base_cols]\n",
    "grid_df = grid_df[['id','d']+keep_cols]"
   ]
  },
  {
   "cell_type": "code",
   "execution_count": null,
   "metadata": {},
   "outputs": [
    {
     "name": "stdout",
     "output_type": "stream",
     "text": [
      "Save Mean/Std encoding\n"
     ]
    }
   ],
   "source": [
    "print('Save Mean/Std encoding')\n",
    "grid_df.to_pickle(preprocessed_path+'mean_encoding_df.pkl')"
   ]
  }
 ],
 "metadata": {
  "kernelspec": {
   "display_name": "bioinfo",
   "language": "python",
   "name": "python3"
  },
  "language_info": {
   "codemirror_mode": {
    "name": "ipython",
    "version": 3
   },
   "file_extension": ".py",
   "mimetype": "text/x-python",
   "name": "python",
   "nbconvert_exporter": "python",
   "pygments_lexer": "ipython3",
   "version": "3.11.11"
  }
 },
 "nbformat": 4,
 "nbformat_minor": 2
}
